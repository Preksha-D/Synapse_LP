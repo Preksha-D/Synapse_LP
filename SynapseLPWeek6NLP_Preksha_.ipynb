{
  "cells": [
    {
      "cell_type": "markdown",
      "metadata": {
        "id": "view-in-github",
        "colab_type": "text"
      },
      "source": [
        "<a href=\"https://colab.research.google.com/github/Preksha-D/Synapse_LP/blob/week6/SynapseLPWeek6NLP_Preksha_.ipynb\" target=\"_parent\"><img src=\"https://colab.research.google.com/assets/colab-badge.svg\" alt=\"Open In Colab\"/></a>"
      ]
    },
    {
      "cell_type": "markdown",
      "metadata": {
        "id": "yJZzWLMF1ECo"
      },
      "source": [
        "# **NLP Task 1**\n",
        "\n",
        "## **DJS Synapse Learning Period**\n",
        "![image.png](data:image/png;base64,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)"
      ]
    },
    {
      "cell_type": "markdown",
      "metadata": {
        "id": "wVoh5T6q0pL9"
      },
      "source": [
        "**This task has various theory questions to be answered here and there. We want y'all to go on Google or any other source and research about the same. Don't miss out on those, as they will make y'all conceptually stronger, and give a better understanding.**"
      ]
    },
    {
      "cell_type": "markdown",
      "metadata": {
        "id": "CGqyK15F8zEO"
      },
      "source": [
        "#**Why NLP?**\n",
        "Natural language cannot be directly understood by the computer, hence we try to convert it into numerical formats which are understood by the computer and can also retain the semantics of the language.\n",
        "\n",
        "For this task, we will first look at the way text is preprocessed to optimize  its representation. Next, we will explore the various ways text can be processed and converted into vector representations that describe the context of that text in the best way possible."
      ]
    },
    {
      "cell_type": "markdown",
      "metadata": {
        "id": "0VTP1xx5hDO8"
      },
      "source": [
        "# **NLTK- Natural Language toolkit**\n",
        "Natural language processing (NLP) is a field that focuses on making natural human language usable by computer programs. NLTK, or Natural Language Toolkit, is a Python package that you can use for NLP.\n",
        "\n",
        "NLTK documentation: https://www.nltk.org/"
      ]
    },
    {
      "cell_type": "code",
      "execution_count": null,
      "metadata": {
        "id": "YhPSUJ8rhrt9"
      },
      "outputs": [],
      "source": [
        "#For people using jupyter notebook, you might have to install the NLTK package. For colab users, you won't have to do so.\n",
        "#!pip install nltk"
      ]
    },
    {
      "cell_type": "code",
      "execution_count": null,
      "metadata": {
        "id": "EqnQ3mee8prf"
      },
      "outputs": [],
      "source": [
        "par = \"\"\"\n",
        "Natural language processing (NLP) refers to the branch of computer science—and more specifically, the branch of artificial intelligence or AI—concerned with giving computers the ability to understand text and spoken words in much the same way human beings can.\n",
        "\n",
        "NLP combines computational linguistics—rule-based modeling of human language—with statistical, machine learning, and deep learning models. Together, these technologies enable computers to process human language in the form of text or voice data and to ‘understand’ its full meaning, complete with the speaker or writer’s intent and sentiment.\n",
        "\n",
        "NLP drives computer programs that translate text from one language to another, respond to spoken commands, and summarize large volumes of text rapidly—even in real time. There’s a good chance you’ve interacted with NLP in the form of voice-operated GPS systems, digital assistants, speech-to-text dictation software, customer service chatbots, and other consumer conveniences. But NLP also plays a growing role in enterprise solutions that help streamline business operations, increase employee productivity, and simplify mission-critical business processes.\n",
        "\n",
        "Moreover, NLP technologies are increasingly being applied in fields such as healthcare, where they assist in analyzing patient data, extracting relevant information from medical literature, and facilitating improved patient-provider communication. In the realm of finance, NLP is utilized for sentiment analysis in market research, helping investors gauge public sentiment toward companies or financial products.\n",
        "\n",
        "The evolution of NLP has also led to significant advancements in areas such as content creation, where AI-generated text can support writers and marketers in generating ideas or even drafting articles. As ethical considerations surrounding AI usage become more prominent, NLP is also being developed with a focus on bias detection and mitigation, ensuring that language models reflect fairness and inclusivity.\n",
        "\n",
        "As research continues to advance, the potential applications of NLP are vast, ranging from personalized education and legal document analysis to enhanced accessibility for individuals with disabilities. The ongoing integration of NLP into various industries signifies not only a technological revolution but also a fundamental shift in how we interact with machines and how they comprehend human language.\n",
        "\"\"\""
      ]
    },
    {
      "cell_type": "code",
      "execution_count": null,
      "metadata": {
        "id": "OuMtIf9wX9wj"
      },
      "outputs": [],
      "source": [
        "import nltk\n",
        "import re\n",
        "import pandas as pd\n",
        "from nltk.stem import PorterStemmer\n",
        "from nltk.corpus import stopwords\n",
        "import numpy as np #damn numpy kaha se aa gaya"
      ]
    },
    {
      "cell_type": "code",
      "execution_count": null,
      "metadata": {
        "colab": {
          "base_uri": "https://localhost:8080/"
        },
        "id": "jZft-ngkaqnq",
        "outputId": "cd7bae5c-348e-422b-bc55-38d9eb25dadf"
      },
      "outputs": [
        {
          "output_type": "stream",
          "name": "stderr",
          "text": [
            "[nltk_data] Downloading package punkt to /root/nltk_data...\n",
            "[nltk_data]   Unzipping tokenizers/punkt.zip.\n",
            "[nltk_data] Downloading package stopwords to /root/nltk_data...\n",
            "[nltk_data]   Unzipping corpora/stopwords.zip.\n",
            "[nltk_data] Downloading package wordnet to /root/nltk_data...\n",
            "[nltk_data] Downloading package omw-1.4 to /root/nltk_data...\n"
          ]
        },
        {
          "output_type": "execute_result",
          "data": {
            "text/plain": [
              "True"
            ]
          },
          "metadata": {},
          "execution_count": 5
        }
      ],
      "source": [
        "nltk.download('punkt')\n",
        "nltk.download('stopwords')\n",
        "nltk.download('wordnet')\n",
        "nltk.download('omw-1.4')"
      ]
    },
    {
      "cell_type": "code",
      "execution_count": null,
      "metadata": {
        "colab": {
          "base_uri": "https://localhost:8080/"
        },
        "id": "XYtksrl4UBRW",
        "outputId": "83de72eb-7f3b-46d3-f7e1-0633fe9702cd"
      },
      "outputs": [
        {
          "output_type": "stream",
          "name": "stderr",
          "text": [
            "[nltk_data] Downloading package punkt_tab to /root/nltk_data...\n",
            "[nltk_data]   Unzipping tokenizers/punkt_tab.zip.\n"
          ]
        }
      ],
      "source": [
        "# Sentence tokenize your paragraph, check nltk for a suitable function to do so\n",
        "nltk.download('punkt_tab')\n",
        "\n",
        "from nltk.tokenize import sent_tokenize\n",
        "sen = sent_tokenize(par)"
      ]
    },
    {
      "cell_type": "code",
      "execution_count": null,
      "metadata": {
        "id": "iiPpxtExa_Nc"
      },
      "outputs": [],
      "source": [
        "stemmer = PorterStemmer()"
      ]
    },
    {
      "cell_type": "code",
      "execution_count": null,
      "metadata": {
        "id": "vNt2X24Aa_KK"
      },
      "outputs": [],
      "source": [
        "from nltk.stem import WordNetLemmatizer\n",
        "lemmatizer = WordNetLemmatizer()"
      ]
    },
    {
      "cell_type": "code",
      "execution_count": null,
      "metadata": {
        "id": "hww7aWI1a_HN"
      },
      "outputs": [],
      "source": [
        "# Remove unnecessary characters (hint: use regex) and change the case of the sentences to lower case\n",
        "# Add your code here\n",
        "\n",
        "up_sen = []\n",
        "for newsen in sen:\n",
        "  newsen = newsen.lower()\n",
        "  newsen = re.sub(r'[^a-z\\s]', '', newsen)\n",
        "  up_sen.append(newsen)\n"
      ]
    },
    {
      "cell_type": "code",
      "execution_count": null,
      "metadata": {
        "colab": {
          "base_uri": "https://localhost:8080/"
        },
        "id": "GUVdLX49UPyG",
        "outputId": "847c162c-570b-4f88-db5a-54935eb920bb"
      },
      "outputs": [
        {
          "output_type": "execute_result",
          "data": {
            "text/plain": [
              "['\\nnatural language processing nlp refers to the branch of computer scienceand more specifically the branch of artificial intelligence or aiconcerned with giving computers the ability to understand text and spoken words in much the same way human beings can',\n",
              " 'nlp combines computational linguisticsrulebased modeling of human languagewith statistical machine learning and deep learning models',\n",
              " 'together these technologies enable computers to process human language in the form of text or voice data and to understand its full meaning complete with the speaker or writers intent and sentiment',\n",
              " 'nlp drives computer programs that translate text from one language to another respond to spoken commands and summarize large volumes of text rapidlyeven in real time',\n",
              " 'theres a good chance youve interacted with nlp in the form of voiceoperated gps systems digital assistants speechtotext dictation software customer service chatbots and other consumer conveniences',\n",
              " 'but nlp also plays a growing role in enterprise solutions that help streamline business operations increase employee productivity and simplify missioncritical business processes',\n",
              " 'moreover nlp technologies are increasingly being applied in fields such as healthcare where they assist in analyzing patient data extracting relevant information from medical literature and facilitating improved patientprovider communication',\n",
              " 'in the realm of finance nlp is utilized for sentiment analysis in market research helping investors gauge public sentiment toward companies or financial products',\n",
              " 'the evolution of nlp has also led to significant advancements in areas such as content creation where aigenerated text can support writers and marketers in generating ideas or even drafting articles',\n",
              " 'as ethical considerations surrounding ai usage become more prominent nlp is also being developed with a focus on bias detection and mitigation ensuring that language models reflect fairness and inclusivity',\n",
              " 'as research continues to advance the potential applications of nlp are vast ranging from personalized education and legal document analysis to enhanced accessibility for individuals with disabilities',\n",
              " 'the ongoing integration of nlp into various industries signifies not only a technological revolution but also a fundamental shift in how we interact with machines and how they comprehend human language']"
            ]
          },
          "metadata": {},
          "execution_count": 10
        }
      ],
      "source": [
        "#Check how your paragraph looks so far\n",
        "up_sen"
      ]
    },
    {
      "cell_type": "markdown",
      "metadata": {
        "id": "JEFOBLf1mIyN"
      },
      "source": [
        "## Stemming"
      ]
    },
    {
      "cell_type": "markdown",
      "metadata": {
        "id": "tzoSqxB-1Vl2"
      },
      "source": [
        "**What is Stemming?** <br>\n",
        "Ans: Process of getting data into the root form, looking past the prefixes and suffixes. for eg. changes, changed both come from word change"
      ]
    },
    {
      "cell_type": "code",
      "execution_count": null,
      "metadata": {
        "id": "yRI0zXLSa-hh"
      },
      "outputs": [],
      "source": [
        "# Create a word corpus from the sentences using word tokenization and stemming. Also, remember to avoid adding stopwords to your corpus\n",
        "# Add your code here\n",
        "from nltk.tokenize import word_tokenize\n",
        "from nltk.corpus import stopwords\n",
        "\n",
        "stop_words = set(stopwords.words('english'))\n",
        "corpus = []\n",
        "for sen in up_sen:\n",
        "  words = word_tokenize(sen)\n",
        "  for w in words:\n",
        "    if w not in stop_words:\n",
        "      stemmed_word = stemmer.stem(w)\n",
        "      corpus.append(stemmed_word)\n",
        "\n"
      ]
    },
    {
      "cell_type": "code",
      "execution_count": null,
      "metadata": {
        "colab": {
          "base_uri": "https://localhost:8080/"
        },
        "id": "jS99tEoxfAtl",
        "outputId": "c62e0d65-70ae-46a0-9a0b-4278b6b01b25"
      },
      "outputs": [
        {
          "output_type": "stream",
          "name": "stdout",
          "text": [
            "['natur', 'languag', 'process', 'nlp', 'refer', 'branch', 'comput', 'scienceand', 'specif', 'branch', 'artifici', 'intellig', 'aiconcern', 'give', 'comput', 'abil', 'understand', 'text', 'spoken', 'word', 'much', 'way', 'human', 'be', 'nlp', 'combin', 'comput', 'linguisticsrulebas', 'model', 'human', 'languagewith', 'statist', 'machin', 'learn', 'deep', 'learn', 'model', 'togeth', 'technolog', 'enabl', 'comput', 'process', 'human', 'languag', 'form', 'text', 'voic', 'data', 'understand', 'full', 'mean', 'complet', 'speaker', 'writer', 'intent', 'sentiment', 'nlp', 'drive', 'comput', 'program', 'translat', 'text', 'one', 'languag', 'anoth', 'respond', 'spoken', 'command', 'summar', 'larg', 'volum', 'text', 'rapidlyeven', 'real', 'time', 'there', 'good', 'chanc', 'youv', 'interact', 'nlp', 'form', 'voiceoper', 'gp', 'system', 'digit', 'assist', 'speechtotext', 'dictat', 'softwar', 'custom', 'servic', 'chatbot', 'consum', 'conveni', 'nlp', 'also', 'play', 'grow', 'role', 'enterpris', 'solut', 'help', 'streamlin', 'busi', 'oper', 'increas', 'employe', 'product', 'simplifi', 'missioncrit', 'busi', 'process', 'moreov', 'nlp', 'technolog', 'increasingli', 'appli', 'field', 'healthcar', 'assist', 'analyz', 'patient', 'data', 'extract', 'relev', 'inform', 'medic', 'literatur', 'facilit', 'improv', 'patientprovid', 'commun', 'realm', 'financ', 'nlp', 'util', 'sentiment', 'analysi', 'market', 'research', 'help', 'investor', 'gaug', 'public', 'sentiment', 'toward', 'compani', 'financi', 'product', 'evolut', 'nlp', 'also', 'led', 'signific', 'advanc', 'area', 'content', 'creation', 'aigener', 'text', 'support', 'writer', 'market', 'gener', 'idea', 'even', 'draft', 'articl', 'ethic', 'consider', 'surround', 'ai', 'usag', 'becom', 'promin', 'nlp', 'also', 'develop', 'focu', 'bia', 'detect', 'mitig', 'ensur', 'languag', 'model', 'reflect', 'fair', 'inclus', 'research', 'continu', 'advanc', 'potenti', 'applic', 'nlp', 'vast', 'rang', 'person', 'educ', 'legal', 'document', 'analysi', 'enhanc', 'access', 'individu', 'disabl', 'ongo', 'integr', 'nlp', 'variou', 'industri', 'signifi', 'technolog', 'revolut', 'also', 'fundament', 'shift', 'interact', 'machin', 'comprehend', 'human', 'languag']\n"
          ]
        }
      ],
      "source": [
        "print(corpus)"
      ]
    },
    {
      "cell_type": "markdown",
      "metadata": {
        "id": "jw3yCINAoSHk"
      },
      "source": [
        "## Lemmatization"
      ]
    },
    {
      "cell_type": "markdown",
      "metadata": {
        "id": "IOfvIgeQ2FqU"
      },
      "source": [
        "**What is Lemmatization?** <br>\n",
        "Ans:  Bring the words to the dictionary base word. so better and best are just good"
      ]
    },
    {
      "cell_type": "code",
      "execution_count": null,
      "metadata": {
        "id": "yKERsPf3fAqT"
      },
      "outputs": [],
      "source": [
        "# Create a second word corpus from the sentences using word tokenization and lemmatization. Also, remember to avoid adding stopwords to your new corpus\n",
        "# Add your code here\n",
        "\n",
        "corp2 = []\n",
        "for sen2 in up_sen:\n",
        "  words = word_tokenize(sen2)\n",
        "  for w in words:\n",
        "    if w not in stop_words:\n",
        "      lemmatized_word = lemmatizer.lemmatize(w)\n",
        "      corp2.append(lemmatized_word)"
      ]
    },
    {
      "cell_type": "code",
      "execution_count": null,
      "metadata": {
        "colab": {
          "base_uri": "https://localhost:8080/"
        },
        "id": "FOrsdhgNfAnl",
        "outputId": "91160744-7ab8-4e55-ba26-c0d6a9ec2904"
      },
      "outputs": [
        {
          "output_type": "stream",
          "name": "stdout",
          "text": [
            "['natural', 'language', 'processing', 'nlp', 'refers', 'branch', 'computer', 'scienceand', 'specifically', 'branch', 'artificial', 'intelligence', 'aiconcerned', 'giving', 'computer', 'ability', 'understand', 'text', 'spoken', 'word', 'much', 'way', 'human', 'being', 'nlp', 'combine', 'computational', 'linguisticsrulebased', 'modeling', 'human', 'languagewith', 'statistical', 'machine', 'learning', 'deep', 'learning', 'model', 'together', 'technology', 'enable', 'computer', 'process', 'human', 'language', 'form', 'text', 'voice', 'data', 'understand', 'full', 'meaning', 'complete', 'speaker', 'writer', 'intent', 'sentiment', 'nlp', 'drive', 'computer', 'program', 'translate', 'text', 'one', 'language', 'another', 'respond', 'spoken', 'command', 'summarize', 'large', 'volume', 'text', 'rapidlyeven', 'real', 'time', 'there', 'good', 'chance', 'youve', 'interacted', 'nlp', 'form', 'voiceoperated', 'gps', 'system', 'digital', 'assistant', 'speechtotext', 'dictation', 'software', 'customer', 'service', 'chatbots', 'consumer', 'convenience', 'nlp', 'also', 'play', 'growing', 'role', 'enterprise', 'solution', 'help', 'streamline', 'business', 'operation', 'increase', 'employee', 'productivity', 'simplify', 'missioncritical', 'business', 'process', 'moreover', 'nlp', 'technology', 'increasingly', 'applied', 'field', 'healthcare', 'assist', 'analyzing', 'patient', 'data', 'extracting', 'relevant', 'information', 'medical', 'literature', 'facilitating', 'improved', 'patientprovider', 'communication', 'realm', 'finance', 'nlp', 'utilized', 'sentiment', 'analysis', 'market', 'research', 'helping', 'investor', 'gauge', 'public', 'sentiment', 'toward', 'company', 'financial', 'product', 'evolution', 'nlp', 'also', 'led', 'significant', 'advancement', 'area', 'content', 'creation', 'aigenerated', 'text', 'support', 'writer', 'marketer', 'generating', 'idea', 'even', 'drafting', 'article', 'ethical', 'consideration', 'surrounding', 'ai', 'usage', 'become', 'prominent', 'nlp', 'also', 'developed', 'focus', 'bias', 'detection', 'mitigation', 'ensuring', 'language', 'model', 'reflect', 'fairness', 'inclusivity', 'research', 'continues', 'advance', 'potential', 'application', 'nlp', 'vast', 'ranging', 'personalized', 'education', 'legal', 'document', 'analysis', 'enhanced', 'accessibility', 'individual', 'disability', 'ongoing', 'integration', 'nlp', 'various', 'industry', 'signifies', 'technological', 'revolution', 'also', 'fundamental', 'shift', 'interact', 'machine', 'comprehend', 'human', 'language']\n"
          ]
        }
      ],
      "source": [
        "print(corp2)"
      ]
    },
    {
      "cell_type": "markdown",
      "metadata": {
        "id": "DK5xATuz2OeS"
      },
      "source": [
        "**What is the difference between stemming and lemmatization? Is one better than the other? If yes, justify your answer. If no, determine the usecases where these can be used.** <br>\n",
        "Ans: Stemming used to get root form by removing sufix and prefix of word. Used for serach engines\n",
        "Lemmatization used to get dictionary form. used for undertstadnig context like chatbox"
      ]
    },
    {
      "cell_type": "code",
      "execution_count": null,
      "metadata": {
        "colab": {
          "base_uri": "https://localhost:8080/"
        },
        "id": "c5iHKZMGMSvJ",
        "outputId": "a4a17bac-e620-4923-9c35-e48e7a495ef2"
      },
      "outputs": [
        {
          "output_type": "stream",
          "name": "stdout",
          "text": [
            "['natural language processing nlp refers branch computer scienceand specifically branch artificial intelligence aiconcerned giving computer ability understand text spoken word much way human being', 'nlp combine computational linguisticsrulebased modeling human languagewith statistical machine learning deep learning model', 'together technology enable computer process human language form text voice data understand full meaning complete speaker writer intent sentiment', 'nlp drive computer program translate text one language another respond spoken command summarize large volume text rapidlyeven real time', 'there good chance youve interacted nlp form voiceoperated gps system digital assistant speechtotext dictation software customer service chatbots consumer convenience', 'nlp also play growing role enterprise solution help streamline business operation increase employee productivity simplify missioncritical business process', 'moreover nlp technology increasingly applied field healthcare assist analyzing patient data extracting relevant information medical literature facilitating improved patientprovider communication', 'realm finance nlp utilized sentiment analysis market research helping investor gauge public sentiment toward company financial product', 'evolution nlp also led significant advancement area content creation aigenerated text support writer marketer generating idea even drafting article', 'ethical consideration surrounding ai usage become prominent nlp also developed focus bias detection mitigation ensuring language model reflect fairness inclusivity', 'research continues advance potential application nlp vast ranging personalized education legal document analysis enhanced accessibility individual disability', 'ongoing integration nlp various industry signifies technological revolution also fundamental shift interact machine comprehend human language']\n"
          ]
        }
      ],
      "source": [
        "# Include all steps of removal of unnecessary characters, lowering, word tokenization, lemmatization and stopwords removal in one function\n",
        "# Your final corpus should be a list of sentences, not a list of list of words (Why?)\n",
        "# Add your code here\n",
        "corp=[]\n",
        "for sen in up_sen:\n",
        "  newsen = re.sub(r'[^a-z\\s]', ' ', sen).lower()\n",
        "  words = word_tokenize(newsen)\n",
        "  lemmatized_words = [lemmatizer.lemmatize(w) for w in words if w not in stop_words]\n",
        "  newsen = ' '.join(lemmatized_words)\n",
        "  corp.append(newsen)\n",
        "print(corp)"
      ]
    },
    {
      "cell_type": "markdown",
      "metadata": {
        "id": "a2FwCaAq4X9S"
      },
      "source": [
        "# Count Vectorizer"
      ]
    },
    {
      "cell_type": "markdown",
      "metadata": {
        "id": "V-WsTk-o4bro"
      },
      "source": [
        "**What is the use of Count Vectorizer?** <br>\n",
        "Ans: method to convert text into numerical form"
      ]
    },
    {
      "cell_type": "code",
      "execution_count": null,
      "metadata": {
        "colab": {
          "base_uri": "https://localhost:8080/"
        },
        "id": "zZ2gQbRphZcR",
        "outputId": "39642f42-1068-446a-de9c-c68299a45d09"
      },
      "outputs": [
        {
          "output_type": "stream",
          "name": "stdout",
          "text": [
            "Vocabulary:  {'ability understand': 0, 'human language': 1, 'nlp also': 2, 'play growing': 7, 'play growing role': 8, 'patientprovider communication': 4, 'patient data extracting': 3, 'potential application': 9, 'personalized education': 5, 'personalized education legal': 6}\n"
          ]
        },
        {
          "output_type": "execute_result",
          "data": {
            "text/plain": [
              "{'ability understand': 0,\n",
              " 'human language': 1,\n",
              " 'nlp also': 2,\n",
              " 'play growing': 7,\n",
              " 'play growing role': 8,\n",
              " 'patientprovider communication': 4,\n",
              " 'patient data extracting': 3,\n",
              " 'potential application': 9,\n",
              " 'personalized education': 5,\n",
              " 'personalized education legal': 6}"
            ]
          },
          "metadata": {},
          "execution_count": 16
        }
      ],
      "source": [
        "from sklearn.feature_extraction.text import CountVectorizer\n",
        "cv = CountVectorizer(ngram_range=(2,3), max_features=10)\n",
        "x = cv.fit_transform(corp)\n",
        "print(\"Vocabulary: \", cv.vocabulary_)\n",
        "cv.vocabulary_"
      ]
    },
    {
      "cell_type": "markdown",
      "metadata": {
        "id": "XtmvD8A44pc3"
      },
      "source": [
        "**What do the hyperparameters ngram_range and max_features mean?** <br>\n",
        "Ans: ngram_range : in form (min, max) which is the range of ngrams to be extracted (no of words) so (1,1) is unigrams i.e 1 word. (1,2) give uni and bigrams i.e. 1 or 2 words\n",
        "\n",
        "max_features:  so the corpus is set in order of frequency and if max_features = 10, then the 10 most frequent terms are used"
      ]
    },
    {
      "cell_type": "markdown",
      "metadata": {
        "id": "UAoOvW_V9igv"
      },
      "source": [
        "**Explain any 3 more hyperparameters in detail.** <br>\n",
        "Ans: max_df : ignore terms with frequency higher than given and not include in it vocabulary.\n",
        "min_df: ignore terms with less frequncy than given\n",
        "analyser: determines whether feature is in word_gram or char_gram"
      ]
    },
    {
      "cell_type": "code",
      "execution_count": null,
      "metadata": {
        "colab": {
          "base_uri": "https://localhost:8080/",
          "height": 54
        },
        "id": "JYfmzSHiPFTC",
        "outputId": "1c0fe673-5b22-45db-d8a8-055cee67ebfb"
      },
      "outputs": [
        {
          "output_type": "execute_result",
          "data": {
            "text/plain": [
              "'natural language processing nlp refers branch computer scienceand specifically branch artificial intelligence aiconcerned giving computer ability understand text spoken word much way human being'"
            ],
            "application/vnd.google.colaboratory.intrinsic+json": {
              "type": "string"
            }
          },
          "metadata": {},
          "execution_count": 17
        }
      ],
      "source": [
        "corp[0]"
      ]
    },
    {
      "cell_type": "code",
      "execution_count": null,
      "metadata": {
        "colab": {
          "base_uri": "https://localhost:8080/"
        },
        "id": "V9nXo5NlnIX4",
        "outputId": "101610c7-92ec-4fad-f42c-b166048be5eb"
      },
      "outputs": [
        {
          "output_type": "execute_result",
          "data": {
            "text/plain": [
              "array([[1, 0, 0, 0, 0, 0, 0, 0, 0, 0]])"
            ]
          },
          "metadata": {},
          "execution_count": 18
        }
      ],
      "source": [
        "x[0].toarray()"
      ]
    },
    {
      "cell_type": "markdown",
      "metadata": {
        "id": "trv21AlBS2dB"
      },
      "source": [
        "# TF-IDF Vectorizer"
      ]
    },
    {
      "cell_type": "markdown",
      "metadata": {
        "id": "t58vvxFtAdGq"
      },
      "source": [
        "**Bonus:** Give an explanation of how a search engine like Google works. How does it know what results to show and how to order them?\n",
        "\n",
        "Ans:"
      ]
    },
    {
      "cell_type": "markdown",
      "metadata": {
        "id": "U0l1bOMR_dEC"
      },
      "source": [
        "TF-IDF measures the **importance** of words in a document and across a corpus.\n",
        "\n",
        "It can tell you how relevant a set of documents are to your query.\n",
        "It is useful in text representation (which we know is VERY important), information retrieval, keyword extraction, etc.\n",
        "\n",
        "This straightforward statistical method has suuper impressive results!"
      ]
    },
    {
      "cell_type": "markdown",
      "metadata": {
        "id": "xmiogbqpVov9"
      },
      "source": [
        "For some definitions to help:\n",
        "\n",
        "Token - represents the level of granularity at whcih we want to do our analysis. Here, it is a word.\n",
        "\n",
        "Lexicon - The set of all tokens in all documents. Say it is of length l.\n",
        "\n",
        "Vectors - MATRICES WITH ONE COLUMN"
      ]
    },
    {
      "cell_type": "code",
      "execution_count": null,
      "metadata": {
        "id": "uAS3efVaC-lg"
      },
      "outputs": [],
      "source": [
        "first_ironman = '''\n",
        "Playboy and genius Tony Stark (Robert Downey Jr) has inherited the defense contractor Stark Industries from his father the legendary Howard Stark. Tony was brilliant from the beginning and built his first circuit board when he was 4 years old, his first engine at the age of 6, graduated from MIT at 17. Howard died in a car accident soon thereafter. Obadiah Stane took over the company till Tony returned to take over at the age of 21. Tony has subsequently unleashed an array of smart weapons that have changed the face of conflict forever.\n",
        "\n",
        "Journalist Christine Everhart confronts Tony in Vegas and presents evidence that his company is selling weapons to terrorists and are being used to subjugate native defenseless populations across the globe. Tony has sex with Christine.\n",
        "Pepper Potts is Tony's personal assistant. Harold \"Happy\" Hogan (Jon Favreau) is Stark's bodyguard and chauffeur. J.A.R.V.I.S. (Paul Bettany) is Stark's personal AI system.\n",
        "\n",
        "Tony is in war-torn Afghanistan with his friend and military liaison, Lieutenant Colonel James Rhodes (Terrence Howard) to demonstrate the new \"Jericho\" missile. Rhodes and Tony are very good friends. The Jericho missile incorporates the new \"Repulsor\" technology and can deliver explosive payloads to multiple targets with a single missile, over a relatively large combat area.\n",
        "\n",
        "Stark is critically wounded in an ambush (where he notices that terrorists have access to weapons manufactured by his own company) and imprisoned in a cave by the terrorist group the Ten Rings. An electromagnet (powered by a heavy car battery) built by fellow captive Yinsen (Shaun Toub) keeps the shrapnel that wounded Stark from reaching his heart and killing him. Ten Rings leader Raza (Faran Tahir) offers Stark freedom in exchange for building a Jericho missile for the group, but Tony and Yinsen agree Raza will not keep his word.\n",
        "Yinsen tells Tony that his weapons in the hands of terrorists is his legacy to the world.\n",
        "\n",
        "Tony and Yinsen use the components from other missiles (also manufactured by Stark Industries) and extract Palladium (a precious metal) from it. They use the limited forge facilities available to them and work meticulously.\n",
        "Stark and Yinsen secretly build a powerful electric generator called an arc reactor (Tony had a large Arc reactor back home powering his factory and he has built a miniaturized version of it), to power Stark's electromagnet (instead of the bulky battery), and then begin to build a suit of armor to escape. The suit is a very basic design, heavy and bulky. It has rudimentary weapons, a flame thrower, and rocket Thrusters at the base to launch the occupant into flight. With the arc reactor, it can be powered for about 15 minutes.\n",
        "\n",
        "The Ten Rings attack the workshop when they discover what Stark is doing. Yinsen sacrifices himself to divert them while Stark's suit powers up. The armored Stark battles his way out of the cave to find the dying Yinsen, then an enraged Stark burns the terrorist's munitions and flies away, only to crash in the desert, destroying the suit.\n",
        "\n",
        "After being rescued by Rhodes, Stark returns home and announces that his company will no longer manufacture weapons. Obadiah Stane (Jeff Bridges), his father's old partner and the company's manager, advises Stark that this may ruin Stark Industries and his father's legacy. Tony reveals to Stane that he has built a new miniaturized Arc reactor. The reactor has the power to provide clean energy to the entire planet.\n",
        "\n",
        "In his home workshop, Stark builds an improved version of his suit, as well as a more powerful arc reactor for his chest. Personal assistant Pepper Potts (Gwyneth Paltrow) places the original reactor inside a small glass showcase.\n",
        "Though Stane requests details on his work, a suspicious Stark decides to keep his work to himself.\n",
        "\n",
        "At Stark's first public appearance after his return, reporter Christine Everhart (Leslie Bibb) informs him that Stark Industries weapons, including the Jericho, were recently delivered to the Ten Rings and are being used to attack Yinsen's home village. Stark also learns that Stane is trying to replace him as head of the company. Enraged, Stark dons his new armor and flies to Afghanistan, where he saves Yinsen's village and delivers a devastating blow to the Ten Rings. While flying home, Stark is shot at by two F-22 Raptor fighter jets. He phones Rhodes and reveals his secret identity in an attempt to end the attack.\n",
        "\n",
        "Meanwhile, the Ten Rings gather the pieces of Stark's prototype suit and meet with Stane, who subdues Raza and has the rest of the group eliminated. Stane has a new suit reverse engineered from the wreckage.\n",
        "Seeking to find any other weapons delivered to the Ten Rings, Stark sends assistant Virginia \"Pepper\" Potts to hack into the company computer system from Stane's office. She discovers Stane has been supplying the terrorists and hired the Ten Rings to kill Stark, but the group reneged.\n",
        "Potts later meets with agent Phil Coulson (Clark Gregg) of the \"Strategic Homeland Intervention, Enforcement and Logistics Division\", a counter-terrorism agency, to inform him of Stane's activities.\n",
        "\n",
        "Stane's scientists cannot duplicate Stark's arc reactor, so Stane ambushes Stark at home, using a sonic device to paralyze him and take his arc reactor. Left to die, Stark manages to crawl to his lab and plug in his original reactor. Potts and several S.H.I.E.L.D. (Strategic Homeland Intervention, Enforcement and Logistics Division) agents attempt to arrest Stane, but he dons his suit and attacks them.\n",
        "Stark fights Stane but is over-matched without his new reactor to run his suit at full capacity. Stark lures Stane atop the Stark Industries building and instructs Potts to overload the large arc reactor there. This unleashes a massive electrical surge that knocks Stane unconscious, causing him and his armor to fall into the exploding reactor, killing him.\n",
        "\n",
        "The next day, the press has dubbed the armored hero \"Iron Man\". Agent Coulson gives Stark a cover story to explain the events of the night and Stane's death. At a press conference, Stark begins giving the cover story, but then announces that he is Iron Man, prompting the reporters to ask more questions.\n",
        "\n",
        "In a post-credits scene, S.H.I.E.L.D. Director Nick Fury (Samuel L Jackson) visits Stark at home, and, noting that Iron Man is not \"the only superhero in the world\", says he wants to discuss the \"Avengers Initiative\".\n",
        "'''\n",
        "\n",
        "second_ironman = '''\n",
        "In Russia, the news details Stark Industries CEO Tony Stark (Robert Downey, Jr.) revealing his identity as Iron Man to the world. Ivan Vanko (Mickey Rourke), whose father Anton Vanko (Yevgeni Lazarev) has just died, sees this and begins building an arc reactor similar to Stark's.\n",
        "Anton tells Ivan before dying, that all he could give Ivan was his knowledge and that it should have been Ivan on the TV instead of Tony. Ivan had access to some old blueprints for the Arc reactor and they had 2 names on it, Howard Stark and Anton Vanko.\n",
        "\n",
        "Six months later, Stark has used his Iron Man armor to help maintain world peace. He re-institutes the Stark Expo in Flushing Meadows to continue his father Howard's legacy. The last time Stark Expo was held before was in 1974. Stark had access to some of Howard's old, recorded videos where he talks about the city of the future.\n",
        "Senator Stern (Garry Shandling) demands that Stark turn over the Iron Man technology to the government. Stark's rival Justin Hammer (and the current primary defense contractor to the military) and his military liaison Colonel James Rhodes are also invited to the Senate hearing to testify. Stern reveals images showing that foreign nations are well on their way to developing their own Iron Man systems based on Stark's design.\n",
        "Stark refuses to hand over the weapons system to the US Government, claiming that foreign nations and business competitors (including Hammer Industries) are decades away from successfully recreating his achievements, and that the armor is in fact his own property.\n",
        "\n",
        "The palladium core in the arc reactor that keeps Stark alive and powers the armor is slowly poisoning him, and he has failed to find a substitute. Stark's blood Toxicity is already at 19%. The continuous use of the Iron Man suit is accelerating Stark's condition, and the Arc reactor is depleting Palladium cores at a high rate. There is no known replacement for the Palladium core.\n",
        "Growing increasingly despondent and reckless due to his impending death, and choosing not to tell anyone about his condition, Stark appoints his personal assistant Pepper Potts (Gwyneth Paltrow) CEO of Stark Industries and replaces Potts with Stark employee Natalie Rushman (Scarlett Johansson).\n",
        "Happy Hogan (Jon Favreau) is Tony Stark's bodyguard and chauffeur.\n",
        "\n",
        "Stark travels to Monaco with Pepper and Natalie. He decides to race himself in an F1 car as his blood Toxicity reaches 53% and Stark knows that he does not have much longer to live.\n",
        "Vanko attacks Stark while racing at the Circuit De Monaco, using an arc reactor of his own powering whip-like energy weapons. Using his weapons, Vanko cuts Tony's F1 car into 2 pieces.\n",
        "Seeing the attack, Happy and Pepper drive on to the course with their Rolls Royce to deliver Stark's suit to him.\n",
        "Stark defeats Vanko with the aid of his portable briefcase armor and learns that Vanko is the son of his father's old partner, Anton Vanko, who had collaborated with Howard on the first arc reactor. Anton had defected to the US in 1963.\n",
        "Anton was deported to his native Soviet Union in 1967 following attempts to profit from the technology and died in poverty, explaining Vanko's desire for revenge on the Stark family. Ivan was conviction of trying to sell Soviet era weapons grade Plutonium to Pakistan and served 15 years in Kopeisk prison.\n",
        "Rival defense contractor Justin Hammer (Sam Rockwell) fakes Vanko's death inside prison, plans his escape and recruits him to perfect a line of armored combat suits to upstage Stark at Stark's expo.\n",
        "\n",
        "At what he believes is his last birthday party, Stark gets drunk while using the Iron Man armor, forcing his friend, Air Force Lieutenant Colonel James Rhodes (Don Cheadle), to intervene. Strak had told Rhodes about the Palladium poisoning. Rhodes dons Stark's Mark II armor and battles Stark. The battle ends when the combatants both fire Repulsor beams at each other, creating a huge explosion. After fighting with Stark, Rhodes delivers the armor to the military. Hammer gets the contract to integrate advanced weapons into the Iron Man suit.\n",
        "\n",
        "Nick Fury (Samuel L. Jackson), director of S.H.I.E.L.D., approaches Stark, revealing Rushman as undercover agent Natasha Romanoff and that Howard Stark was a S.H.I.E.L.D. founder whom Fury knew personally. Fury gives him some of his father's old material; a hidden message in the diorama of the 1974 Stark Expo proves to be a diagram of the structure of a new element. With the aid of his computer J.A.R.V.I.S. (Paul Bettany), Stark synthesizes it.\n",
        "Vanko reveals to Stark that he is still alive and seeking revenge so Stark uses the untested element, removing his dependency on the Palladium.\n",
        "\n",
        "Vanko fails to deliver the combat suits to Hammer and instead says that he has worked on armored drones. This angers Hammer, but he has no choice.\n",
        "At the Expo, Hammer unveils Vanko's armored drones, led by Rhodes in a heavily weapons laden version of the Mark II armor.\n",
        "Stark arrives in his new armor to warn Rhodes, but Vanko seizes control of both the drones and Rhodes' armor, and attacks Iron Man. Hammer is arrested while Stark's bodyguard Happy Hogan and Romanoff attempt to capture Vanko. He escapes, but Romanoff hacks Vanko's network and returns control of the Mark II armor to Rhodes.\n",
        "\n",
        "After defeating his drones Stark and Rhodes confront Vanko himself, now in a new, very powerful suit of armor. Neither can match Vanko, but Vanko is ultimately defeated when they fire Repulsor rays at each other, causing a large explosion. With his suit too damaged to continue the fight Vanko activates his suit's self-destruct mechanism, along with that of his drones, apparently killing himself in the process. Stark saves Potts from the exploding drones' remains. Potts quits as CEO, and she and Stark kiss.\n",
        "\n",
        "At a debriefing, while news footage of the Hulk's rampage plays, Fury informs Stark that while Iron Man is a suitable candidate for the \"Avengers Initiative\", he himself is not. Stark agrees to serve as a consultant if Senator Stern acts as presenter at a ceremony planned for awarding Stark and Rhodes with medals for bravery, which Stern reluctantly does.\n",
        "\n",
        "In a post-credits scene, S.H.I.E.L.D. Agent Coulson (Clark Gregg) reports the discovery of a large hammer at the bottom of a crater in a New Mexico desert.\n",
        "'''\n",
        "\n",
        "third_ironman = '''\n",
        "Tony Stark (Robert Downing Jr) recalls a New Years Eve party in 1999 with scientist Maya Hansen (Rebecca Hall), inventor of Extremis, an experimental regenerative treatment intended to allow recovery from crippling injuries. This was also where Tony ran into Yinsen (Shaun Toub) for the first time.\n",
        "Disabled scientist Aldrich Killian (Guy Pearce) offers them a place in his company Advanced Idea Mechanics (AIM), but Stark arrogantly rebuffs him. Tony sends Killian to the roof and asks him to wait for him there. Tony forgot all about Killian and unknown to Tony, Killian waited for him the entire night, and his hatred for Tony was cemented that day.\n",
        "Hansen's work is still incomplete as there is a glitch in her treatment which causes the plants that have received treatment to explode.\n",
        "Years later: Stark's experiences during the alien invasion of New York give him panic attacks.\n",
        "\n",
        "Restless, he has built several Iron Man suits, creating friction with his girlfriend Pepper Potts (Gwyneth Paltrow). Tony's latest generation of suits respond to micro implants in his body, and he can summon them from a great distance.\n",
        "A string of bombings by terrorist the Mandarin (Ben Kingsley) has left intelligence agencies bewildered by lack of forensic evidence. There have been 9 bombings so far, but no identifiable bomb parts were found on any of the attack sites.\n",
        "Killian reaches out to Potts and demonstrates the Extremis technology to her. Turns out Potts knew Killian from before and has a thing for him. Killian claims that the Extremis technology has the ability to re-code human DNA. Potts sees the ability of Extremis to turn humans into weapons and turns down Killian's offer to collaborate.\n",
        "\n",
        "Happy finds Killian suspicious and starts tracking his associate, Eric Savin. Happy follows Eric into a crowded market, where he sees Eric talking and giving a briefcase to a military veteran. Happy confronts the veteran and picks up a hardware capsule from the case, when he is confronted by Eric. Happy punches Eric and breaks his nose, but it repairs instantly.\n",
        "The veteran ingests the capsule and soon starts glowing and eventually blows up.\n",
        "\n",
        "Stark Industries security chief Happy Hogan (Jon Favreau) is badly injured in the attack which is blamed on Mandarin after a video is released with Mandarin taking responsibility for the blast. Once again, no bomb parts were found at the site. Tony recreates the site digitally and finds dog tags.\n",
        "Tony cannot speak to Happy as he is comatose. Stark overcomes his stupor and issues a televised threat to the Mandarin, who responds by destroying Stark's home with helicopter gunships.\n",
        "Potts and Hansen, who had come to warn them, survive the attack.\n",
        "\n",
        "Stark then finds himself in rural Rose Hill Tennessee after his artificial intelligence JARVIS (Paul Bettany) followed a flight plan from Stark's investigation into the Mandarin. Rose Hill was the location of another blast, which had a heat signature to the one where Happy was hurt. Both blasts generated heat more than 3000 degrees, and, in both cases, a military veteran was involved.\n",
        "Stark's experimental armor lacks sufficient power to return to California, and the world believes him dead.\n",
        "\n",
        "Teaming with Harley (Ty Simpkins), a precocious 10-year-old boy, Stark investigates the remains of a local explosion bearing the hallmarks of a Mandarin attack. He finds that the military veterans involved in both explosions were linked to AIM, Killian's company.\n",
        "By hacking into AIM systems, Tony discovers the \"bombings\" were triggered by soldiers subjected to Extremis, which at this stage of development can causes certain subjects to explosively reject it. After veterans started exploding, their deaths were used to cover up Extremis' flaws by manufacturing a terrorist plot.\n",
        "Stark witnesses Extremis firsthand when Mandarin agents Ellen Brandt (Stephanie Szostak) and Eric Savin (James Badge Dale) attack him. Stark manages to kill Ellen, but Eric revives himself after being shot by Stark.\n",
        "\n",
        "With Harley's help, Stark traces the Mandarin to Miami and infiltrates his headquarters using improvised weapons. Inside he discovers the Mandarin is actually a British actor, Trevor Slattery, who claims to be oblivious to the actions carried out in his name.\n",
        "The Mandarin is a creation of Killian, who appropriated Hansen's Extremis research as a cure for his own disability and expanded the program to include injured war veterans.\n",
        "\n",
        "Meanwhile Hansen tells Potts that she believes Killian is working for the Mandarin.\n",
        "After capturing Stark, Killian reveals he is the true Mandarin; he has kidnapped Potts and subjected her to Extremis, intending to infuse her with superhuman abilities and turn her against Stark as leverage to gain Stark's aid in fixing Extremis' flaws. Killian kills Maya when she has a change of heart about the plan.\n",
        "\n",
        "Killian has also manipulated American intelligence agencies regarding the Mandarin's location, luring James Rhodes (Don Cheadle) the former War Machine, now re-branded as the Iron Patriot, into a trap to steal the armor.\n",
        "Stark escapes and reunites with Rhodes, discovering that Killian intends to attack President Ellis (William Sadler) aboard Air Force One. Remotely controlling his Iron Man armor, Stark saves some surviving passengers and crew but cannot stop Killian from abducting Ellis. They trace Killian to an impounded oil-drilling platform where Killian intends to kill Ellis on live television. The vice president will become a puppet leader, following Killian's orders in exchange for Extremis to cure his own little girl's disability.\n",
        "\n",
        "On the platform, Stark goes to save Potts, and Rhodes saves the president. Stark summons each of his Iron Man suits (which were earlier buried under the debris of his destroyed apartment), controlled remotely by JARVIS, to provide air support. Rhodes secures the president and leads him to safety, while Stark discovers Potts has survived the Extremis procedure. However, before he can save her, a rig collapses around them and she falls to her apparent death. Stark confronts Killian and traps him in an Iron Man suit that self-destructs but fails to kill him. Potts, whose Extremis powers allowed her to survive her fall, intervenes and kills Killian.\n",
        "\n",
        "After the battle, Stark orders JARVIS to destroy each Iron Man suit as a sign of his intention to devote more time to Potts. The vice president and Slattery are arrested. With Stark's help, Potts' Extremis effects are stabilized, and Stark undergoes surgery to remove the shrapnel embedded near his heart. He pitches his obsolete chest arc reactor into the sea, musing he will always be Iron Man, even without his armor.\n",
        "\n",
        "In a present-day post-credits scene, Stark wakes up Dr. Bruce Banner, who fell asleep listening at the beginning of Stark's story.\n",
        "'''"
      ]
    },
    {
      "cell_type": "code",
      "execution_count": null,
      "metadata": {
        "id": "dIYDMtfhE4Xz"
      },
      "outputs": [],
      "source": [
        "movies = [first_ironman, second_ironman, third_ironman]\n",
        "titles = {first_ironman: \"Iron Man 1\", second_ironman: \"Iron Man 2\", third_ironman: \"Iron Man 3\"}"
      ]
    },
    {
      "cell_type": "code",
      "execution_count": null,
      "metadata": {
        "id": "5D6XGHjIFHhS"
      },
      "outputs": [],
      "source": [
        "# In the function \"tokenize\" for preprocessing:\n",
        "\n",
        "\n",
        "#in place if pass come up with your own logic\n",
        "\n",
        "def tokenize(doc: str) -> list[str]:\n",
        "  word_set = []\n",
        "  # Tokenize doc sentence into words and convert it to lowercase\n",
        "  for words in word_tokenize(doc):\n",
        "    word = words.lower()\n",
        "    # Append word to word set if it is alphanumeric and not a stopword\n",
        "    if word.isalnum() and word not in stop_words:\n",
        "      word_set.append(word)\n",
        "  return word_set\n",
        "\n",
        "# Return a list of all the tokens present in all the documents\n",
        "# P.S. see that you don't repeat any words.\n",
        "def build_lexicon(docs: list[str]) -> list[str]:\n",
        "  lexicon = set()  # if it is a set we avoif the duplication\n",
        "  for doc in docs:\n",
        "    token = tokenize(doc)\n",
        "    lexicon.update(token)\n",
        "  return list(lexicon)\n"
      ]
    },
    {
      "cell_type": "code",
      "execution_count": null,
      "metadata": {
        "id": "8aAZB1lrMlWw"
      },
      "outputs": [],
      "source": [
        "word_set = build_lexicon(movies)\n",
        "index_dict = {} #Dictionary to store index for each word\n",
        "\n",
        "i = 0\n",
        "for word in word_set:\n",
        "  index_dict[word] = i\n",
        "  i+=1\n",
        "#create index_dict here"
      ]
    },
    {
      "cell_type": "markdown",
      "metadata": {
        "id": "STD2fjeAOf4e"
      },
      "source": [
        "**What is Term Frequency and Inverse Document Frequency? Write its formula and explain each tells you.**\n",
        "\n",
        "Ans: Term Frequency: frequncy of a term in document. formula: no of time word repeats / total no of words. tels us the importance in the doc\n",
        "\n",
        "Inverse Document Frequency: rarity of term in corpus. formula: log(no of docs/ no of docs having term). it helps reduce weight of very commonly occuring words like and a the etc."
      ]
    },
    {
      "cell_type": "code",
      "execution_count": null,
      "metadata": {
        "colab": {
          "base_uri": "https://localhost:8080/"
        },
        "id": "TcNLHRIKQZLN",
        "outputId": "5fb1d44f-f9b5-47c5-e98b-7f24fd0a87ed"
      },
      "outputs": [
        {
          "output_type": "stream",
          "name": "stdout",
          "text": [
            "['\\nPlayboy and genius Tony Stark (Robert Downey Jr) has inherited the defense contractor Stark Industries from his father the legendary Howard Stark. Tony was brilliant from the beginning and built his first circuit board when he was 4 years old, his first engine at the age of 6, graduated from MIT at 17. Howard died in a car accident soon thereafter. Obadiah Stane took over the company till Tony returned to take over at the age of 21. Tony has subsequently unleashed an array of smart weapons that have changed the face of conflict forever.\\n\\nJournalist Christine Everhart confronts Tony in Vegas and presents evidence that his company is selling weapons to terrorists and are being used to subjugate native defenseless populations across the globe. Tony has sex with Christine.\\nPepper Potts is Tony\\'s personal assistant. Harold \"Happy\" Hogan (Jon Favreau) is Stark\\'s bodyguard and chauffeur. J.A.R.V.I.S. (Paul Bettany) is Stark\\'s personal AI system.\\n\\nTony is in war-torn Afghanistan with his friend and military liaison, Lieutenant Colonel James Rhodes (Terrence Howard) to demonstrate the new \"Jericho\" missile. Rhodes and Tony are very good friends. The Jericho missile incorporates the new \"Repulsor\" technology and can deliver explosive payloads to multiple targets with a single missile, over a relatively large combat area.\\n\\nStark is critically wounded in an ambush (where he notices that terrorists have access to weapons manufactured by his own company) and imprisoned in a cave by the terrorist group the Ten Rings. An electromagnet (powered by a heavy car battery) built by fellow captive Yinsen (Shaun Toub) keeps the shrapnel that wounded Stark from reaching his heart and killing him. Ten Rings leader Raza (Faran Tahir) offers Stark freedom in exchange for building a Jericho missile for the group, but Tony and Yinsen agree Raza will not keep his word.\\nYinsen tells Tony that his weapons in the hands of terrorists is his legacy to the world.\\n\\nTony and Yinsen use the components from other missiles (also manufactured by Stark Industries) and extract Palladium (a precious metal) from it. They use the limited forge facilities available to them and work meticulously.\\nStark and Yinsen secretly build a powerful electric generator called an arc reactor (Tony had a large Arc reactor back home powering his factory and he has built a miniaturized version of it), to power Stark\\'s electromagnet (instead of the bulky battery), and then begin to build a suit of armor to escape. The suit is a very basic design, heavy and bulky. It has rudimentary weapons, a flame thrower, and rocket Thrusters at the base to launch the occupant into flight. With the arc reactor, it can be powered for about 15 minutes.\\n\\nThe Ten Rings attack the workshop when they discover what Stark is doing. Yinsen sacrifices himself to divert them while Stark\\'s suit powers up. The armored Stark battles his way out of the cave to find the dying Yinsen, then an enraged Stark burns the terrorist\\'s munitions and flies away, only to crash in the desert, destroying the suit.\\n\\nAfter being rescued by Rhodes, Stark returns home and announces that his company will no longer manufacture weapons. Obadiah Stane (Jeff Bridges), his father\\'s old partner and the company\\'s manager, advises Stark that this may ruin Stark Industries and his father\\'s legacy. Tony reveals to Stane that he has built a new miniaturized Arc reactor. The reactor has the power to provide clean energy to the entire planet.\\n\\nIn his home workshop, Stark builds an improved version of his suit, as well as a more powerful arc reactor for his chest. Personal assistant Pepper Potts (Gwyneth Paltrow) places the original reactor inside a small glass showcase.\\nThough Stane requests details on his work, a suspicious Stark decides to keep his work to himself.\\n\\nAt Stark\\'s first public appearance after his return, reporter Christine Everhart (Leslie Bibb) informs him that Stark Industries weapons, including the Jericho, were recently delivered to the Ten Rings and are being used to attack Yinsen\\'s home village. Stark also learns that Stane is trying to replace him as head of the company. Enraged, Stark dons his new armor and flies to Afghanistan, where he saves Yinsen\\'s village and delivers a devastating blow to the Ten Rings. While flying home, Stark is shot at by two F-22 Raptor fighter jets. He phones Rhodes and reveals his secret identity in an attempt to end the attack.\\n\\nMeanwhile, the Ten Rings gather the pieces of Stark\\'s prototype suit and meet with Stane, who subdues Raza and has the rest of the group eliminated. Stane has a new suit reverse engineered from the wreckage.\\nSeeking to find any other weapons delivered to the Ten Rings, Stark sends assistant Virginia \"Pepper\" Potts to hack into the company computer system from Stane\\'s office. She discovers Stane has been supplying the terrorists and hired the Ten Rings to kill Stark, but the group reneged.\\nPotts later meets with agent Phil Coulson (Clark Gregg) of the \"Strategic Homeland Intervention, Enforcement and Logistics Division\", a counter-terrorism agency, to inform him of Stane\\'s activities.\\n\\nStane\\'s scientists cannot duplicate Stark\\'s arc reactor, so Stane ambushes Stark at home, using a sonic device to paralyze him and take his arc reactor. Left to die, Stark manages to crawl to his lab and plug in his original reactor. Potts and several S.H.I.E.L.D. (Strategic Homeland Intervention, Enforcement and Logistics Division) agents attempt to arrest Stane, but he dons his suit and attacks them.\\nStark fights Stane but is over-matched without his new reactor to run his suit at full capacity. Stark lures Stane atop the Stark Industries building and instructs Potts to overload the large arc reactor there. This unleashes a massive electrical surge that knocks Stane unconscious, causing him and his armor to fall into the exploding reactor, killing him.\\n\\nThe next day, the press has dubbed the armored hero \"Iron Man\". Agent Coulson gives Stark a cover story to explain the events of the night and Stane\\'s death. At a press conference, Stark begins giving the cover story, but then announces that he is Iron Man, prompting the reporters to ask more questions.\\n\\nIn a post-credits scene, S.H.I.E.L.D. Director Nick Fury (Samuel L Jackson) visits Stark at home, and, noting that Iron Man is not \"the only superhero in the world\", says he wants to discuss the \"Avengers Initiative\".\\n', '\\nIn Russia, the news details Stark Industries CEO Tony Stark (Robert Downey, Jr.) revealing his identity as Iron Man to the world. Ivan Vanko (Mickey Rourke), whose father Anton Vanko (Yevgeni Lazarev) has just died, sees this and begins building an arc reactor similar to Stark\\'s.\\nAnton tells Ivan before dying, that all he could give Ivan was his knowledge and that it should have been Ivan on the TV instead of Tony. Ivan had access to some old blueprints for the Arc reactor and they had 2 names on it, Howard Stark and Anton Vanko.\\n\\nSix months later, Stark has used his Iron Man armor to help maintain world peace. He re-institutes the Stark Expo in Flushing Meadows to continue his father Howard\\'s legacy. The last time Stark Expo was held before was in 1974. Stark had access to some of Howard\\'s old, recorded videos where he talks about the city of the future.\\nSenator Stern (Garry Shandling) demands that Stark turn over the Iron Man technology to the government. Stark\\'s rival Justin Hammer (and the current primary defense contractor to the military) and his military liaison Colonel James Rhodes are also invited to the Senate hearing to testify. Stern reveals images showing that foreign nations are well on their way to developing their own Iron Man systems based on Stark\\'s design.\\nStark refuses to hand over the weapons system to the US Government, claiming that foreign nations and business competitors (including Hammer Industries) are decades away from successfully recreating his achievements, and that the armor is in fact his own property.\\n\\nThe palladium core in the arc reactor that keeps Stark alive and powers the armor is slowly poisoning him, and he has failed to find a substitute. Stark\\'s blood Toxicity is already at 19%. The continuous use of the Iron Man suit is accelerating Stark\\'s condition, and the Arc reactor is depleting Palladium cores at a high rate. There is no known replacement for the Palladium core.\\nGrowing increasingly despondent and reckless due to his impending death, and choosing not to tell anyone about his condition, Stark appoints his personal assistant Pepper Potts (Gwyneth Paltrow) CEO of Stark Industries and replaces Potts with Stark employee Natalie Rushman (Scarlett Johansson).\\nHappy Hogan (Jon Favreau) is Tony Stark\\'s bodyguard and chauffeur.\\n\\nStark travels to Monaco with Pepper and Natalie. He decides to race himself in an F1 car as his blood Toxicity reaches 53% and Stark knows that he does not have much longer to live.\\nVanko attacks Stark while racing at the Circuit De Monaco, using an arc reactor of his own powering whip-like energy weapons. Using his weapons, Vanko cuts Tony\\'s F1 car into 2 pieces.\\nSeeing the attack, Happy and Pepper drive on to the course with their Rolls Royce to deliver Stark\\'s suit to him.\\nStark defeats Vanko with the aid of his portable briefcase armor and learns that Vanko is the son of his father\\'s old partner, Anton Vanko, who had collaborated with Howard on the first arc reactor. Anton had defected to the US in 1963.\\nAnton was deported to his native Soviet Union in 1967 following attempts to profit from the technology and died in poverty, explaining Vanko\\'s desire for revenge on the Stark family. Ivan was conviction of trying to sell Soviet era weapons grade Plutonium to Pakistan and served 15 years in Kopeisk prison.\\nRival defense contractor Justin Hammer (Sam Rockwell) fakes Vanko\\'s death inside prison, plans his escape and recruits him to perfect a line of armored combat suits to upstage Stark at Stark\\'s expo.\\n\\nAt what he believes is his last birthday party, Stark gets drunk while using the Iron Man armor, forcing his friend, Air Force Lieutenant Colonel James Rhodes (Don Cheadle), to intervene. Strak had told Rhodes about the Palladium poisoning. Rhodes dons Stark\\'s Mark II armor and battles Stark. The battle ends when the combatants both fire Repulsor beams at each other, creating a huge explosion. After fighting with Stark, Rhodes delivers the armor to the military. Hammer gets the contract to integrate advanced weapons into the Iron Man suit.\\n\\nNick Fury (Samuel L. Jackson), director of S.H.I.E.L.D., approaches Stark, revealing Rushman as undercover agent Natasha Romanoff and that Howard Stark was a S.H.I.E.L.D. founder whom Fury knew personally. Fury gives him some of his father\\'s old material; a hidden message in the diorama of the 1974 Stark Expo proves to be a diagram of the structure of a new element. With the aid of his computer J.A.R.V.I.S. (Paul Bettany), Stark synthesizes it.\\nVanko reveals to Stark that he is still alive and seeking revenge so Stark uses the untested element, removing his dependency on the Palladium.\\n\\nVanko fails to deliver the combat suits to Hammer and instead says that he has worked on armored drones. This angers Hammer, but he has no choice.\\nAt the Expo, Hammer unveils Vanko\\'s armored drones, led by Rhodes in a heavily weapons laden version of the Mark II armor.\\nStark arrives in his new armor to warn Rhodes, but Vanko seizes control of both the drones and Rhodes\\' armor, and attacks Iron Man. Hammer is arrested while Stark\\'s bodyguard Happy Hogan and Romanoff attempt to capture Vanko. He escapes, but Romanoff hacks Vanko\\'s network and returns control of the Mark II armor to Rhodes.\\n\\nAfter defeating his drones Stark and Rhodes confront Vanko himself, now in a new, very powerful suit of armor. Neither can match Vanko, but Vanko is ultimately defeated when they fire Repulsor rays at each other, causing a large explosion. With his suit too damaged to continue the fight Vanko activates his suit\\'s self-destruct mechanism, along with that of his drones, apparently killing himself in the process. Stark saves Potts from the exploding drones\\' remains. Potts quits as CEO, and she and Stark kiss.\\n\\nAt a debriefing, while news footage of the Hulk\\'s rampage plays, Fury informs Stark that while Iron Man is a suitable candidate for the \"Avengers Initiative\", he himself is not. Stark agrees to serve as a consultant if Senator Stern acts as presenter at a ceremony planned for awarding Stark and Rhodes with medals for bravery, which Stern reluctantly does.\\n\\nIn a post-credits scene, S.H.I.E.L.D. Agent Coulson (Clark Gregg) reports the discovery of a large hammer at the bottom of a crater in a New Mexico desert.\\n', '\\nTony Stark (Robert Downing Jr) recalls a New Years Eve party in 1999 with scientist Maya Hansen (Rebecca Hall), inventor of Extremis, an experimental regenerative treatment intended to allow recovery from crippling injuries. This was also where Tony ran into Yinsen (Shaun Toub) for the first time.\\nDisabled scientist Aldrich Killian (Guy Pearce) offers them a place in his company Advanced Idea Mechanics (AIM), but Stark arrogantly rebuffs him. Tony sends Killian to the roof and asks him to wait for him there. Tony forgot all about Killian and unknown to Tony, Killian waited for him the entire night, and his hatred for Tony was cemented that day.\\nHansen\\'s work is still incomplete as there is a glitch in her treatment which causes the plants that have received treatment to explode.\\nYears later: Stark\\'s experiences during the alien invasion of New York give him panic attacks.\\n\\nRestless, he has built several Iron Man suits, creating friction with his girlfriend Pepper Potts (Gwyneth Paltrow). Tony\\'s latest generation of suits respond to micro implants in his body, and he can summon them from a great distance.\\nA string of bombings by terrorist the Mandarin (Ben Kingsley) has left intelligence agencies bewildered by lack of forensic evidence. There have been 9 bombings so far, but no identifiable bomb parts were found on any of the attack sites.\\nKillian reaches out to Potts and demonstrates the Extremis technology to her. Turns out Potts knew Killian from before and has a thing for him. Killian claims that the Extremis technology has the ability to re-code human DNA. Potts sees the ability of Extremis to turn humans into weapons and turns down Killian\\'s offer to collaborate.\\n\\nHappy finds Killian suspicious and starts tracking his associate, Eric Savin. Happy follows Eric into a crowded market, where he sees Eric talking and giving a briefcase to a military veteran. Happy confronts the veteran and picks up a hardware capsule from the case, when he is confronted by Eric. Happy punches Eric and breaks his nose, but it repairs instantly.\\nThe veteran ingests the capsule and soon starts glowing and eventually blows up.\\n\\nStark Industries security chief Happy Hogan (Jon Favreau) is badly injured in the attack which is blamed on Mandarin after a video is released with Mandarin taking responsibility for the blast. Once again, no bomb parts were found at the site. Tony recreates the site digitally and finds dog tags.\\nTony cannot speak to Happy as he is comatose. Stark overcomes his stupor and issues a televised threat to the Mandarin, who responds by destroying Stark\\'s home with helicopter gunships.\\nPotts and Hansen, who had come to warn them, survive the attack.\\n\\nStark then finds himself in rural Rose Hill Tennessee after his artificial intelligence JARVIS (Paul Bettany) followed a flight plan from Stark\\'s investigation into the Mandarin. Rose Hill was the location of another blast, which had a heat signature to the one where Happy was hurt. Both blasts generated heat more than 3000 degrees, and, in both cases, a military veteran was involved.\\nStark\\'s experimental armor lacks sufficient power to return to California, and the world believes him dead.\\n\\nTeaming with Harley (Ty Simpkins), a precocious 10-year-old boy, Stark investigates the remains of a local explosion bearing the hallmarks of a Mandarin attack. He finds that the military veterans involved in both explosions were linked to AIM, Killian\\'s company.\\nBy hacking into AIM systems, Tony discovers the \"bombings\" were triggered by soldiers subjected to Extremis, which at this stage of development can causes certain subjects to explosively reject it. After veterans started exploding, their deaths were used to cover up Extremis\\' flaws by manufacturing a terrorist plot.\\nStark witnesses Extremis firsthand when Mandarin agents Ellen Brandt (Stephanie Szostak) and Eric Savin (James Badge Dale) attack him. Stark manages to kill Ellen, but Eric revives himself after being shot by Stark.\\n\\nWith Harley\\'s help, Stark traces the Mandarin to Miami and infiltrates his headquarters using improvised weapons. Inside he discovers the Mandarin is actually a British actor, Trevor Slattery, who claims to be oblivious to the actions carried out in his name.\\nThe Mandarin is a creation of Killian, who appropriated Hansen\\'s Extremis research as a cure for his own disability and expanded the program to include injured war veterans.\\n\\nMeanwhile Hansen tells Potts that she believes Killian is working for the Mandarin.\\nAfter capturing Stark, Killian reveals he is the true Mandarin; he has kidnapped Potts and subjected her to Extremis, intending to infuse her with superhuman abilities and turn her against Stark as leverage to gain Stark\\'s aid in fixing Extremis\\' flaws. Killian kills Maya when she has a change of heart about the plan.\\n\\nKillian has also manipulated American intelligence agencies regarding the Mandarin\\'s location, luring James Rhodes (Don Cheadle) the former War Machine, now re-branded as the Iron Patriot, into a trap to steal the armor.\\nStark escapes and reunites with Rhodes, discovering that Killian intends to attack President Ellis (William Sadler) aboard Air Force One. Remotely controlling his Iron Man armor, Stark saves some surviving passengers and crew but cannot stop Killian from abducting Ellis. They trace Killian to an impounded oil-drilling platform where Killian intends to kill Ellis on live television. The vice president will become a puppet leader, following Killian\\'s orders in exchange for Extremis to cure his own little girl\\'s disability.\\n\\nOn the platform, Stark goes to save Potts, and Rhodes saves the president. Stark summons each of his Iron Man suits (which were earlier buried under the debris of his destroyed apartment), controlled remotely by JARVIS, to provide air support. Rhodes secures the president and leads him to safety, while Stark discovers Potts has survived the Extremis procedure. However, before he can save her, a rig collapses around them and she falls to her apparent death. Stark confronts Killian and traps him in an Iron Man suit that self-destructs but fails to kill him. Potts, whose Extremis powers allowed her to survive her fall, intervenes and kills Killian.\\n\\nAfter the battle, Stark orders JARVIS to destroy each Iron Man suit as a sign of his intention to devote more time to Potts. The vice president and Slattery are arrested. With Stark\\'s help, Potts\\' Extremis effects are stabilized, and Stark undergoes surgery to remove the shrapnel embedded near his heart. He pitches his obsolete chest arc reactor into the sea, musing he will always be Iron Man, even without his armor.\\n\\nIn a present-day post-credits scene, Stark wakes up Dr. Bruce Banner, who fell asleep listening at the beginning of Stark\\'s story.\\n']\n",
            "983 ['presenter', 'tony', 'identity', 'alive', 'agents', 'confronts', 'disability', 'soon', 'across', 'british', 'explosively', 'undercover', 'recovery', 'left', 'james', 'seeking', 'kills', 'told', 'neither', 'keeps', 'name', 'full', 'attempt', 'embedded', 'research', 'evidence', 'fury', 'meanwhile', 'manages', 'course', '6', 'lab', 'man', 'along', 'location', 'rig', 'palladium', 'market', 'minutes', 'defected', 'mark', 'details', 'hall', 'lazarev', 'harley', 'wreckage', 'inside', 'announces', 'humans', 'system', 'head', 'brilliant', 'bearing', 'untested', 'industries', 'monaco', 'revealing', 'claiming', 'combat', 'based', 'systems', 'save', 'supplying', 'subsequently', 'causing', 'seeing', 'headquarters', 'experimental', 'consultant', 'racing', 'video', 'obadiah', 'flaws', 'gregg', 'race', 'founder', 'harold', 'birthday', 'blows', 'powerful', 'allow', 'live', 'turns', 'native', 'romanoff', 'dubbed', 'respond', 'known', 'public', 'uses', 'rate', 'war', 'line', 'delivered', 'world', 'tells', 'knocks', 'sea', 'eliminated', 'plot', 'match', 'jr', 'bibb', 'reporter', '17', 'diagram', 'agree', 'aim', 'era', 'well', 'manipulated', 'claims', 'advises', 'howard', 'battery', 'vegas', 'disabled', 'blasts', 'forge', 'hardware', 'investigates', 'bottom', 'deliver', 'powers', 'us', 'sam', 'lack', 'take', 'noting', 'forcing', 'crippling', 'bridges', 'hacking', 'cave', 'surge', 'homeland', 'l', 'beams', 'nick', 'regarding', 'ends', 'informs', 'raza', 'creating', 'eve', 'force', 'peace', 'demands', 'basic', 'keep', 'appearance', 'wounded', 'logistics', 'fakes', 'arrogantly', 'idea', 'leverage', 'buried', 'overload', 'replacement', 'digitally', 'surgery', 'patriot', 'personally', 'extract', 'manufacture', 'press', 'tags', 'slowly', 'leslie', 'bettany', 'chief', 'away', 'lieutenant', 'stephanie', 'devastating', 'conference', 'near', 'killing', 'starts', 'another', 'precious', 'fire', 'competitors', 'sadler', 'material', 'human', 'paralyze', 'died', 'subdues', 'group', 'plan', 'strategic', 'device', 'knew', 'heavily', 'helicopter', 'failed', 'armor', '19', 'restless', 'picks', 'technology', 'natalie', 'body', 'true', 'missile', 'crawl', 'freedom', 'recently', 'discuss', 'artificial', 'great', 'california', 'core', 'escape', 'panic', 'hurt', 'sell', 'inform', 'word', 'deaths', 'explosive', 'electric', 'rocket', 'identifiable', 'crash', 'intention', 'though', 'remotely', 'punches', 'union', 'toub', 'suitable', 'later', 'injuries', 'cemented', 'jets', 'bomb', 'reluctantly', 'sonic', 'traps', 'manager', 'york', 'site', 'szostak', 'believes', 'work', 'taking', 'available', 'thrusters', 'high', '2', 'message', 'creation', 'stabilized', 'questions', 'improved', 'rural', 'rourke', 'generation', 'without', 'maintain', 'acts', 'drones', 'attack', 'dons', 'investigation', 'next', 'platform', 'vice', 'stern', 'divert', 'senator', 'future', '53', 'pakistan', 'division', 'talks', 'primary', 'guy', 'avengers', 'downey', 'forgot', 'raptor', 'six', 'shaun', 'confront', 'lacks', 'miniaturized', 'hearing', 'deported', 'hammer', 'overcomes', 'build', 'william', 'relatively', 'dying', 'recruits', 'called', 'speak', 'wakes', 'abducting', 'allowed', 'fixing', 'rebuffs', 'approaches', 'former', 'last', 'flight', 'unveils', 'discovery', 'superhuman', 'flushing', 'scene', 'thereafter', 'showcase', 'legendary', 'inventor', 'ty', 'good', 'imprisoned', 'friends', 'damaged', 'increasingly', 'luring', 'sites', 'small', 'impounded', 'subjected', 'kill', 'involved', 'aldrich', 'fact', 'son', 'plans', 'rudimentary', 'shot', 'took', 'profit', 'planned', 'favreau', 'wants', 'ran', 'stop', 'forensic', 'bodyguard', 'explaining', 'saves', 'pieces', 'continuous', 'current', 'gwyneth', 'rays', 'include', 'blood', '1999', '15', 'justin', 'working', 'intelligence', 'proves', 'occupant', 'sign', 'assistant', 'whose', 'plays', 'nose', 'plug', 'meticulously', 'certain', 'tracking', 'including', 'grade', 'virginia', 'released', 'chauffeur', 'find', 'agent', 'returns', 'hill', 'fall', 'day', 'hired', 'repairs', 'happy', 'months', 'destroy', 'help', 'rolls', 'defeated', 'unknown', 'crew', 'control', 'home', 'friend', 'conviction', 'capacity', 'use', 'meets', 'depleting', 'friction', 'till', 'anton', 'johansson', 'cores', 'reports', 'incomplete', 'served', 'actually', 'collaborated', 'meadows', 'debris', 'critically', 'events', 'give', 'drive', 'linked', 'playboy', 'air', 'capture', 'glass', 'leads', 'weapons', 'powered', 'offers', 'way', 'escapes', 'latest', 'components', 'soldiers', 'traces', 'crowded', 'tahir', 'flies', 'knowledge', 'recorded', 'terrence', 'eric', 'populations', 'old', 'flying', 'exploding', 'sacrifices', 'lures', 'cover', 'suit', 'government', 'follows', 'integrate', 'yevgeni', 'decades', 'unleashed', 'breaks', 'aboard', 'controlled', 'apparent', 'bravery', 'shrapnel', 'captive', 'gather', 'desire', 'mexico', 'enraged', 'bombings', 'followed', 'ellis', 'duplicate', 'fighter', 'recreating', 'degrees', 'ability', 'successfully', 'development', 'little', 'pitches', 'impending', 'explode', 'machine', 'circuit', 'american', 'garry', 'downing', 'capturing', 'contract', 'thing', 'infuse', 'arrested', 'director', 'intending', 'dna', 'however', 'appropriated', 'defense', 'recalls', 'smart', 'names', 'already', 'despondent', 'kiss', 'returned', 'jon', 'similar', 'collaborate', 'orders', 'reactor', 'sends', 'russia', 'obsolete', 'pearce', 'invasion', 'surviving', 'prison', 'security', 'begins', 'ceo', 'entire', 'ruin', 'cases', 'repulsor', 'several', 'undergoes', 'secret', 'sufficient', 'element', '1974', 'around', 'superhero', 'cure', 'ambush', 'family', 'munitions', 'asleep', 'paltrow', 'version', 'testify', 'hulk', 'partner', 'ellen', 'plants', 'parts', 'trying', 'sex', 'achievements', 'following', 'heavy', 'run', 'news', 'roof', 'requests', 'blow', 'defeats', 'globe', 'yinsen', 'workshop', 'serve', 'remains', 'mit', 'rhodes', 'poverty', 'recreates', 'quits', 'father', 'powering', 'desert', 'also', 'limited', 'candidate', 'ben', 'board', 'instructs', 'veteran', 'injured', 'robert', 'kingsley', '1963', 'instantly', 'actor', 'turn', 'toxicity', 'gunships', 'may', 'liaison', 'journalist', 'trace', 'subjugate', 'building', 'battle', 'phones', 'access', 'longer', 'collapses', 'hatred', 'oblivious', 'rest', 'fights', 'replaces', 'coulson', 'arrives', 'rings', 'explosions', 'generator', 'ingests', 'passengers', 'combatants', 'foreign', 'condition', 'boy', 'story', 'energy', 'experiences', 'clark', 'wait', 'triggered', 'legacy', 'property', 'used', 'capsule', 'paul', 'attacks', 'gives', 'planet', 'secretly', 'armored', '1967', 'clean', 'aid', 'effects', 'stark', 'years', 'city', 'says', 'micro', 'string', 'sees', 'controlling', 'area', 'apparently', 'come', 'ask', 'graduated', 'defenseless', 'f1', 'accident', 'rival', 'crater', 'anyone', 'mickey', 'trap', 'delivers', 'diorama', 'president', 'hack', 'selling', 'debriefing', 'distance', 'kidnapped', 'responds', 'jeff', 'flame', 'ultimately', 'fighting', 'intended', 'electromagnet', 'burns', 'always', 'arc', 'christine', 'knows', 'network', 'agencies', 'blast', 'suits', 'televised', 'dog', 'waited', 'expanded', 'tv', 'secures', 'associate', 'thrower', 'rescued', 'procedure', 'hallmarks', 'enforcement', 'arrest', 'hacks', 'blueprints', 'perfect', 'infiltrates', 'kopeisk', 'replace', 'terrorist', 'natasha', 'launch', '3000', 'reporters', 'provide', 'extremis', 'worked', 'die', 'heart', 'chest', 'accelerating', 'due', 'cheadle', 'genius', 'intervention', 'business', 'signature', 'rushman', 'glitch', 'phil', 'cuts', 'hansen', 'blamed', 'responsibility', 'generated', 'alien', 'reneged', 'dead', 'led', 'using', 'heat', 'awarding', 'teaming', 'warn', 'back', 'royce', 'terrorists', 'musing', 'reaches', 'developing', 'gain', 'rampage', 'issues', 'travels', 'intervene', 'unleashes', 'firsthand', 'discover', 'bruce', 'stane', 'hands', 'mechanism', 'builds', 'agrees', 'advanced', 'decides', 'ten', 'trevor', 'notices', 'reveals', 'could', 'first', 'company', 'reunites', 'visits', 'footage', 'discovering', 'leader', 'age', 'program', 'everhart', 'scientist', 'remove', 'prompting', 'badge', 'inherited', 'prototype', 'destroying', 'factory', 'built', 'removing', 'defeating', 'changed', 'engineered', 'computer', 'substitute', 'hero', 'far', 'manufacturing', 'forever', 'incorporates', 'threat', 'rockwell', 'electrical', 'giving', 'images', 'scarlett', 'demonstrates', 'engine', 'goes', 'showing', 'killian', 'abilities', 'afghanistan', 'base', 'ii', 'finds', 'intervenes', 'large', 'jackson', 'hand', 'new', 'ambushes', 'reckless', 'attempts', 'synthesizes', 'steal', 'employee', 'puppet', 'even', 'summon', 'summons', 'jarvis', 'falls', 'unconscious', 'single', 'begin', 'continue', 'survive', 'instead', 'girl', 'eventually', 'case', 'two', 'samuel', 'confronted', 'targets', 'exchange', 'carried', 'revenge', 'multiple', 'still', 'actions', 'design', 'upstage', 'dependency', 'subjects', 'medals', 'metal', 'change', 'listening', 'beginning', 'fellow', 'revives', 'contractor', 'choosing', 'jericho', 'earlier', 'missiles', 'tell', 'portable', 'colonel', 'meet', 'seizes', 'gets', 'ai', 'de', 'death', 'face', '21', 'simpkins', 'time', 'regenerative', 'return', 'destroyed', 'asks', 'original', 'rose', 'hidden', 'explain', 'reaching', 'expo', 'stupor', 'atop', 'places', 'pepper', 'structure', 'become', 'offer', 'precocious', 'facilities', 'poisoning', 'implants', 'soviet', 'drunk', 'miami', 'night', 'senate', 'refuses', 'hogan', 'intends', 'potts', 'briefcase', 'personal', 'end', 'stage', 'talking', 'devote', 'ivan', 'iron', 'strak', 'place', 'discovers', 'started', 'bewildered', 'one', 'witnesses', 'girlfriend', 'angers', 'found', 'power', 'veterans', '4', 'slattery', 'apartment', 'mandarin', 'growing', 'causes', 'television', 'much', 'faran', 'plutonium', 'learns', 'explosion', 'office', '9', 'demonstrate', 'videos', 'improvised', 'safety', 'scientists', 'fell', 'nations', 'glowing', 'ceremony', 'invited', 'process', 'array', 'local', 'activities', 'payloads', 'huge', 'maya', 'treatment', 'battles', 'initiative', 'laden', 'party', 'choice', 'dale', 'support', 'reject', 'conflict', 'manufactured', 'tennessee', 'agency', 'banner', 'survived', 'suspicious', 'appoints', 'bulky', 'fight', 'activates', 'presents', 'savin', 'badly', 'shandling', 'car', 'brandt', 'fails', 'comatose', 'vanko', 'village', 'reverse', 'massive', 'held', 'rebecca', 'mechanics', 'military', 'received']\n",
            "{'presenter': 0, 'tony': 1, 'identity': 2, 'alive': 3, 'agents': 4, 'confronts': 5, 'disability': 6, 'soon': 7, 'across': 8, 'british': 9, 'explosively': 10, 'undercover': 11, 'recovery': 12, 'left': 13, 'james': 14, 'seeking': 15, 'kills': 16, 'told': 17, 'neither': 18, 'keeps': 19, 'name': 20, 'full': 21, 'attempt': 22, 'embedded': 23, 'research': 24, 'evidence': 25, 'fury': 26, 'meanwhile': 27, 'manages': 28, 'course': 29, '6': 30, 'lab': 31, 'man': 32, 'along': 33, 'location': 34, 'rig': 35, 'palladium': 36, 'market': 37, 'minutes': 38, 'defected': 39, 'mark': 40, 'details': 41, 'hall': 42, 'lazarev': 43, 'harley': 44, 'wreckage': 45, 'inside': 46, 'announces': 47, 'humans': 48, 'system': 49, 'head': 50, 'brilliant': 51, 'bearing': 52, 'untested': 53, 'industries': 54, 'monaco': 55, 'revealing': 56, 'claiming': 57, 'combat': 58, 'based': 59, 'systems': 60, 'save': 61, 'supplying': 62, 'subsequently': 63, 'causing': 64, 'seeing': 65, 'headquarters': 66, 'experimental': 67, 'consultant': 68, 'racing': 69, 'video': 70, 'obadiah': 71, 'flaws': 72, 'gregg': 73, 'race': 74, 'founder': 75, 'harold': 76, 'birthday': 77, 'blows': 78, 'powerful': 79, 'allow': 80, 'live': 81, 'turns': 82, 'native': 83, 'romanoff': 84, 'dubbed': 85, 'respond': 86, 'known': 87, 'public': 88, 'uses': 89, 'rate': 90, 'war': 91, 'line': 92, 'delivered': 93, 'world': 94, 'tells': 95, 'knocks': 96, 'sea': 97, 'eliminated': 98, 'plot': 99, 'match': 100, 'jr': 101, 'bibb': 102, 'reporter': 103, '17': 104, 'diagram': 105, 'agree': 106, 'aim': 107, 'era': 108, 'well': 109, 'manipulated': 110, 'claims': 111, 'advises': 112, 'howard': 113, 'battery': 114, 'vegas': 115, 'disabled': 116, 'blasts': 117, 'forge': 118, 'hardware': 119, 'investigates': 120, 'bottom': 121, 'deliver': 122, 'powers': 123, 'us': 124, 'sam': 125, 'lack': 126, 'take': 127, 'noting': 128, 'forcing': 129, 'crippling': 130, 'bridges': 131, 'hacking': 132, 'cave': 133, 'surge': 134, 'homeland': 135, 'l': 136, 'beams': 137, 'nick': 138, 'regarding': 139, 'ends': 140, 'informs': 141, 'raza': 142, 'creating': 143, 'eve': 144, 'force': 145, 'peace': 146, 'demands': 147, 'basic': 148, 'keep': 149, 'appearance': 150, 'wounded': 151, 'logistics': 152, 'fakes': 153, 'arrogantly': 154, 'idea': 155, 'leverage': 156, 'buried': 157, 'overload': 158, 'replacement': 159, 'digitally': 160, 'surgery': 161, 'patriot': 162, 'personally': 163, 'extract': 164, 'manufacture': 165, 'press': 166, 'tags': 167, 'slowly': 168, 'leslie': 169, 'bettany': 170, 'chief': 171, 'away': 172, 'lieutenant': 173, 'stephanie': 174, 'devastating': 175, 'conference': 176, 'near': 177, 'killing': 178, 'starts': 179, 'another': 180, 'precious': 181, 'fire': 182, 'competitors': 183, 'sadler': 184, 'material': 185, 'human': 186, 'paralyze': 187, 'died': 188, 'subdues': 189, 'group': 190, 'plan': 191, 'strategic': 192, 'device': 193, 'knew': 194, 'heavily': 195, 'helicopter': 196, 'failed': 197, 'armor': 198, '19': 199, 'restless': 200, 'picks': 201, 'technology': 202, 'natalie': 203, 'body': 204, 'true': 205, 'missile': 206, 'crawl': 207, 'freedom': 208, 'recently': 209, 'discuss': 210, 'artificial': 211, 'great': 212, 'california': 213, 'core': 214, 'escape': 215, 'panic': 216, 'hurt': 217, 'sell': 218, 'inform': 219, 'word': 220, 'deaths': 221, 'explosive': 222, 'electric': 223, 'rocket': 224, 'identifiable': 225, 'crash': 226, 'intention': 227, 'though': 228, 'remotely': 229, 'punches': 230, 'union': 231, 'toub': 232, 'suitable': 233, 'later': 234, 'injuries': 235, 'cemented': 236, 'jets': 237, 'bomb': 238, 'reluctantly': 239, 'sonic': 240, 'traps': 241, 'manager': 242, 'york': 243, 'site': 244, 'szostak': 245, 'believes': 246, 'work': 247, 'taking': 248, 'available': 249, 'thrusters': 250, 'high': 251, '2': 252, 'message': 253, 'creation': 254, 'stabilized': 255, 'questions': 256, 'improved': 257, 'rural': 258, 'rourke': 259, 'generation': 260, 'without': 261, 'maintain': 262, 'acts': 263, 'drones': 264, 'attack': 265, 'dons': 266, 'investigation': 267, 'next': 268, 'platform': 269, 'vice': 270, 'stern': 271, 'divert': 272, 'senator': 273, 'future': 274, '53': 275, 'pakistan': 276, 'division': 277, 'talks': 278, 'primary': 279, 'guy': 280, 'avengers': 281, 'downey': 282, 'forgot': 283, 'raptor': 284, 'six': 285, 'shaun': 286, 'confront': 287, 'lacks': 288, 'miniaturized': 289, 'hearing': 290, 'deported': 291, 'hammer': 292, 'overcomes': 293, 'build': 294, 'william': 295, 'relatively': 296, 'dying': 297, 'recruits': 298, 'called': 299, 'speak': 300, 'wakes': 301, 'abducting': 302, 'allowed': 303, 'fixing': 304, 'rebuffs': 305, 'approaches': 306, 'former': 307, 'last': 308, 'flight': 309, 'unveils': 310, 'discovery': 311, 'superhuman': 312, 'flushing': 313, 'scene': 314, 'thereafter': 315, 'showcase': 316, 'legendary': 317, 'inventor': 318, 'ty': 319, 'good': 320, 'imprisoned': 321, 'friends': 322, 'damaged': 323, 'increasingly': 324, 'luring': 325, 'sites': 326, 'small': 327, 'impounded': 328, 'subjected': 329, 'kill': 330, 'involved': 331, 'aldrich': 332, 'fact': 333, 'son': 334, 'plans': 335, 'rudimentary': 336, 'shot': 337, 'took': 338, 'profit': 339, 'planned': 340, 'favreau': 341, 'wants': 342, 'ran': 343, 'stop': 344, 'forensic': 345, 'bodyguard': 346, 'explaining': 347, 'saves': 348, 'pieces': 349, 'continuous': 350, 'current': 351, 'gwyneth': 352, 'rays': 353, 'include': 354, 'blood': 355, '1999': 356, '15': 357, 'justin': 358, 'working': 359, 'intelligence': 360, 'proves': 361, 'occupant': 362, 'sign': 363, 'assistant': 364, 'whose': 365, 'plays': 366, 'nose': 367, 'plug': 368, 'meticulously': 369, 'certain': 370, 'tracking': 371, 'including': 372, 'grade': 373, 'virginia': 374, 'released': 375, 'chauffeur': 376, 'find': 377, 'agent': 378, 'returns': 379, 'hill': 380, 'fall': 381, 'day': 382, 'hired': 383, 'repairs': 384, 'happy': 385, 'months': 386, 'destroy': 387, 'help': 388, 'rolls': 389, 'defeated': 390, 'unknown': 391, 'crew': 392, 'control': 393, 'home': 394, 'friend': 395, 'conviction': 396, 'capacity': 397, 'use': 398, 'meets': 399, 'depleting': 400, 'friction': 401, 'till': 402, 'anton': 403, 'johansson': 404, 'cores': 405, 'reports': 406, 'incomplete': 407, 'served': 408, 'actually': 409, 'collaborated': 410, 'meadows': 411, 'debris': 412, 'critically': 413, 'events': 414, 'give': 415, 'drive': 416, 'linked': 417, 'playboy': 418, 'air': 419, 'capture': 420, 'glass': 421, 'leads': 422, 'weapons': 423, 'powered': 424, 'offers': 425, 'way': 426, 'escapes': 427, 'latest': 428, 'components': 429, 'soldiers': 430, 'traces': 431, 'crowded': 432, 'tahir': 433, 'flies': 434, 'knowledge': 435, 'recorded': 436, 'terrence': 437, 'eric': 438, 'populations': 439, 'old': 440, 'flying': 441, 'exploding': 442, 'sacrifices': 443, 'lures': 444, 'cover': 445, 'suit': 446, 'government': 447, 'follows': 448, 'integrate': 449, 'yevgeni': 450, 'decades': 451, 'unleashed': 452, 'breaks': 453, 'aboard': 454, 'controlled': 455, 'apparent': 456, 'bravery': 457, 'shrapnel': 458, 'captive': 459, 'gather': 460, 'desire': 461, 'mexico': 462, 'enraged': 463, 'bombings': 464, 'followed': 465, 'ellis': 466, 'duplicate': 467, 'fighter': 468, 'recreating': 469, 'degrees': 470, 'ability': 471, 'successfully': 472, 'development': 473, 'little': 474, 'pitches': 475, 'impending': 476, 'explode': 477, 'machine': 478, 'circuit': 479, 'american': 480, 'garry': 481, 'downing': 482, 'capturing': 483, 'contract': 484, 'thing': 485, 'infuse': 486, 'arrested': 487, 'director': 488, 'intending': 489, 'dna': 490, 'however': 491, 'appropriated': 492, 'defense': 493, 'recalls': 494, 'smart': 495, 'names': 496, 'already': 497, 'despondent': 498, 'kiss': 499, 'returned': 500, 'jon': 501, 'similar': 502, 'collaborate': 503, 'orders': 504, 'reactor': 505, 'sends': 506, 'russia': 507, 'obsolete': 508, 'pearce': 509, 'invasion': 510, 'surviving': 511, 'prison': 512, 'security': 513, 'begins': 514, 'ceo': 515, 'entire': 516, 'ruin': 517, 'cases': 518, 'repulsor': 519, 'several': 520, 'undergoes': 521, 'secret': 522, 'sufficient': 523, 'element': 524, '1974': 525, 'around': 526, 'superhero': 527, 'cure': 528, 'ambush': 529, 'family': 530, 'munitions': 531, 'asleep': 532, 'paltrow': 533, 'version': 534, 'testify': 535, 'hulk': 536, 'partner': 537, 'ellen': 538, 'plants': 539, 'parts': 540, 'trying': 541, 'sex': 542, 'achievements': 543, 'following': 544, 'heavy': 545, 'run': 546, 'news': 547, 'roof': 548, 'requests': 549, 'blow': 550, 'defeats': 551, 'globe': 552, 'yinsen': 553, 'workshop': 554, 'serve': 555, 'remains': 556, 'mit': 557, 'rhodes': 558, 'poverty': 559, 'recreates': 560, 'quits': 561, 'father': 562, 'powering': 563, 'desert': 564, 'also': 565, 'limited': 566, 'candidate': 567, 'ben': 568, 'board': 569, 'instructs': 570, 'veteran': 571, 'injured': 572, 'robert': 573, 'kingsley': 574, '1963': 575, 'instantly': 576, 'actor': 577, 'turn': 578, 'toxicity': 579, 'gunships': 580, 'may': 581, 'liaison': 582, 'journalist': 583, 'trace': 584, 'subjugate': 585, 'building': 586, 'battle': 587, 'phones': 588, 'access': 589, 'longer': 590, 'collapses': 591, 'hatred': 592, 'oblivious': 593, 'rest': 594, 'fights': 595, 'replaces': 596, 'coulson': 597, 'arrives': 598, 'rings': 599, 'explosions': 600, 'generator': 601, 'ingests': 602, 'passengers': 603, 'combatants': 604, 'foreign': 605, 'condition': 606, 'boy': 607, 'story': 608, 'energy': 609, 'experiences': 610, 'clark': 611, 'wait': 612, 'triggered': 613, 'legacy': 614, 'property': 615, 'used': 616, 'capsule': 617, 'paul': 618, 'attacks': 619, 'gives': 620, 'planet': 621, 'secretly': 622, 'armored': 623, '1967': 624, 'clean': 625, 'aid': 626, 'effects': 627, 'stark': 628, 'years': 629, 'city': 630, 'says': 631, 'micro': 632, 'string': 633, 'sees': 634, 'controlling': 635, 'area': 636, 'apparently': 637, 'come': 638, 'ask': 639, 'graduated': 640, 'defenseless': 641, 'f1': 642, 'accident': 643, 'rival': 644, 'crater': 645, 'anyone': 646, 'mickey': 647, 'trap': 648, 'delivers': 649, 'diorama': 650, 'president': 651, 'hack': 652, 'selling': 653, 'debriefing': 654, 'distance': 655, 'kidnapped': 656, 'responds': 657, 'jeff': 658, 'flame': 659, 'ultimately': 660, 'fighting': 661, 'intended': 662, 'electromagnet': 663, 'burns': 664, 'always': 665, 'arc': 666, 'christine': 667, 'knows': 668, 'network': 669, 'agencies': 670, 'blast': 671, 'suits': 672, 'televised': 673, 'dog': 674, 'waited': 675, 'expanded': 676, 'tv': 677, 'secures': 678, 'associate': 679, 'thrower': 680, 'rescued': 681, 'procedure': 682, 'hallmarks': 683, 'enforcement': 684, 'arrest': 685, 'hacks': 686, 'blueprints': 687, 'perfect': 688, 'infiltrates': 689, 'kopeisk': 690, 'replace': 691, 'terrorist': 692, 'natasha': 693, 'launch': 694, '3000': 695, 'reporters': 696, 'provide': 697, 'extremis': 698, 'worked': 699, 'die': 700, 'heart': 701, 'chest': 702, 'accelerating': 703, 'due': 704, 'cheadle': 705, 'genius': 706, 'intervention': 707, 'business': 708, 'signature': 709, 'rushman': 710, 'glitch': 711, 'phil': 712, 'cuts': 713, 'hansen': 714, 'blamed': 715, 'responsibility': 716, 'generated': 717, 'alien': 718, 'reneged': 719, 'dead': 720, 'led': 721, 'using': 722, 'heat': 723, 'awarding': 724, 'teaming': 725, 'warn': 726, 'back': 727, 'royce': 728, 'terrorists': 729, 'musing': 730, 'reaches': 731, 'developing': 732, 'gain': 733, 'rampage': 734, 'issues': 735, 'travels': 736, 'intervene': 737, 'unleashes': 738, 'firsthand': 739, 'discover': 740, 'bruce': 741, 'stane': 742, 'hands': 743, 'mechanism': 744, 'builds': 745, 'agrees': 746, 'advanced': 747, 'decides': 748, 'ten': 749, 'trevor': 750, 'notices': 751, 'reveals': 752, 'could': 753, 'first': 754, 'company': 755, 'reunites': 756, 'visits': 757, 'footage': 758, 'discovering': 759, 'leader': 760, 'age': 761, 'program': 762, 'everhart': 763, 'scientist': 764, 'remove': 765, 'prompting': 766, 'badge': 767, 'inherited': 768, 'prototype': 769, 'destroying': 770, 'factory': 771, 'built': 772, 'removing': 773, 'defeating': 774, 'changed': 775, 'engineered': 776, 'computer': 777, 'substitute': 778, 'hero': 779, 'far': 780, 'manufacturing': 781, 'forever': 782, 'incorporates': 783, 'threat': 784, 'rockwell': 785, 'electrical': 786, 'giving': 787, 'images': 788, 'scarlett': 789, 'demonstrates': 790, 'engine': 791, 'goes': 792, 'showing': 793, 'killian': 794, 'abilities': 795, 'afghanistan': 796, 'base': 797, 'ii': 798, 'finds': 799, 'intervenes': 800, 'large': 801, 'jackson': 802, 'hand': 803, 'new': 804, 'ambushes': 805, 'reckless': 806, 'attempts': 807, 'synthesizes': 808, 'steal': 809, 'employee': 810, 'puppet': 811, 'even': 812, 'summon': 813, 'summons': 814, 'jarvis': 815, 'falls': 816, 'unconscious': 817, 'single': 818, 'begin': 819, 'continue': 820, 'survive': 821, 'instead': 822, 'girl': 823, 'eventually': 824, 'case': 825, 'two': 826, 'samuel': 827, 'confronted': 828, 'targets': 829, 'exchange': 830, 'carried': 831, 'revenge': 832, 'multiple': 833, 'still': 834, 'actions': 835, 'design': 836, 'upstage': 837, 'dependency': 838, 'subjects': 839, 'medals': 840, 'metal': 841, 'change': 842, 'listening': 843, 'beginning': 844, 'fellow': 845, 'revives': 846, 'contractor': 847, 'choosing': 848, 'jericho': 849, 'earlier': 850, 'missiles': 851, 'tell': 852, 'portable': 853, 'colonel': 854, 'meet': 855, 'seizes': 856, 'gets': 857, 'ai': 858, 'de': 859, 'death': 860, 'face': 861, '21': 862, 'simpkins': 863, 'time': 864, 'regenerative': 865, 'return': 866, 'destroyed': 867, 'asks': 868, 'original': 869, 'rose': 870, 'hidden': 871, 'explain': 872, 'reaching': 873, 'expo': 874, 'stupor': 875, 'atop': 876, 'places': 877, 'pepper': 878, 'structure': 879, 'become': 880, 'offer': 881, 'precocious': 882, 'facilities': 883, 'poisoning': 884, 'implants': 885, 'soviet': 886, 'drunk': 887, 'miami': 888, 'night': 889, 'senate': 890, 'refuses': 891, 'hogan': 892, 'intends': 893, 'potts': 894, 'briefcase': 895, 'personal': 896, 'end': 897, 'stage': 898, 'talking': 899, 'devote': 900, 'ivan': 901, 'iron': 902, 'strak': 903, 'place': 904, 'discovers': 905, 'started': 906, 'bewildered': 907, 'one': 908, 'witnesses': 909, 'girlfriend': 910, 'angers': 911, 'found': 912, 'power': 913, 'veterans': 914, '4': 915, 'slattery': 916, 'apartment': 917, 'mandarin': 918, 'growing': 919, 'causes': 920, 'television': 921, 'much': 922, 'faran': 923, 'plutonium': 924, 'learns': 925, 'explosion': 926, 'office': 927, '9': 928, 'demonstrate': 929, 'videos': 930, 'improvised': 931, 'safety': 932, 'scientists': 933, 'fell': 934, 'nations': 935, 'glowing': 936, 'ceremony': 937, 'invited': 938, 'process': 939, 'array': 940, 'local': 941, 'activities': 942, 'payloads': 943, 'huge': 944, 'maya': 945, 'treatment': 946, 'battles': 947, 'initiative': 948, 'laden': 949, 'party': 950, 'choice': 951, 'dale': 952, 'support': 953, 'reject': 954, 'conflict': 955, 'manufactured': 956, 'tennessee': 957, 'agency': 958, 'banner': 959, 'survived': 960, 'suspicious': 961, 'appoints': 962, 'bulky': 963, 'fight': 964, 'activates': 965, 'presents': 966, 'savin': 967, 'badly': 968, 'shandling': 969, 'car': 970, 'brandt': 971, 'fails': 972, 'comatose': 973, 'vanko': 974, 'village': 975, 'reverse': 976, 'massive': 977, 'held': 978, 'rebecca': 979, 'mechanics': 980, 'military': 981, 'received': 982}\n"
          ]
        }
      ],
      "source": [
        "# Here's what you should have:\n",
        "print(movies)\n",
        "print(len(word_set), word_set)\n",
        "print(index_dict)"
      ]
    },
    {
      "cell_type": "code",
      "execution_count": null,
      "metadata": {
        "colab": {
          "base_uri": "https://localhost:8080/"
        },
        "id": "e2QvAqnNPwVP",
        "outputId": "5ded1b48-86f1-40ac-fb0f-c89af76af434"
      },
      "outputs": [
        {
          "output_type": "stream",
          "name": "stdout",
          "text": [
            "[Counter({'stane': 0.02918188891774667, 'rings': 0.013732653608351374, 'ten': 0.013732653608351374, 'group': 0.006866326804175687, 'missile': 0.006866326804175687, 'terrorists': 0.006866326804175687, 'jericho': 0.006866326804175687, 'yinsen': 0.0057018530827710615, 'raza': 0.005149745103131765, 'christine': 0.005149745103131765, 'home': 0.004434774619933048, 'company': 0.004434774619933048, 'announces': 0.0034331634020878434, 'obadiah': 0.0034331634020878434, 'delivered': 0.0034331634020878434, 'battery': 0.0034331634020878434, 'take': 0.0034331634020878434, 'cave': 0.0034331634020878434, 'homeland': 0.0034331634020878434, 'keep': 0.0034331634020878434, 'wounded': 0.0034331634020878434, 'logistics': 0.0034331634020878434, 'press': 0.0034331634020878434, 'strategic': 0.0034331634020878434, 'division': 0.0034331634020878434, 'miniaturized': 0.0034331634020878434, 'build': 0.0034331634020878434, 'powered': 0.0034331634020878434, 'flies': 0.0034331634020878434, 'enraged': 0.0034331634020878434, 'heavy': 0.0034331634020878434, 'workshop': 0.0034331634020878434, 'electromagnet': 0.0034331634020878434, 'enforcement': 0.0034331634020878434, 'intervention': 0.0034331634020878434, 'age': 0.0034331634020878434, 'everhart': 0.0034331634020878434, 'afghanistan': 0.0034331634020878434, 'original': 0.0034331634020878434, 'manufactured': 0.0034331634020878434, 'bulky': 0.0034331634020878434, 'village': 0.0034331634020878434, 'built': 0.0025341569256760277, 'howard': 0.0019006176942570209, 'work': 0.0019006176942570209, 'assistant': 0.0019006176942570209, 'father': 0.0019006176942570209, 'large': 0.0019006176942570209, 'personal': 0.0019006176942570209, 'across': 0.0017165817010439217, 'full': 0.0017165817010439217, '6': 0.0017165817010439217, 'lab': 0.0017165817010439217, 'minutes': 0.0017165817010439217, 'wreckage': 0.0017165817010439217, 'head': 0.0017165817010439217, 'brilliant': 0.0017165817010439217, 'supplying': 0.0017165817010439217, 'subsequently': 0.0017165817010439217, 'harold': 0.0017165817010439217, 'dubbed': 0.0017165817010439217, 'public': 0.0017165817010439217, 'knocks': 0.0017165817010439217, 'eliminated': 0.0017165817010439217, 'bibb': 0.0017165817010439217, 'reporter': 0.0017165817010439217, '17': 0.0017165817010439217, 'agree': 0.0017165817010439217, 'advises': 0.0017165817010439217, 'vegas': 0.0017165817010439217, 'forge': 0.0017165817010439217, 'noting': 0.0017165817010439217, 'bridges': 0.0017165817010439217, 'surge': 0.0017165817010439217, 'l': 0.0017165817010439217, 'basic': 0.0017165817010439217, 'appearance': 0.0017165817010439217, 'overload': 0.0017165817010439217, 'extract': 0.0017165817010439217, 'manufacture': 0.0017165817010439217, 'leslie': 0.0017165817010439217, 'devastating': 0.0017165817010439217, 'conference': 0.0017165817010439217, 'precious': 0.0017165817010439217, 'paralyze': 0.0017165817010439217, 'subdues': 0.0017165817010439217, 'device': 0.0017165817010439217, 'crawl': 0.0017165817010439217, 'freedom': 0.0017165817010439217, 'recently': 0.0017165817010439217, 'discuss': 0.0017165817010439217, 'inform': 0.0017165817010439217, 'word': 0.0017165817010439217, 'explosive': 0.0017165817010439217, 'electric': 0.0017165817010439217, 'rocket': 0.0017165817010439217, 'crash': 0.0017165817010439217, 'though': 0.0017165817010439217, 'jets': 0.0017165817010439217, 'sonic': 0.0017165817010439217, 'manager': 0.0017165817010439217, 'available': 0.0017165817010439217, 'thrusters': 0.0017165817010439217, 'questions': 0.0017165817010439217, 'improved': 0.0017165817010439217, 'next': 0.0017165817010439217, 'divert': 0.0017165817010439217, 'raptor': 0.0017165817010439217, 'relatively': 0.0017165817010439217, 'called': 0.0017165817010439217, 'thereafter': 0.0017165817010439217, 'showcase': 0.0017165817010439217, 'legendary': 0.0017165817010439217, 'good': 0.0017165817010439217, 'imprisoned': 0.0017165817010439217, 'friends': 0.0017165817010439217, 'small': 0.0017165817010439217, 'rudimentary': 0.0017165817010439217, 'took': 0.0017165817010439217, 'wants': 0.0017165817010439217, 'occupant': 0.0017165817010439217, 'plug': 0.0017165817010439217, 'meticulously': 0.0017165817010439217, 'virginia': 0.0017165817010439217, 'hired': 0.0017165817010439217, 'capacity': 0.0017165817010439217, 'meets': 0.0017165817010439217, 'till': 0.0017165817010439217, 'critically': 0.0017165817010439217, 'events': 0.0017165817010439217, 'playboy': 0.0017165817010439217, 'glass': 0.0017165817010439217, 'components': 0.0017165817010439217, 'tahir': 0.0017165817010439217, 'terrence': 0.0017165817010439217, 'populations': 0.0017165817010439217, 'flying': 0.0017165817010439217, 'sacrifices': 0.0017165817010439217, 'lures': 0.0017165817010439217, 'unleashed': 0.0017165817010439217, 'captive': 0.0017165817010439217, 'gather': 0.0017165817010439217, 'duplicate': 0.0017165817010439217, 'fighter': 0.0017165817010439217, 'smart': 0.0017165817010439217, 'returned': 0.0017165817010439217, 'ruin': 0.0017165817010439217, 'secret': 0.0017165817010439217, 'superhero': 0.0017165817010439217, 'ambush': 0.0017165817010439217, 'munitions': 0.0017165817010439217, 'sex': 0.0017165817010439217, 'run': 0.0017165817010439217, 'requests': 0.0017165817010439217, 'blow': 0.0017165817010439217, 'globe': 0.0017165817010439217, 'mit': 0.0017165817010439217, 'limited': 0.0017165817010439217, 'board': 0.0017165817010439217, 'instructs': 0.0017165817010439217, 'may': 0.0017165817010439217, 'journalist': 0.0017165817010439217, 'subjugate': 0.0017165817010439217, 'phones': 0.0017165817010439217, 'rest': 0.0017165817010439217, 'fights': 0.0017165817010439217, 'generator': 0.0017165817010439217, 'planet': 0.0017165817010439217, 'secretly': 0.0017165817010439217, 'clean': 0.0017165817010439217, 'area': 0.0017165817010439217, 'ask': 0.0017165817010439217, 'graduated': 0.0017165817010439217, 'defenseless': 0.0017165817010439217, 'accident': 0.0017165817010439217, 'hack': 0.0017165817010439217, 'selling': 0.0017165817010439217, 'jeff': 0.0017165817010439217, 'flame': 0.0017165817010439217, 'burns': 0.0017165817010439217, 'thrower': 0.0017165817010439217, 'rescued': 0.0017165817010439217, 'arrest': 0.0017165817010439217, 'replace': 0.0017165817010439217, 'launch': 0.0017165817010439217, 'reporters': 0.0017165817010439217, 'die': 0.0017165817010439217, 'genius': 0.0017165817010439217, 'phil': 0.0017165817010439217, 'reneged': 0.0017165817010439217, 'back': 0.0017165817010439217, 'unleashes': 0.0017165817010439217, 'discover': 0.0017165817010439217, 'hands': 0.0017165817010439217, 'builds': 0.0017165817010439217, 'notices': 0.0017165817010439217, 'visits': 0.0017165817010439217, 'prompting': 0.0017165817010439217, 'inherited': 0.0017165817010439217, 'prototype': 0.0017165817010439217, 'factory': 0.0017165817010439217, 'changed': 0.0017165817010439217, 'engineered': 0.0017165817010439217, 'hero': 0.0017165817010439217, 'forever': 0.0017165817010439217, 'incorporates': 0.0017165817010439217, 'electrical': 0.0017165817010439217, 'engine': 0.0017165817010439217, 'base': 0.0017165817010439217, 'ambushes': 0.0017165817010439217, 'unconscious': 0.0017165817010439217, 'single': 0.0017165817010439217, 'begin': 0.0017165817010439217, 'two': 0.0017165817010439217, 'targets': 0.0017165817010439217, 'multiple': 0.0017165817010439217, 'metal': 0.0017165817010439217, 'fellow': 0.0017165817010439217, 'missiles': 0.0017165817010439217, 'meet': 0.0017165817010439217, 'ai': 0.0017165817010439217, 'face': 0.0017165817010439217, '21': 0.0017165817010439217, 'explain': 0.0017165817010439217, 'reaching': 0.0017165817010439217, 'atop': 0.0017165817010439217, 'places': 0.0017165817010439217, 'facilities': 0.0017165817010439217, 'end': 0.0017165817010439217, '4': 0.0017165817010439217, 'faran': 0.0017165817010439217, 'office': 0.0017165817010439217, 'demonstrate': 0.0017165817010439217, 'scientists': 0.0017165817010439217, 'array': 0.0017165817010439217, 'activities': 0.0017165817010439217, 'payloads': 0.0017165817010439217, 'conflict': 0.0017165817010439217, 'agency': 0.0017165817010439217, 'presents': 0.0017165817010439217, 'reverse': 0.0017165817010439217, 'massive': 0.0017165817010439217, 'attempt': 0.0012670784628380138, 'system': 0.0012670784628380138, 'powerful': 0.0012670784628380138, 'killing': 0.0012670784628380138, 'dons': 0.0012670784628380138, 'find': 0.0012670784628380138, 'agent': 0.0012670784628380138, 'use': 0.0012670784628380138, 'old': 0.0012670784628380138, 'cover': 0.0012670784628380138, 'version': 0.0012670784628380138, 'building': 0.0012670784628380138, 'coulson': 0.0012670784628380138, 'story': 0.0012670784628380138, 'legacy': 0.0012670784628380138, 'armored': 0.0012670784628380138, 'terrorist': 0.0012670784628380138, 'power': 0.0012670784628380138, 'car': 0.0012670784628380138, 'identity': 0.0006335392314190069, 'agents': 0.0006335392314190069, 'confronts': 0.0006335392314190069, 'soon': 0.0006335392314190069, 'left': 0.0006335392314190069, 'seeking': 0.0006335392314190069, 'keeps': 0.0006335392314190069, 'evidence': 0.0006335392314190069, 'fury': 0.0006335392314190069, 'meanwhile': 0.0006335392314190069, 'manages': 0.0006335392314190069, 'palladium': 0.0006335392314190069, 'details': 0.0006335392314190069, 'combat': 0.0006335392314190069, 'causing': 0.0006335392314190069, 'gregg': 0.0006335392314190069, 'native': 0.0006335392314190069, 'jr': 0.0006335392314190069, 'well': 0.0006335392314190069, 'deliver': 0.0006335392314190069, 'nick': 0.0006335392314190069, 'informs': 0.0006335392314190069, 'away': 0.0006335392314190069, 'lieutenant': 0.0006335392314190069, 'died': 0.0006335392314190069, 'escape': 0.0006335392314190069, 'toub': 0.0006335392314190069, 'without': 0.0006335392314190069, 'avengers': 0.0006335392314190069, 'downey': 0.0006335392314190069, 'shaun': 0.0006335392314190069, 'dying': 0.0006335392314190069, 'flight': 0.0006335392314190069, 'kill': 0.0006335392314190069, 'shot': 0.0006335392314190069, 'bodyguard': 0.0006335392314190069, 'pieces': 0.0006335392314190069, '15': 0.0006335392314190069, 'including': 0.0006335392314190069, 'chauffeur': 0.0006335392314190069, 'returns': 0.0006335392314190069, 'fall': 0.0006335392314190069, 'day': 0.0006335392314190069, 'friend': 0.0006335392314190069, 'offers': 0.0006335392314190069, 'way': 0.0006335392314190069, 'shrapnel': 0.0006335392314190069, 'circuit': 0.0006335392314190069, 'director': 0.0006335392314190069, 'defense': 0.0006335392314190069, 'sends': 0.0006335392314190069, 'begins': 0.0006335392314190069, 'entire': 0.0006335392314190069, 'repulsor': 0.0006335392314190069, 'several': 0.0006335392314190069, 'partner': 0.0006335392314190069, 'trying': 0.0006335392314190069, 'powering': 0.0006335392314190069, 'desert': 0.0006335392314190069, 'liaison': 0.0006335392314190069, 'access': 0.0006335392314190069, 'longer': 0.0006335392314190069, 'energy': 0.0006335392314190069, 'clark': 0.0006335392314190069, 'gives': 0.0006335392314190069, 'says': 0.0006335392314190069, 'delivers': 0.0006335392314190069, 'provide': 0.0006335392314190069, 'heart': 0.0006335392314190069, 'chest': 0.0006335392314190069, 'decides': 0.0006335392314190069, 'leader': 0.0006335392314190069, 'destroying': 0.0006335392314190069, 'computer': 0.0006335392314190069, 'giving': 0.0006335392314190069, 'jackson': 0.0006335392314190069, 'instead': 0.0006335392314190069, 'samuel': 0.0006335392314190069, 'exchange': 0.0006335392314190069, 'design': 0.0006335392314190069, 'beginning': 0.0006335392314190069, 'contractor': 0.0006335392314190069, 'colonel': 0.0006335392314190069, 'return': 0.0006335392314190069, 'night': 0.0006335392314190069, 'discovers': 0.0006335392314190069, 'learns': 0.0006335392314190069, 'battles': 0.0006335392314190069, 'initiative': 0.0006335392314190069, 'suspicious': 0.0006335392314190069, 'presenter': 0.0, 'tony': 0.0, 'alive': 0.0, 'disability': 0.0, 'british': 0.0, 'explosively': 0.0, 'undercover': 0.0, 'recovery': 0.0, 'james': 0.0, 'kills': 0.0, 'told': 0.0, 'neither': 0.0, 'name': 0.0, 'embedded': 0.0, 'research': 0.0, 'course': 0.0, 'man': 0.0, 'along': 0.0, 'location': 0.0, 'rig': 0.0, 'market': 0.0, 'defected': 0.0, 'mark': 0.0, 'hall': 0.0, 'lazarev': 0.0, 'harley': 0.0, 'inside': 0.0, 'humans': 0.0, 'bearing': 0.0, 'untested': 0.0, 'industries': 0.0, 'monaco': 0.0, 'revealing': 0.0, 'claiming': 0.0, 'based': 0.0, 'systems': 0.0, 'save': 0.0, 'seeing': 0.0, 'headquarters': 0.0, 'experimental': 0.0, 'consultant': 0.0, 'racing': 0.0, 'video': 0.0, 'flaws': 0.0, 'race': 0.0, 'founder': 0.0, 'birthday': 0.0, 'blows': 0.0, 'allow': 0.0, 'live': 0.0, 'turns': 0.0, 'romanoff': 0.0, 'respond': 0.0, 'known': 0.0, 'uses': 0.0, 'rate': 0.0, 'war': 0.0, 'line': 0.0, 'world': 0.0, 'tells': 0.0, 'sea': 0.0, 'plot': 0.0, 'match': 0.0, 'diagram': 0.0, 'aim': 0.0, 'era': 0.0, 'manipulated': 0.0, 'claims': 0.0, 'disabled': 0.0, 'blasts': 0.0, 'hardware': 0.0, 'investigates': 0.0, 'bottom': 0.0, 'powers': 0.0, 'us': 0.0, 'sam': 0.0, 'lack': 0.0, 'forcing': 0.0, 'crippling': 0.0, 'hacking': 0.0, 'beams': 0.0, 'regarding': 0.0, 'ends': 0.0, 'creating': 0.0, 'eve': 0.0, 'force': 0.0, 'peace': 0.0, 'demands': 0.0, 'fakes': 0.0, 'arrogantly': 0.0, 'idea': 0.0, 'leverage': 0.0, 'buried': 0.0, 'replacement': 0.0, 'digitally': 0.0, 'surgery': 0.0, 'patriot': 0.0, 'personally': 0.0, 'tags': 0.0, 'slowly': 0.0, 'bettany': 0.0, 'chief': 0.0, 'stephanie': 0.0, 'near': 0.0, 'starts': 0.0, 'another': 0.0, 'fire': 0.0, 'competitors': 0.0, 'sadler': 0.0, 'material': 0.0, 'human': 0.0, 'plan': 0.0, 'knew': 0.0, 'heavily': 0.0, 'helicopter': 0.0, 'failed': 0.0, 'armor': 0.0, '19': 0.0, 'restless': 0.0, 'picks': 0.0, 'technology': 0.0, 'natalie': 0.0, 'body': 0.0, 'true': 0.0, 'artificial': 0.0, 'great': 0.0, 'california': 0.0, 'core': 0.0, 'panic': 0.0, 'hurt': 0.0, 'sell': 0.0, 'deaths': 0.0, 'identifiable': 0.0, 'intention': 0.0, 'remotely': 0.0, 'punches': 0.0, 'union': 0.0, 'suitable': 0.0, 'later': 0.0, 'injuries': 0.0, 'cemented': 0.0, 'bomb': 0.0, 'reluctantly': 0.0, 'traps': 0.0, 'york': 0.0, 'site': 0.0, 'szostak': 0.0, 'believes': 0.0, 'taking': 0.0, 'high': 0.0, '2': 0.0, 'message': 0.0, 'creation': 0.0, 'stabilized': 0.0, 'rural': 0.0, 'rourke': 0.0, 'generation': 0.0, 'maintain': 0.0, 'acts': 0.0, 'drones': 0.0, 'attack': 0.0, 'investigation': 0.0, 'platform': 0.0, 'vice': 0.0, 'stern': 0.0, 'senator': 0.0, 'future': 0.0, '53': 0.0, 'pakistan': 0.0, 'talks': 0.0, 'primary': 0.0, 'guy': 0.0, 'forgot': 0.0, 'six': 0.0, 'confront': 0.0, 'lacks': 0.0, 'hearing': 0.0, 'deported': 0.0, 'hammer': 0.0, 'overcomes': 0.0, 'william': 0.0, 'recruits': 0.0, 'speak': 0.0, 'wakes': 0.0, 'abducting': 0.0, 'allowed': 0.0, 'fixing': 0.0, 'rebuffs': 0.0, 'approaches': 0.0, 'former': 0.0, 'last': 0.0, 'unveils': 0.0, 'discovery': 0.0, 'superhuman': 0.0, 'flushing': 0.0, 'scene': 0.0, 'inventor': 0.0, 'ty': 0.0, 'damaged': 0.0, 'increasingly': 0.0, 'luring': 0.0, 'sites': 0.0, 'impounded': 0.0, 'subjected': 0.0, 'involved': 0.0, 'aldrich': 0.0, 'fact': 0.0, 'son': 0.0, 'plans': 0.0, 'profit': 0.0, 'planned': 0.0, 'favreau': 0.0, 'ran': 0.0, 'stop': 0.0, 'forensic': 0.0, 'explaining': 0.0, 'saves': 0.0, 'continuous': 0.0, 'current': 0.0, 'gwyneth': 0.0, 'rays': 0.0, 'include': 0.0, 'blood': 0.0, '1999': 0.0, 'justin': 0.0, 'working': 0.0, 'intelligence': 0.0, 'proves': 0.0, 'sign': 0.0, 'whose': 0.0, 'plays': 0.0, 'nose': 0.0, 'certain': 0.0, 'tracking': 0.0, 'grade': 0.0, 'released': 0.0, 'hill': 0.0, 'repairs': 0.0, 'happy': 0.0, 'months': 0.0, 'destroy': 0.0, 'help': 0.0, 'rolls': 0.0, 'defeated': 0.0, 'unknown': 0.0, 'crew': 0.0, 'control': 0.0, 'conviction': 0.0, 'depleting': 0.0, 'friction': 0.0, 'anton': 0.0, 'johansson': 0.0, 'cores': 0.0, 'reports': 0.0, 'incomplete': 0.0, 'served': 0.0, 'actually': 0.0, 'collaborated': 0.0, 'meadows': 0.0, 'debris': 0.0, 'give': 0.0, 'drive': 0.0, 'linked': 0.0, 'air': 0.0, 'capture': 0.0, 'leads': 0.0, 'weapons': 0.0, 'escapes': 0.0, 'latest': 0.0, 'soldiers': 0.0, 'traces': 0.0, 'crowded': 0.0, 'knowledge': 0.0, 'recorded': 0.0, 'eric': 0.0, 'exploding': 0.0, 'suit': 0.0, 'government': 0.0, 'follows': 0.0, 'integrate': 0.0, 'yevgeni': 0.0, 'decades': 0.0, 'breaks': 0.0, 'aboard': 0.0, 'controlled': 0.0, 'apparent': 0.0, 'bravery': 0.0, 'desire': 0.0, 'mexico': 0.0, 'bombings': 0.0, 'followed': 0.0, 'ellis': 0.0, 'recreating': 0.0, 'degrees': 0.0, 'ability': 0.0, 'successfully': 0.0, 'development': 0.0, 'little': 0.0, 'pitches': 0.0, 'impending': 0.0, 'explode': 0.0, 'machine': 0.0, 'american': 0.0, 'garry': 0.0, 'downing': 0.0, 'capturing': 0.0, 'contract': 0.0, 'thing': 0.0, 'infuse': 0.0, 'arrested': 0.0, 'intending': 0.0, 'dna': 0.0, 'however': 0.0, 'appropriated': 0.0, 'recalls': 0.0, 'names': 0.0, 'already': 0.0, 'despondent': 0.0, 'kiss': 0.0, 'jon': 0.0, 'similar': 0.0, 'collaborate': 0.0, 'orders': 0.0, 'reactor': 0.0, 'russia': 0.0, 'obsolete': 0.0, 'pearce': 0.0, 'invasion': 0.0, 'surviving': 0.0, 'prison': 0.0, 'security': 0.0, 'ceo': 0.0, 'cases': 0.0, 'undergoes': 0.0, 'sufficient': 0.0, 'element': 0.0, '1974': 0.0, 'around': 0.0, 'cure': 0.0, 'family': 0.0, 'asleep': 0.0, 'paltrow': 0.0, 'testify': 0.0, 'hulk': 0.0, 'ellen': 0.0, 'plants': 0.0, 'parts': 0.0, 'achievements': 0.0, 'following': 0.0, 'news': 0.0, 'roof': 0.0, 'defeats': 0.0, 'serve': 0.0, 'remains': 0.0, 'rhodes': 0.0, 'poverty': 0.0, 'recreates': 0.0, 'quits': 0.0, 'also': 0.0, 'candidate': 0.0, 'ben': 0.0, 'veteran': 0.0, 'injured': 0.0, 'robert': 0.0, 'kingsley': 0.0, '1963': 0.0, 'instantly': 0.0, 'actor': 0.0, 'turn': 0.0, 'toxicity': 0.0, 'gunships': 0.0, 'trace': 0.0, 'battle': 0.0, 'collapses': 0.0, 'hatred': 0.0, 'oblivious': 0.0, 'replaces': 0.0, 'arrives': 0.0, 'explosions': 0.0, 'ingests': 0.0, 'passengers': 0.0, 'combatants': 0.0, 'foreign': 0.0, 'condition': 0.0, 'boy': 0.0, 'experiences': 0.0, 'wait': 0.0, 'triggered': 0.0, 'property': 0.0, 'used': 0.0, 'capsule': 0.0, 'paul': 0.0, 'attacks': 0.0, '1967': 0.0, 'aid': 0.0, 'effects': 0.0, 'stark': 0.0, 'years': 0.0, 'city': 0.0, 'micro': 0.0, 'string': 0.0, 'sees': 0.0, 'controlling': 0.0, 'apparently': 0.0, 'come': 0.0, 'f1': 0.0, 'rival': 0.0, 'crater': 0.0, 'anyone': 0.0, 'mickey': 0.0, 'trap': 0.0, 'diorama': 0.0, 'president': 0.0, 'debriefing': 0.0, 'distance': 0.0, 'kidnapped': 0.0, 'responds': 0.0, 'ultimately': 0.0, 'fighting': 0.0, 'intended': 0.0, 'always': 0.0, 'arc': 0.0, 'knows': 0.0, 'network': 0.0, 'agencies': 0.0, 'blast': 0.0, 'suits': 0.0, 'televised': 0.0, 'dog': 0.0, 'waited': 0.0, 'expanded': 0.0, 'tv': 0.0, 'secures': 0.0, 'associate': 0.0, 'procedure': 0.0, 'hallmarks': 0.0, 'hacks': 0.0, 'blueprints': 0.0, 'perfect': 0.0, 'infiltrates': 0.0, 'kopeisk': 0.0, 'natasha': 0.0, '3000': 0.0, 'extremis': 0.0, 'worked': 0.0, 'accelerating': 0.0, 'due': 0.0, 'cheadle': 0.0, 'business': 0.0, 'signature': 0.0, 'rushman': 0.0, 'glitch': 0.0, 'cuts': 0.0, 'hansen': 0.0, 'blamed': 0.0, 'responsibility': 0.0, 'generated': 0.0, 'alien': 0.0, 'dead': 0.0, 'led': 0.0, 'using': 0.0, 'heat': 0.0, 'awarding': 0.0, 'teaming': 0.0, 'warn': 0.0, 'royce': 0.0, 'musing': 0.0, 'reaches': 0.0, 'developing': 0.0, 'gain': 0.0, 'rampage': 0.0, 'issues': 0.0, 'travels': 0.0, 'intervene': 0.0, 'firsthand': 0.0, 'bruce': 0.0, 'mechanism': 0.0, 'agrees': 0.0, 'advanced': 0.0, 'trevor': 0.0, 'reveals': 0.0, 'could': 0.0, 'first': 0.0, 'reunites': 0.0, 'footage': 0.0, 'discovering': 0.0, 'program': 0.0, 'scientist': 0.0, 'remove': 0.0, 'badge': 0.0, 'removing': 0.0, 'defeating': 0.0, 'substitute': 0.0, 'far': 0.0, 'manufacturing': 0.0, 'threat': 0.0, 'rockwell': 0.0, 'images': 0.0, 'scarlett': 0.0, 'demonstrates': 0.0, 'goes': 0.0, 'showing': 0.0, 'killian': 0.0, 'abilities': 0.0, 'ii': 0.0, 'finds': 0.0, 'intervenes': 0.0, 'hand': 0.0, 'new': 0.0, 'reckless': 0.0, 'attempts': 0.0, 'synthesizes': 0.0, 'steal': 0.0, 'employee': 0.0, 'puppet': 0.0, 'even': 0.0, 'summon': 0.0, 'summons': 0.0, 'jarvis': 0.0, 'falls': 0.0, 'continue': 0.0, 'survive': 0.0, 'girl': 0.0, 'eventually': 0.0, 'case': 0.0, 'confronted': 0.0, 'carried': 0.0, 'revenge': 0.0, 'still': 0.0, 'actions': 0.0, 'upstage': 0.0, 'dependency': 0.0, 'subjects': 0.0, 'medals': 0.0, 'change': 0.0, 'listening': 0.0, 'revives': 0.0, 'choosing': 0.0, 'earlier': 0.0, 'tell': 0.0, 'portable': 0.0, 'seizes': 0.0, 'gets': 0.0, 'de': 0.0, 'death': 0.0, 'simpkins': 0.0, 'time': 0.0, 'regenerative': 0.0, 'destroyed': 0.0, 'asks': 0.0, 'rose': 0.0, 'hidden': 0.0, 'expo': 0.0, 'stupor': 0.0, 'pepper': 0.0, 'structure': 0.0, 'become': 0.0, 'offer': 0.0, 'precocious': 0.0, 'poisoning': 0.0, 'implants': 0.0, 'soviet': 0.0, 'drunk': 0.0, 'miami': 0.0, 'senate': 0.0, 'refuses': 0.0, 'hogan': 0.0, 'intends': 0.0, 'potts': 0.0, 'briefcase': 0.0, 'stage': 0.0, 'talking': 0.0, 'devote': 0.0, 'ivan': 0.0, 'iron': 0.0, 'strak': 0.0, 'place': 0.0, 'started': 0.0, 'bewildered': 0.0, 'one': 0.0, 'witnesses': 0.0, 'girlfriend': 0.0, 'angers': 0.0, 'found': 0.0, 'veterans': 0.0, 'slattery': 0.0, 'apartment': 0.0, 'mandarin': 0.0, 'growing': 0.0, 'causes': 0.0, 'television': 0.0, 'much': 0.0, 'plutonium': 0.0, 'explosion': 0.0, '9': 0.0, 'videos': 0.0, 'improvised': 0.0, 'safety': 0.0, 'fell': 0.0, 'nations': 0.0, 'glowing': 0.0, 'ceremony': 0.0, 'invited': 0.0, 'process': 0.0, 'local': 0.0, 'huge': 0.0, 'maya': 0.0, 'treatment': 0.0, 'laden': 0.0, 'party': 0.0, 'choice': 0.0, 'dale': 0.0, 'support': 0.0, 'reject': 0.0, 'tennessee': 0.0, 'banner': 0.0, 'survived': 0.0, 'appoints': 0.0, 'fight': 0.0, 'activates': 0.0, 'savin': 0.0, 'badly': 0.0, 'shandling': 0.0, 'brandt': 0.0, 'fails': 0.0, 'comatose': 0.0, 'vanko': 0.0, 'held': 0.0, 'rebecca': 0.0, 'mechanics': 0.0, 'military': 0.0, 'received': 0.0}), Counter({'vanko': 0.03443925669805986, 'hammer': 0.01549766551412694, 'drones': 0.010331777009417962, 'anton': 0.010331777009417962, 'ivan': 0.010331777009417962, 'expo': 0.008609814174514965, 'stern': 0.0068878513396119735, 'mark': 0.005165888504708981, 'romanoff': 0.005165888504708981, 'ceo': 0.005165888504708981, 'ii': 0.005165888504708981, 'alive': 0.0034439256698059867, 'monaco': 0.0034439256698059867, 'revealing': 0.0034439256698059867, 'us': 0.0034439256698059867, 'fire': 0.0034439256698059867, 'natalie': 0.0034439256698059867, 'core': 0.0034439256698059867, '2': 0.0034439256698059867, 'senator': 0.0034439256698059867, 'last': 0.0034439256698059867, 'blood': 0.0034439256698059867, 'justin': 0.0034439256698059867, 'control': 0.0034439256698059867, 'government': 0.0034439256698059867, 'prison': 0.0034439256698059867, 'element': 0.0034439256698059867, '1974': 0.0034439256698059867, 'news': 0.0034439256698059867, 'toxicity': 0.0034439256698059867, 'foreign': 0.0034439256698059867, 'condition': 0.0034439256698059867, 'f1': 0.0034439256698059867, 'rival': 0.0034439256698059867, 'rushman': 0.0034439256698059867, 'continue': 0.0034439256698059867, 'revenge': 0.0034439256698059867, 'gets': 0.0034439256698059867, 'poisoning': 0.0034439256698059867, 'soviet': 0.0034439256698059867, 'nations': 0.0034439256698059867, 'palladium': 0.0031776262390921972, 'howard': 0.0031776262390921972, 'fury': 0.002542100991273758, 'old': 0.002542100991273758, 'father': 0.002542100991273758, 'armored': 0.0019065757434553186, 'presenter': 0.0017219628349029934, 'undercover': 0.0017219628349029934, 'told': 0.0017219628349029934, 'neither': 0.0017219628349029934, 'course': 0.0017219628349029934, 'along': 0.0017219628349029934, 'defected': 0.0017219628349029934, 'lazarev': 0.0017219628349029934, 'untested': 0.0017219628349029934, 'claiming': 0.0017219628349029934, 'based': 0.0017219628349029934, 'seeing': 0.0017219628349029934, 'consultant': 0.0017219628349029934, 'racing': 0.0017219628349029934, 'race': 0.0017219628349029934, 'founder': 0.0017219628349029934, 'birthday': 0.0017219628349029934, 'known': 0.0017219628349029934, 'uses': 0.0017219628349029934, 'rate': 0.0017219628349029934, 'line': 0.0017219628349029934, 'match': 0.0017219628349029934, 'diagram': 0.0017219628349029934, 'era': 0.0017219628349029934, 'bottom': 0.0017219628349029934, 'sam': 0.0017219628349029934, 'forcing': 0.0017219628349029934, 'beams': 0.0017219628349029934, 'ends': 0.0017219628349029934, 'peace': 0.0017219628349029934, 'demands': 0.0017219628349029934, 'fakes': 0.0017219628349029934, 'replacement': 0.0017219628349029934, 'personally': 0.0017219628349029934, 'slowly': 0.0017219628349029934, 'competitors': 0.0017219628349029934, 'material': 0.0017219628349029934, 'heavily': 0.0017219628349029934, 'failed': 0.0017219628349029934, '19': 0.0017219628349029934, 'sell': 0.0017219628349029934, 'union': 0.0017219628349029934, 'suitable': 0.0017219628349029934, 'reluctantly': 0.0017219628349029934, 'high': 0.0017219628349029934, 'message': 0.0017219628349029934, 'rourke': 0.0017219628349029934, 'maintain': 0.0017219628349029934, 'acts': 0.0017219628349029934, 'future': 0.0017219628349029934, '53': 0.0017219628349029934, 'pakistan': 0.0017219628349029934, 'talks': 0.0017219628349029934, 'primary': 0.0017219628349029934, 'six': 0.0017219628349029934, 'confront': 0.0017219628349029934, 'hearing': 0.0017219628349029934, 'deported': 0.0017219628349029934, 'recruits': 0.0017219628349029934, 'approaches': 0.0017219628349029934, 'unveils': 0.0017219628349029934, 'discovery': 0.0017219628349029934, 'flushing': 0.0017219628349029934, 'damaged': 0.0017219628349029934, 'increasingly': 0.0017219628349029934, 'fact': 0.0017219628349029934, 'son': 0.0017219628349029934, 'plans': 0.0017219628349029934, 'profit': 0.0017219628349029934, 'planned': 0.0017219628349029934, 'explaining': 0.0017219628349029934, 'continuous': 0.0017219628349029934, 'current': 0.0017219628349029934, 'rays': 0.0017219628349029934, 'proves': 0.0017219628349029934, 'plays': 0.0017219628349029934, 'grade': 0.0017219628349029934, 'months': 0.0017219628349029934, 'rolls': 0.0017219628349029934, 'defeated': 0.0017219628349029934, 'conviction': 0.0017219628349029934, 'depleting': 0.0017219628349029934, 'johansson': 0.0017219628349029934, 'cores': 0.0017219628349029934, 'reports': 0.0017219628349029934, 'served': 0.0017219628349029934, 'collaborated': 0.0017219628349029934, 'meadows': 0.0017219628349029934, 'drive': 0.0017219628349029934, 'capture': 0.0017219628349029934, 'knowledge': 0.0017219628349029934, 'recorded': 0.0017219628349029934, 'integrate': 0.0017219628349029934, 'yevgeni': 0.0017219628349029934, 'decades': 0.0017219628349029934, 'bravery': 0.0017219628349029934, 'desire': 0.0017219628349029934, 'mexico': 0.0017219628349029934, 'recreating': 0.0017219628349029934, 'successfully': 0.0017219628349029934, 'impending': 0.0017219628349029934, 'garry': 0.0017219628349029934, 'contract': 0.0017219628349029934, 'names': 0.0017219628349029934, 'already': 0.0017219628349029934, 'despondent': 0.0017219628349029934, 'kiss': 0.0017219628349029934, 'similar': 0.0017219628349029934, 'russia': 0.0017219628349029934, 'family': 0.0017219628349029934, 'testify': 0.0017219628349029934, 'hulk': 0.0017219628349029934, 'achievements': 0.0017219628349029934, 'defeats': 0.0017219628349029934, 'serve': 0.0017219628349029934, 'poverty': 0.0017219628349029934, 'quits': 0.0017219628349029934, 'candidate': 0.0017219628349029934, '1963': 0.0017219628349029934, 'replaces': 0.0017219628349029934, 'arrives': 0.0017219628349029934, 'combatants': 0.0017219628349029934, 'property': 0.0017219628349029934, '1967': 0.0017219628349029934, 'city': 0.0017219628349029934, 'apparently': 0.0017219628349029934, 'crater': 0.0017219628349029934, 'anyone': 0.0017219628349029934, 'mickey': 0.0017219628349029934, 'diorama': 0.0017219628349029934, 'debriefing': 0.0017219628349029934, 'ultimately': 0.0017219628349029934, 'fighting': 0.0017219628349029934, 'knows': 0.0017219628349029934, 'network': 0.0017219628349029934, 'tv': 0.0017219628349029934, 'hacks': 0.0017219628349029934, 'blueprints': 0.0017219628349029934, 'perfect': 0.0017219628349029934, 'kopeisk': 0.0017219628349029934, 'natasha': 0.0017219628349029934, 'worked': 0.0017219628349029934, 'accelerating': 0.0017219628349029934, 'due': 0.0017219628349029934, 'business': 0.0017219628349029934, 'cuts': 0.0017219628349029934, 'led': 0.0017219628349029934, 'awarding': 0.0017219628349029934, 'royce': 0.0017219628349029934, 'developing': 0.0017219628349029934, 'rampage': 0.0017219628349029934, 'travels': 0.0017219628349029934, 'intervene': 0.0017219628349029934, 'mechanism': 0.0017219628349029934, 'agrees': 0.0017219628349029934, 'could': 0.0017219628349029934, 'footage': 0.0017219628349029934, 'removing': 0.0017219628349029934, 'defeating': 0.0017219628349029934, 'substitute': 0.0017219628349029934, 'rockwell': 0.0017219628349029934, 'images': 0.0017219628349029934, 'scarlett': 0.0017219628349029934, 'showing': 0.0017219628349029934, 'hand': 0.0017219628349029934, 'reckless': 0.0017219628349029934, 'attempts': 0.0017219628349029934, 'synthesizes': 0.0017219628349029934, 'employee': 0.0017219628349029934, 'upstage': 0.0017219628349029934, 'dependency': 0.0017219628349029934, 'medals': 0.0017219628349029934, 'choosing': 0.0017219628349029934, 'tell': 0.0017219628349029934, 'portable': 0.0017219628349029934, 'seizes': 0.0017219628349029934, 'de': 0.0017219628349029934, 'hidden': 0.0017219628349029934, 'structure': 0.0017219628349029934, 'drunk': 0.0017219628349029934, 'senate': 0.0017219628349029934, 'refuses': 0.0017219628349029934, 'strak': 0.0017219628349029934, 'angers': 0.0017219628349029934, 'growing': 0.0017219628349029934, 'much': 0.0017219628349029934, 'plutonium': 0.0017219628349029934, 'videos': 0.0017219628349029934, 'ceremony': 0.0017219628349029934, 'invited': 0.0017219628349029934, 'process': 0.0017219628349029934, 'huge': 0.0017219628349029934, 'laden': 0.0017219628349029934, 'choice': 0.0017219628349029934, 'appoints': 0.0017219628349029934, 'fight': 0.0017219628349029934, 'activates': 0.0017219628349029934, 'shandling': 0.0017219628349029934, 'held': 0.0017219628349029934, 'combat': 0.001271050495636879, 'deliver': 0.001271050495636879, 'died': 0.001271050495636879, 'bodyguard': 0.001271050495636879, 'agent': 0.001271050495636879, 'defense': 0.001271050495636879, 'repulsor': 0.001271050495636879, 'access': 0.001271050495636879, 'aid': 0.001271050495636879, 'suits': 0.001271050495636879, 'large': 0.001271050495636879, 'instead': 0.001271050495636879, 'contractor': 0.001271050495636879, 'colonel': 0.001271050495636879, 'explosion': 0.001271050495636879, 'car': 0.001271050495636879, 'identity': 0.0006355252478184394, 'seeking': 0.0006355252478184394, 'keeps': 0.0006355252478184394, 'attempt': 0.0006355252478184394, 'details': 0.0006355252478184394, 'system': 0.0006355252478184394, 'systems': 0.0006355252478184394, 'causing': 0.0006355252478184394, 'gregg': 0.0006355252478184394, 'powerful': 0.0006355252478184394, 'live': 0.0006355252478184394, 'native': 0.0006355252478184394, 'well': 0.0006355252478184394, 'nick': 0.0006355252478184394, 'informs': 0.0006355252478184394, 'creating': 0.0006355252478184394, 'force': 0.0006355252478184394, 'away': 0.0006355252478184394, 'lieutenant': 0.0006355252478184394, 'killing': 0.0006355252478184394, 'knew': 0.0006355252478184394, 'escape': 0.0006355252478184394, 'believes': 0.0006355252478184394, 'dons': 0.0006355252478184394, 'avengers': 0.0006355252478184394, 'downey': 0.0006355252478184394, 'dying': 0.0006355252478184394, 'pieces': 0.0006355252478184394, '15': 0.0006355252478184394, 'assistant': 0.0006355252478184394, 'whose': 0.0006355252478184394, 'including': 0.0006355252478184394, 'chauffeur': 0.0006355252478184394, 'find': 0.0006355252478184394, 'returns': 0.0006355252478184394, 'help': 0.0006355252478184394, 'friend': 0.0006355252478184394, 'use': 0.0006355252478184394, 'give': 0.0006355252478184394, 'air': 0.0006355252478184394, 'way': 0.0006355252478184394, 'escapes': 0.0006355252478184394, 'circuit': 0.0006355252478184394, 'arrested': 0.0006355252478184394, 'director': 0.0006355252478184394, 'begins': 0.0006355252478184394, 'version': 0.0006355252478184394, 'partner': 0.0006355252478184394, 'trying': 0.0006355252478184394, 'following': 0.0006355252478184394, 'remains': 0.0006355252478184394, 'powering': 0.0006355252478184394, 'desert': 0.0006355252478184394, 'turn': 0.0006355252478184394, 'liaison': 0.0006355252478184394, 'building': 0.0006355252478184394, 'battle': 0.0006355252478184394, 'longer': 0.0006355252478184394, 'coulson': 0.0006355252478184394, 'energy': 0.0006355252478184394, 'clark': 0.0006355252478184394, 'legacy': 0.0006355252478184394, 'gives': 0.0006355252478184394, 'says': 0.0006355252478184394, 'sees': 0.0006355252478184394, 'delivers': 0.0006355252478184394, 'cheadle': 0.0006355252478184394, 'warn': 0.0006355252478184394, 'reaches': 0.0006355252478184394, 'advanced': 0.0006355252478184394, 'decides': 0.0006355252478184394, 'computer': 0.0006355252478184394, 'jackson': 0.0006355252478184394, 'samuel': 0.0006355252478184394, 'still': 0.0006355252478184394, 'design': 0.0006355252478184394, 'time': 0.0006355252478184394, 'briefcase': 0.0006355252478184394, 'personal': 0.0006355252478184394, 'learns': 0.0006355252478184394, 'battles': 0.0006355252478184394, 'initiative': 0.0006355252478184394, 'party': 0.0006355252478184394, 'fails': 0.0006355252478184394, 'tony': 0.0, 'agents': 0.0, 'confronts': 0.0, 'disability': 0.0, 'soon': 0.0, 'across': 0.0, 'british': 0.0, 'explosively': 0.0, 'recovery': 0.0, 'left': 0.0, 'james': 0.0, 'kills': 0.0, 'name': 0.0, 'full': 0.0, 'embedded': 0.0, 'research': 0.0, 'evidence': 0.0, 'meanwhile': 0.0, 'manages': 0.0, '6': 0.0, 'lab': 0.0, 'man': 0.0, 'location': 0.0, 'rig': 0.0, 'market': 0.0, 'minutes': 0.0, 'hall': 0.0, 'harley': 0.0, 'wreckage': 0.0, 'inside': 0.0, 'announces': 0.0, 'humans': 0.0, 'head': 0.0, 'brilliant': 0.0, 'bearing': 0.0, 'industries': 0.0, 'save': 0.0, 'supplying': 0.0, 'subsequently': 0.0, 'headquarters': 0.0, 'experimental': 0.0, 'video': 0.0, 'obadiah': 0.0, 'flaws': 0.0, 'harold': 0.0, 'blows': 0.0, 'allow': 0.0, 'turns': 0.0, 'dubbed': 0.0, 'respond': 0.0, 'public': 0.0, 'war': 0.0, 'delivered': 0.0, 'world': 0.0, 'tells': 0.0, 'knocks': 0.0, 'sea': 0.0, 'eliminated': 0.0, 'plot': 0.0, 'jr': 0.0, 'bibb': 0.0, 'reporter': 0.0, '17': 0.0, 'agree': 0.0, 'aim': 0.0, 'manipulated': 0.0, 'claims': 0.0, 'advises': 0.0, 'battery': 0.0, 'vegas': 0.0, 'disabled': 0.0, 'blasts': 0.0, 'forge': 0.0, 'hardware': 0.0, 'investigates': 0.0, 'powers': 0.0, 'lack': 0.0, 'take': 0.0, 'noting': 0.0, 'crippling': 0.0, 'bridges': 0.0, 'hacking': 0.0, 'cave': 0.0, 'surge': 0.0, 'homeland': 0.0, 'l': 0.0, 'regarding': 0.0, 'raza': 0.0, 'eve': 0.0, 'basic': 0.0, 'keep': 0.0, 'appearance': 0.0, 'wounded': 0.0, 'logistics': 0.0, 'arrogantly': 0.0, 'idea': 0.0, 'leverage': 0.0, 'buried': 0.0, 'overload': 0.0, 'digitally': 0.0, 'surgery': 0.0, 'patriot': 0.0, 'extract': 0.0, 'manufacture': 0.0, 'press': 0.0, 'tags': 0.0, 'leslie': 0.0, 'bettany': 0.0, 'chief': 0.0, 'stephanie': 0.0, 'devastating': 0.0, 'conference': 0.0, 'near': 0.0, 'starts': 0.0, 'another': 0.0, 'precious': 0.0, 'sadler': 0.0, 'human': 0.0, 'paralyze': 0.0, 'subdues': 0.0, 'group': 0.0, 'plan': 0.0, 'strategic': 0.0, 'device': 0.0, 'helicopter': 0.0, 'armor': 0.0, 'restless': 0.0, 'picks': 0.0, 'technology': 0.0, 'body': 0.0, 'true': 0.0, 'missile': 0.0, 'crawl': 0.0, 'freedom': 0.0, 'recently': 0.0, 'discuss': 0.0, 'artificial': 0.0, 'great': 0.0, 'california': 0.0, 'panic': 0.0, 'hurt': 0.0, 'inform': 0.0, 'word': 0.0, 'deaths': 0.0, 'explosive': 0.0, 'electric': 0.0, 'rocket': 0.0, 'identifiable': 0.0, 'crash': 0.0, 'intention': 0.0, 'though': 0.0, 'remotely': 0.0, 'punches': 0.0, 'toub': 0.0, 'later': 0.0, 'injuries': 0.0, 'cemented': 0.0, 'jets': 0.0, 'bomb': 0.0, 'sonic': 0.0, 'traps': 0.0, 'manager': 0.0, 'york': 0.0, 'site': 0.0, 'szostak': 0.0, 'work': 0.0, 'taking': 0.0, 'available': 0.0, 'thrusters': 0.0, 'creation': 0.0, 'stabilized': 0.0, 'questions': 0.0, 'improved': 0.0, 'rural': 0.0, 'generation': 0.0, 'without': 0.0, 'attack': 0.0, 'investigation': 0.0, 'next': 0.0, 'platform': 0.0, 'vice': 0.0, 'divert': 0.0, 'division': 0.0, 'guy': 0.0, 'forgot': 0.0, 'raptor': 0.0, 'shaun': 0.0, 'lacks': 0.0, 'miniaturized': 0.0, 'overcomes': 0.0, 'build': 0.0, 'william': 0.0, 'relatively': 0.0, 'called': 0.0, 'speak': 0.0, 'wakes': 0.0, 'abducting': 0.0, 'allowed': 0.0, 'fixing': 0.0, 'rebuffs': 0.0, 'former': 0.0, 'flight': 0.0, 'superhuman': 0.0, 'scene': 0.0, 'thereafter': 0.0, 'showcase': 0.0, 'legendary': 0.0, 'inventor': 0.0, 'ty': 0.0, 'good': 0.0, 'imprisoned': 0.0, 'friends': 0.0, 'luring': 0.0, 'sites': 0.0, 'small': 0.0, 'impounded': 0.0, 'subjected': 0.0, 'kill': 0.0, 'involved': 0.0, 'aldrich': 0.0, 'rudimentary': 0.0, 'shot': 0.0, 'took': 0.0, 'favreau': 0.0, 'wants': 0.0, 'ran': 0.0, 'stop': 0.0, 'forensic': 0.0, 'saves': 0.0, 'gwyneth': 0.0, 'include': 0.0, '1999': 0.0, 'working': 0.0, 'intelligence': 0.0, 'occupant': 0.0, 'sign': 0.0, 'nose': 0.0, 'plug': 0.0, 'meticulously': 0.0, 'certain': 0.0, 'tracking': 0.0, 'virginia': 0.0, 'released': 0.0, 'hill': 0.0, 'fall': 0.0, 'day': 0.0, 'hired': 0.0, 'repairs': 0.0, 'happy': 0.0, 'destroy': 0.0, 'unknown': 0.0, 'crew': 0.0, 'home': 0.0, 'capacity': 0.0, 'meets': 0.0, 'friction': 0.0, 'till': 0.0, 'incomplete': 0.0, 'actually': 0.0, 'debris': 0.0, 'critically': 0.0, 'events': 0.0, 'linked': 0.0, 'playboy': 0.0, 'glass': 0.0, 'leads': 0.0, 'weapons': 0.0, 'powered': 0.0, 'offers': 0.0, 'latest': 0.0, 'components': 0.0, 'soldiers': 0.0, 'traces': 0.0, 'crowded': 0.0, 'tahir': 0.0, 'flies': 0.0, 'terrence': 0.0, 'eric': 0.0, 'populations': 0.0, 'flying': 0.0, 'exploding': 0.0, 'sacrifices': 0.0, 'lures': 0.0, 'cover': 0.0, 'suit': 0.0, 'follows': 0.0, 'unleashed': 0.0, 'breaks': 0.0, 'aboard': 0.0, 'controlled': 0.0, 'apparent': 0.0, 'shrapnel': 0.0, 'captive': 0.0, 'gather': 0.0, 'enraged': 0.0, 'bombings': 0.0, 'followed': 0.0, 'ellis': 0.0, 'duplicate': 0.0, 'fighter': 0.0, 'degrees': 0.0, 'ability': 0.0, 'development': 0.0, 'little': 0.0, 'pitches': 0.0, 'explode': 0.0, 'machine': 0.0, 'american': 0.0, 'downing': 0.0, 'capturing': 0.0, 'thing': 0.0, 'infuse': 0.0, 'intending': 0.0, 'dna': 0.0, 'however': 0.0, 'appropriated': 0.0, 'recalls': 0.0, 'smart': 0.0, 'returned': 0.0, 'jon': 0.0, 'collaborate': 0.0, 'orders': 0.0, 'reactor': 0.0, 'sends': 0.0, 'obsolete': 0.0, 'pearce': 0.0, 'invasion': 0.0, 'surviving': 0.0, 'security': 0.0, 'entire': 0.0, 'ruin': 0.0, 'cases': 0.0, 'several': 0.0, 'undergoes': 0.0, 'secret': 0.0, 'sufficient': 0.0, 'around': 0.0, 'superhero': 0.0, 'cure': 0.0, 'ambush': 0.0, 'munitions': 0.0, 'asleep': 0.0, 'paltrow': 0.0, 'ellen': 0.0, 'plants': 0.0, 'parts': 0.0, 'sex': 0.0, 'heavy': 0.0, 'run': 0.0, 'roof': 0.0, 'requests': 0.0, 'blow': 0.0, 'globe': 0.0, 'yinsen': 0.0, 'workshop': 0.0, 'mit': 0.0, 'rhodes': 0.0, 'recreates': 0.0, 'also': 0.0, 'limited': 0.0, 'ben': 0.0, 'board': 0.0, 'instructs': 0.0, 'veteran': 0.0, 'injured': 0.0, 'robert': 0.0, 'kingsley': 0.0, 'instantly': 0.0, 'actor': 0.0, 'gunships': 0.0, 'may': 0.0, 'journalist': 0.0, 'trace': 0.0, 'subjugate': 0.0, 'phones': 0.0, 'collapses': 0.0, 'hatred': 0.0, 'oblivious': 0.0, 'rest': 0.0, 'fights': 0.0, 'rings': 0.0, 'explosions': 0.0, 'generator': 0.0, 'ingests': 0.0, 'passengers': 0.0, 'boy': 0.0, 'story': 0.0, 'experiences': 0.0, 'wait': 0.0, 'triggered': 0.0, 'used': 0.0, 'capsule': 0.0, 'paul': 0.0, 'attacks': 0.0, 'planet': 0.0, 'secretly': 0.0, 'clean': 0.0, 'effects': 0.0, 'stark': 0.0, 'years': 0.0, 'micro': 0.0, 'string': 0.0, 'controlling': 0.0, 'area': 0.0, 'come': 0.0, 'ask': 0.0, 'graduated': 0.0, 'defenseless': 0.0, 'accident': 0.0, 'trap': 0.0, 'president': 0.0, 'hack': 0.0, 'selling': 0.0, 'distance': 0.0, 'kidnapped': 0.0, 'responds': 0.0, 'jeff': 0.0, 'flame': 0.0, 'intended': 0.0, 'electromagnet': 0.0, 'burns': 0.0, 'always': 0.0, 'arc': 0.0, 'christine': 0.0, 'agencies': 0.0, 'blast': 0.0, 'televised': 0.0, 'dog': 0.0, 'waited': 0.0, 'expanded': 0.0, 'secures': 0.0, 'associate': 0.0, 'thrower': 0.0, 'rescued': 0.0, 'procedure': 0.0, 'hallmarks': 0.0, 'enforcement': 0.0, 'arrest': 0.0, 'infiltrates': 0.0, 'replace': 0.0, 'terrorist': 0.0, 'launch': 0.0, '3000': 0.0, 'reporters': 0.0, 'provide': 0.0, 'extremis': 0.0, 'die': 0.0, 'heart': 0.0, 'chest': 0.0, 'genius': 0.0, 'intervention': 0.0, 'signature': 0.0, 'glitch': 0.0, 'phil': 0.0, 'hansen': 0.0, 'blamed': 0.0, 'responsibility': 0.0, 'generated': 0.0, 'alien': 0.0, 'reneged': 0.0, 'dead': 0.0, 'using': 0.0, 'heat': 0.0, 'teaming': 0.0, 'back': 0.0, 'terrorists': 0.0, 'musing': 0.0, 'gain': 0.0, 'issues': 0.0, 'unleashes': 0.0, 'firsthand': 0.0, 'discover': 0.0, 'bruce': 0.0, 'stane': 0.0, 'hands': 0.0, 'builds': 0.0, 'ten': 0.0, 'trevor': 0.0, 'notices': 0.0, 'reveals': 0.0, 'first': 0.0, 'company': 0.0, 'reunites': 0.0, 'visits': 0.0, 'discovering': 0.0, 'leader': 0.0, 'age': 0.0, 'program': 0.0, 'everhart': 0.0, 'scientist': 0.0, 'remove': 0.0, 'prompting': 0.0, 'badge': 0.0, 'inherited': 0.0, 'prototype': 0.0, 'destroying': 0.0, 'factory': 0.0, 'built': 0.0, 'changed': 0.0, 'engineered': 0.0, 'hero': 0.0, 'far': 0.0, 'manufacturing': 0.0, 'forever': 0.0, 'incorporates': 0.0, 'threat': 0.0, 'electrical': 0.0, 'giving': 0.0, 'demonstrates': 0.0, 'engine': 0.0, 'goes': 0.0, 'killian': 0.0, 'abilities': 0.0, 'afghanistan': 0.0, 'base': 0.0, 'finds': 0.0, 'intervenes': 0.0, 'new': 0.0, 'ambushes': 0.0, 'steal': 0.0, 'puppet': 0.0, 'even': 0.0, 'summon': 0.0, 'summons': 0.0, 'jarvis': 0.0, 'falls': 0.0, 'unconscious': 0.0, 'single': 0.0, 'begin': 0.0, 'survive': 0.0, 'girl': 0.0, 'eventually': 0.0, 'case': 0.0, 'two': 0.0, 'confronted': 0.0, 'targets': 0.0, 'exchange': 0.0, 'carried': 0.0, 'multiple': 0.0, 'actions': 0.0, 'subjects': 0.0, 'metal': 0.0, 'change': 0.0, 'listening': 0.0, 'beginning': 0.0, 'fellow': 0.0, 'revives': 0.0, 'jericho': 0.0, 'earlier': 0.0, 'missiles': 0.0, 'meet': 0.0, 'ai': 0.0, 'death': 0.0, 'face': 0.0, '21': 0.0, 'simpkins': 0.0, 'regenerative': 0.0, 'return': 0.0, 'destroyed': 0.0, 'asks': 0.0, 'original': 0.0, 'rose': 0.0, 'explain': 0.0, 'reaching': 0.0, 'stupor': 0.0, 'atop': 0.0, 'places': 0.0, 'pepper': 0.0, 'become': 0.0, 'offer': 0.0, 'precocious': 0.0, 'facilities': 0.0, 'implants': 0.0, 'miami': 0.0, 'night': 0.0, 'hogan': 0.0, 'intends': 0.0, 'potts': 0.0, 'end': 0.0, 'stage': 0.0, 'talking': 0.0, 'devote': 0.0, 'iron': 0.0, 'place': 0.0, 'discovers': 0.0, 'started': 0.0, 'bewildered': 0.0, 'one': 0.0, 'witnesses': 0.0, 'girlfriend': 0.0, 'found': 0.0, 'power': 0.0, 'veterans': 0.0, '4': 0.0, 'slattery': 0.0, 'apartment': 0.0, 'mandarin': 0.0, 'causes': 0.0, 'television': 0.0, 'faran': 0.0, 'office': 0.0, '9': 0.0, 'demonstrate': 0.0, 'improvised': 0.0, 'safety': 0.0, 'scientists': 0.0, 'fell': 0.0, 'glowing': 0.0, 'array': 0.0, 'local': 0.0, 'activities': 0.0, 'payloads': 0.0, 'maya': 0.0, 'treatment': 0.0, 'dale': 0.0, 'support': 0.0, 'reject': 0.0, 'conflict': 0.0, 'manufactured': 0.0, 'tennessee': 0.0, 'agency': 0.0, 'banner': 0.0, 'survived': 0.0, 'suspicious': 0.0, 'bulky': 0.0, 'presents': 0.0, 'savin': 0.0, 'badly': 0.0, 'brandt': 0.0, 'comatose': 0.0, 'village': 0.0, 'reverse': 0.0, 'massive': 0.0, 'rebecca': 0.0, 'mechanics': 0.0, 'military': 0.0, 'received': 0.0}), Counter({'killian': 0.03689995473389071, 'extremis': 0.02348178937611227, 'mandarin': 0.021804518706389966, 'eric': 0.011740894688056135, 'president': 0.008386353348611524, 'hansen': 0.008386353348611524, 'veteran': 0.00670908267888922, 'finds': 0.00670908267888922, 'aim': 0.005031812009166916, 'intelligence': 0.005031812009166916, 'bombings': 0.005031812009166916, 'ellis': 0.005031812009166916, 'jarvis': 0.005031812009166916, 'veterans': 0.005031812009166916, 'treatment': 0.005031812009166916, 'disability': 0.00335454133944461, 'kills': 0.00335454133944461, 'location': 0.00335454133944461, 'harley': 0.00335454133944461, 'save': 0.00335454133944461, 'experimental': 0.00335454133944461, 'flaws': 0.00335454133944461, 'turns': 0.00335454133944461, 'war': 0.00335454133944461, 'claims': 0.00335454133944461, 'starts': 0.00335454133944461, 'plan': 0.00335454133944461, 'remotely': 0.00335454133944461, 'bomb': 0.00335454133944461, 'site': 0.00335454133944461, 'platform': 0.00335454133944461, 'vice': 0.00335454133944461, 'subjected': 0.00335454133944461, 'involved': 0.00335454133944461, 'hill': 0.00335454133944461, 'ability': 0.00335454133944461, 'orders': 0.00335454133944461, 'cure': 0.00335454133944461, 'ellen': 0.00335454133944461, 'parts': 0.00335454133944461, 'injured': 0.00335454133944461, 'capsule': 0.00335454133944461, 'agencies': 0.00335454133944461, 'blast': 0.00335454133944461, 'heat': 0.00335454133944461, 'scientist': 0.00335454133944461, 'survive': 0.00335454133944461, 'rose': 0.00335454133944461, 'intends': 0.00335454133944461, 'one': 0.00335454133944461, 'found': 0.00335454133944461, 'slattery': 0.00335454133944461, 'causes': 0.00335454133944461, 'maya': 0.00335454133944461, 'savin': 0.00335454133944461, 'kill': 0.001857092098205333, 'suits': 0.001857092098205333, 'discovers': 0.001857092098205333, 'british': 0.001677270669722305, 'explosively': 0.001677270669722305, 'recovery': 0.001677270669722305, 'name': 0.001677270669722305, 'embedded': 0.001677270669722305, 'research': 0.001677270669722305, 'rig': 0.001677270669722305, 'market': 0.001677270669722305, 'hall': 0.001677270669722305, 'humans': 0.001677270669722305, 'bearing': 0.001677270669722305, 'headquarters': 0.001677270669722305, 'video': 0.001677270669722305, 'blows': 0.001677270669722305, 'allow': 0.001677270669722305, 'respond': 0.001677270669722305, 'sea': 0.001677270669722305, 'plot': 0.001677270669722305, 'manipulated': 0.001677270669722305, 'disabled': 0.001677270669722305, 'blasts': 0.001677270669722305, 'hardware': 0.001677270669722305, 'investigates': 0.001677270669722305, 'lack': 0.001677270669722305, 'crippling': 0.001677270669722305, 'hacking': 0.001677270669722305, 'regarding': 0.001677270669722305, 'eve': 0.001677270669722305, 'arrogantly': 0.001677270669722305, 'idea': 0.001677270669722305, 'leverage': 0.001677270669722305, 'buried': 0.001677270669722305, 'digitally': 0.001677270669722305, 'surgery': 0.001677270669722305, 'patriot': 0.001677270669722305, 'tags': 0.001677270669722305, 'chief': 0.001677270669722305, 'stephanie': 0.001677270669722305, 'near': 0.001677270669722305, 'another': 0.001677270669722305, 'sadler': 0.001677270669722305, 'human': 0.001677270669722305, 'helicopter': 0.001677270669722305, 'restless': 0.001677270669722305, 'picks': 0.001677270669722305, 'body': 0.001677270669722305, 'true': 0.001677270669722305, 'artificial': 0.001677270669722305, 'great': 0.001677270669722305, 'california': 0.001677270669722305, 'panic': 0.001677270669722305, 'hurt': 0.001677270669722305, 'deaths': 0.001677270669722305, 'identifiable': 0.001677270669722305, 'intention': 0.001677270669722305, 'punches': 0.001677270669722305, 'injuries': 0.001677270669722305, 'cemented': 0.001677270669722305, 'traps': 0.001677270669722305, 'york': 0.001677270669722305, 'szostak': 0.001677270669722305, 'taking': 0.001677270669722305, 'creation': 0.001677270669722305, 'stabilized': 0.001677270669722305, 'rural': 0.001677270669722305, 'generation': 0.001677270669722305, 'investigation': 0.001677270669722305, 'guy': 0.001677270669722305, 'forgot': 0.001677270669722305, 'lacks': 0.001677270669722305, 'overcomes': 0.001677270669722305, 'william': 0.001677270669722305, 'speak': 0.001677270669722305, 'wakes': 0.001677270669722305, 'abducting': 0.001677270669722305, 'allowed': 0.001677270669722305, 'fixing': 0.001677270669722305, 'rebuffs': 0.001677270669722305, 'former': 0.001677270669722305, 'superhuman': 0.001677270669722305, 'inventor': 0.001677270669722305, 'ty': 0.001677270669722305, 'luring': 0.001677270669722305, 'sites': 0.001677270669722305, 'impounded': 0.001677270669722305, 'aldrich': 0.001677270669722305, 'ran': 0.001677270669722305, 'stop': 0.001677270669722305, 'forensic': 0.001677270669722305, 'include': 0.001677270669722305, '1999': 0.001677270669722305, 'working': 0.001677270669722305, 'sign': 0.001677270669722305, 'nose': 0.001677270669722305, 'certain': 0.001677270669722305, 'tracking': 0.001677270669722305, 'released': 0.001677270669722305, 'repairs': 0.001677270669722305, 'destroy': 0.001677270669722305, 'unknown': 0.001677270669722305, 'crew': 0.001677270669722305, 'friction': 0.001677270669722305, 'incomplete': 0.001677270669722305, 'actually': 0.001677270669722305, 'debris': 0.001677270669722305, 'linked': 0.001677270669722305, 'leads': 0.001677270669722305, 'latest': 0.001677270669722305, 'soldiers': 0.001677270669722305, 'traces': 0.001677270669722305, 'crowded': 0.001677270669722305, 'follows': 0.001677270669722305, 'breaks': 0.001677270669722305, 'aboard': 0.001677270669722305, 'controlled': 0.001677270669722305, 'apparent': 0.001677270669722305, 'followed': 0.001677270669722305, 'degrees': 0.001677270669722305, 'development': 0.001677270669722305, 'little': 0.001677270669722305, 'pitches': 0.001677270669722305, 'explode': 0.001677270669722305, 'machine': 0.001677270669722305, 'american': 0.001677270669722305, 'downing': 0.001677270669722305, 'capturing': 0.001677270669722305, 'thing': 0.001677270669722305, 'infuse': 0.001677270669722305, 'intending': 0.001677270669722305, 'dna': 0.001677270669722305, 'however': 0.001677270669722305, 'appropriated': 0.001677270669722305, 'recalls': 0.001677270669722305, 'collaborate': 0.001677270669722305, 'obsolete': 0.001677270669722305, 'pearce': 0.001677270669722305, 'invasion': 0.001677270669722305, 'surviving': 0.001677270669722305, 'security': 0.001677270669722305, 'cases': 0.001677270669722305, 'undergoes': 0.001677270669722305, 'sufficient': 0.001677270669722305, 'around': 0.001677270669722305, 'asleep': 0.001677270669722305, 'plants': 0.001677270669722305, 'roof': 0.001677270669722305, 'recreates': 0.001677270669722305, 'ben': 0.001677270669722305, 'kingsley': 0.001677270669722305, 'instantly': 0.001677270669722305, 'actor': 0.001677270669722305, 'gunships': 0.001677270669722305, 'trace': 0.001677270669722305, 'collapses': 0.001677270669722305, 'hatred': 0.001677270669722305, 'oblivious': 0.001677270669722305, 'explosions': 0.001677270669722305, 'ingests': 0.001677270669722305, 'passengers': 0.001677270669722305, 'boy': 0.001677270669722305, 'experiences': 0.001677270669722305, 'wait': 0.001677270669722305, 'triggered': 0.001677270669722305, 'effects': 0.001677270669722305, 'micro': 0.001677270669722305, 'string': 0.001677270669722305, 'controlling': 0.001677270669722305, 'come': 0.001677270669722305, 'trap': 0.001677270669722305, 'distance': 0.001677270669722305, 'kidnapped': 0.001677270669722305, 'responds': 0.001677270669722305, 'intended': 0.001677270669722305, 'always': 0.001677270669722305, 'televised': 0.001677270669722305, 'dog': 0.001677270669722305, 'waited': 0.001677270669722305, 'expanded': 0.001677270669722305, 'secures': 0.001677270669722305, 'associate': 0.001677270669722305, 'procedure': 0.001677270669722305, 'hallmarks': 0.001677270669722305, 'infiltrates': 0.001677270669722305, '3000': 0.001677270669722305, 'signature': 0.001677270669722305, 'glitch': 0.001677270669722305, 'blamed': 0.001677270669722305, 'responsibility': 0.001677270669722305, 'generated': 0.001677270669722305, 'alien': 0.001677270669722305, 'dead': 0.001677270669722305, 'teaming': 0.001677270669722305, 'musing': 0.001677270669722305, 'gain': 0.001677270669722305, 'issues': 0.001677270669722305, 'firsthand': 0.001677270669722305, 'bruce': 0.001677270669722305, 'trevor': 0.001677270669722305, 'reunites': 0.001677270669722305, 'discovering': 0.001677270669722305, 'program': 0.001677270669722305, 'remove': 0.001677270669722305, 'badge': 0.001677270669722305, 'far': 0.001677270669722305, 'manufacturing': 0.001677270669722305, 'threat': 0.001677270669722305, 'demonstrates': 0.001677270669722305, 'goes': 0.001677270669722305, 'abilities': 0.001677270669722305, 'intervenes': 0.001677270669722305, 'steal': 0.001677270669722305, 'puppet': 0.001677270669722305, 'even': 0.001677270669722305, 'summon': 0.001677270669722305, 'summons': 0.001677270669722305, 'falls': 0.001677270669722305, 'girl': 0.001677270669722305, 'eventually': 0.001677270669722305, 'case': 0.001677270669722305, 'confronted': 0.001677270669722305, 'carried': 0.001677270669722305, 'actions': 0.001677270669722305, 'subjects': 0.001677270669722305, 'change': 0.001677270669722305, 'listening': 0.001677270669722305, 'revives': 0.001677270669722305, 'earlier': 0.001677270669722305, 'simpkins': 0.001677270669722305, 'regenerative': 0.001677270669722305, 'destroyed': 0.001677270669722305, 'asks': 0.001677270669722305, 'stupor': 0.001677270669722305, 'become': 0.001677270669722305, 'offer': 0.001677270669722305, 'precocious': 0.001677270669722305, 'implants': 0.001677270669722305, 'miami': 0.001677270669722305, 'stage': 0.001677270669722305, 'talking': 0.001677270669722305, 'devote': 0.001677270669722305, 'place': 0.001677270669722305, 'started': 0.001677270669722305, 'bewildered': 0.001677270669722305, 'witnesses': 0.001677270669722305, 'girlfriend': 0.001677270669722305, 'apartment': 0.001677270669722305, 'television': 0.001677270669722305, '9': 0.001677270669722305, 'improvised': 0.001677270669722305, 'safety': 0.001677270669722305, 'fell': 0.001677270669722305, 'glowing': 0.001677270669722305, 'local': 0.001677270669722305, 'dale': 0.001677270669722305, 'support': 0.001677270669722305, 'reject': 0.001677270669722305, 'tennessee': 0.001677270669722305, 'banner': 0.001677270669722305, 'survived': 0.001677270669722305, 'badly': 0.001677270669722305, 'brandt': 0.001677270669722305, 'comatose': 0.001677270669722305, 'rebecca': 0.001677270669722305, 'mechanics': 0.001677270669722305, 'received': 0.001677270669722305, 'confronts': 0.0012380613988035554, 'believes': 0.0012380613988035554, 'help': 0.0012380613988035554, 'air': 0.0012380613988035554, 'turn': 0.0012380613988035554, 'sees': 0.0012380613988035554, 'terrorist': 0.0012380613988035554, 'heart': 0.0012380613988035554, 'company': 0.0012380613988035554, 'time': 0.0012380613988035554, 'agents': 0.0006190306994017777, 'soon': 0.0006190306994017777, 'left': 0.0006190306994017777, 'evidence': 0.0006190306994017777, 'meanwhile': 0.0006190306994017777, 'manages': 0.0006190306994017777, 'systems': 0.0006190306994017777, 'live': 0.0006190306994017777, 'jr': 0.0006190306994017777, 'creating': 0.0006190306994017777, 'force': 0.0006190306994017777, 'knew': 0.0006190306994017777, 'toub': 0.0006190306994017777, 'work': 0.0006190306994017777, 'without': 0.0006190306994017777, 'shaun': 0.0006190306994017777, 'flight': 0.0006190306994017777, 'shot': 0.0006190306994017777, 'whose': 0.0006190306994017777, 'fall': 0.0006190306994017777, 'day': 0.0006190306994017777, 'home': 0.0006190306994017777, 'give': 0.0006190306994017777, 'offers': 0.0006190306994017777, 'escapes': 0.0006190306994017777, 'cover': 0.0006190306994017777, 'shrapnel': 0.0006190306994017777, 'arrested': 0.0006190306994017777, 'sends': 0.0006190306994017777, 'entire': 0.0006190306994017777, 'several': 0.0006190306994017777, 'following': 0.0006190306994017777, 'yinsen': 0.0006190306994017777, 'remains': 0.0006190306994017777, 'battle': 0.0006190306994017777, 'story': 0.0006190306994017777, 'aid': 0.0006190306994017777, 'provide': 0.0006190306994017777, 'chest': 0.0006190306994017777, 'cheadle': 0.0006190306994017777, 'warn': 0.0006190306994017777, 'reaches': 0.0006190306994017777, 'advanced': 0.0006190306994017777, 'leader': 0.0006190306994017777, 'destroying': 0.0006190306994017777, 'built': 0.0006190306994017777, 'giving': 0.0006190306994017777, 'exchange': 0.0006190306994017777, 'still': 0.0006190306994017777, 'beginning': 0.0006190306994017777, 'return': 0.0006190306994017777, 'night': 0.0006190306994017777, 'briefcase': 0.0006190306994017777, 'power': 0.0006190306994017777, 'explosion': 0.0006190306994017777, 'party': 0.0006190306994017777, 'suspicious': 0.0006190306994017777, 'fails': 0.0006190306994017777, 'presenter': 0.0, 'tony': 0.0, 'identity': 0.0, 'alive': 0.0, 'across': 0.0, 'undercover': 0.0, 'james': 0.0, 'seeking': 0.0, 'told': 0.0, 'neither': 0.0, 'keeps': 0.0, 'full': 0.0, 'attempt': 0.0, 'fury': 0.0, 'course': 0.0, '6': 0.0, 'lab': 0.0, 'man': 0.0, 'along': 0.0, 'palladium': 0.0, 'minutes': 0.0, 'defected': 0.0, 'mark': 0.0, 'details': 0.0, 'lazarev': 0.0, 'wreckage': 0.0, 'inside': 0.0, 'announces': 0.0, 'system': 0.0, 'head': 0.0, 'brilliant': 0.0, 'untested': 0.0, 'industries': 0.0, 'monaco': 0.0, 'revealing': 0.0, 'claiming': 0.0, 'combat': 0.0, 'based': 0.0, 'supplying': 0.0, 'subsequently': 0.0, 'causing': 0.0, 'seeing': 0.0, 'consultant': 0.0, 'racing': 0.0, 'obadiah': 0.0, 'gregg': 0.0, 'race': 0.0, 'founder': 0.0, 'harold': 0.0, 'birthday': 0.0, 'powerful': 0.0, 'native': 0.0, 'romanoff': 0.0, 'dubbed': 0.0, 'known': 0.0, 'public': 0.0, 'uses': 0.0, 'rate': 0.0, 'line': 0.0, 'delivered': 0.0, 'world': 0.0, 'tells': 0.0, 'knocks': 0.0, 'eliminated': 0.0, 'match': 0.0, 'bibb': 0.0, 'reporter': 0.0, '17': 0.0, 'diagram': 0.0, 'agree': 0.0, 'era': 0.0, 'well': 0.0, 'advises': 0.0, 'howard': 0.0, 'battery': 0.0, 'vegas': 0.0, 'forge': 0.0, 'bottom': 0.0, 'deliver': 0.0, 'powers': 0.0, 'us': 0.0, 'sam': 0.0, 'take': 0.0, 'noting': 0.0, 'forcing': 0.0, 'bridges': 0.0, 'cave': 0.0, 'surge': 0.0, 'homeland': 0.0, 'l': 0.0, 'beams': 0.0, 'nick': 0.0, 'ends': 0.0, 'informs': 0.0, 'raza': 0.0, 'peace': 0.0, 'demands': 0.0, 'basic': 0.0, 'keep': 0.0, 'appearance': 0.0, 'wounded': 0.0, 'logistics': 0.0, 'fakes': 0.0, 'overload': 0.0, 'replacement': 0.0, 'personally': 0.0, 'extract': 0.0, 'manufacture': 0.0, 'press': 0.0, 'slowly': 0.0, 'leslie': 0.0, 'bettany': 0.0, 'away': 0.0, 'lieutenant': 0.0, 'devastating': 0.0, 'conference': 0.0, 'killing': 0.0, 'precious': 0.0, 'fire': 0.0, 'competitors': 0.0, 'material': 0.0, 'paralyze': 0.0, 'died': 0.0, 'subdues': 0.0, 'group': 0.0, 'strategic': 0.0, 'device': 0.0, 'heavily': 0.0, 'failed': 0.0, 'armor': 0.0, '19': 0.0, 'technology': 0.0, 'natalie': 0.0, 'missile': 0.0, 'crawl': 0.0, 'freedom': 0.0, 'recently': 0.0, 'discuss': 0.0, 'core': 0.0, 'escape': 0.0, 'sell': 0.0, 'inform': 0.0, 'word': 0.0, 'explosive': 0.0, 'electric': 0.0, 'rocket': 0.0, 'crash': 0.0, 'though': 0.0, 'union': 0.0, 'suitable': 0.0, 'later': 0.0, 'jets': 0.0, 'reluctantly': 0.0, 'sonic': 0.0, 'manager': 0.0, 'available': 0.0, 'thrusters': 0.0, 'high': 0.0, '2': 0.0, 'message': 0.0, 'questions': 0.0, 'improved': 0.0, 'rourke': 0.0, 'maintain': 0.0, 'acts': 0.0, 'drones': 0.0, 'attack': 0.0, 'dons': 0.0, 'next': 0.0, 'stern': 0.0, 'divert': 0.0, 'senator': 0.0, 'future': 0.0, '53': 0.0, 'pakistan': 0.0, 'division': 0.0, 'talks': 0.0, 'primary': 0.0, 'avengers': 0.0, 'downey': 0.0, 'raptor': 0.0, 'six': 0.0, 'confront': 0.0, 'miniaturized': 0.0, 'hearing': 0.0, 'deported': 0.0, 'hammer': 0.0, 'build': 0.0, 'relatively': 0.0, 'dying': 0.0, 'recruits': 0.0, 'called': 0.0, 'approaches': 0.0, 'last': 0.0, 'unveils': 0.0, 'discovery': 0.0, 'flushing': 0.0, 'scene': 0.0, 'thereafter': 0.0, 'showcase': 0.0, 'legendary': 0.0, 'good': 0.0, 'imprisoned': 0.0, 'friends': 0.0, 'damaged': 0.0, 'increasingly': 0.0, 'small': 0.0, 'fact': 0.0, 'son': 0.0, 'plans': 0.0, 'rudimentary': 0.0, 'took': 0.0, 'profit': 0.0, 'planned': 0.0, 'favreau': 0.0, 'wants': 0.0, 'bodyguard': 0.0, 'explaining': 0.0, 'saves': 0.0, 'pieces': 0.0, 'continuous': 0.0, 'current': 0.0, 'gwyneth': 0.0, 'rays': 0.0, 'blood': 0.0, '15': 0.0, 'justin': 0.0, 'proves': 0.0, 'occupant': 0.0, 'assistant': 0.0, 'plays': 0.0, 'plug': 0.0, 'meticulously': 0.0, 'including': 0.0, 'grade': 0.0, 'virginia': 0.0, 'chauffeur': 0.0, 'find': 0.0, 'agent': 0.0, 'returns': 0.0, 'hired': 0.0, 'happy': 0.0, 'months': 0.0, 'rolls': 0.0, 'defeated': 0.0, 'control': 0.0, 'friend': 0.0, 'conviction': 0.0, 'capacity': 0.0, 'use': 0.0, 'meets': 0.0, 'depleting': 0.0, 'till': 0.0, 'anton': 0.0, 'johansson': 0.0, 'cores': 0.0, 'reports': 0.0, 'served': 0.0, 'collaborated': 0.0, 'meadows': 0.0, 'critically': 0.0, 'events': 0.0, 'drive': 0.0, 'playboy': 0.0, 'capture': 0.0, 'glass': 0.0, 'weapons': 0.0, 'powered': 0.0, 'way': 0.0, 'components': 0.0, 'tahir': 0.0, 'flies': 0.0, 'knowledge': 0.0, 'recorded': 0.0, 'terrence': 0.0, 'populations': 0.0, 'old': 0.0, 'flying': 0.0, 'exploding': 0.0, 'sacrifices': 0.0, 'lures': 0.0, 'suit': 0.0, 'government': 0.0, 'integrate': 0.0, 'yevgeni': 0.0, 'decades': 0.0, 'unleashed': 0.0, 'bravery': 0.0, 'captive': 0.0, 'gather': 0.0, 'desire': 0.0, 'mexico': 0.0, 'enraged': 0.0, 'duplicate': 0.0, 'fighter': 0.0, 'recreating': 0.0, 'successfully': 0.0, 'impending': 0.0, 'circuit': 0.0, 'garry': 0.0, 'contract': 0.0, 'director': 0.0, 'defense': 0.0, 'smart': 0.0, 'names': 0.0, 'already': 0.0, 'despondent': 0.0, 'kiss': 0.0, 'returned': 0.0, 'jon': 0.0, 'similar': 0.0, 'reactor': 0.0, 'russia': 0.0, 'prison': 0.0, 'begins': 0.0, 'ceo': 0.0, 'ruin': 0.0, 'repulsor': 0.0, 'secret': 0.0, 'element': 0.0, '1974': 0.0, 'superhero': 0.0, 'ambush': 0.0, 'family': 0.0, 'munitions': 0.0, 'paltrow': 0.0, 'version': 0.0, 'testify': 0.0, 'hulk': 0.0, 'partner': 0.0, 'trying': 0.0, 'sex': 0.0, 'achievements': 0.0, 'heavy': 0.0, 'run': 0.0, 'news': 0.0, 'requests': 0.0, 'blow': 0.0, 'defeats': 0.0, 'globe': 0.0, 'workshop': 0.0, 'serve': 0.0, 'mit': 0.0, 'rhodes': 0.0, 'poverty': 0.0, 'quits': 0.0, 'father': 0.0, 'powering': 0.0, 'desert': 0.0, 'also': 0.0, 'limited': 0.0, 'candidate': 0.0, 'board': 0.0, 'instructs': 0.0, 'robert': 0.0, '1963': 0.0, 'toxicity': 0.0, 'may': 0.0, 'liaison': 0.0, 'journalist': 0.0, 'subjugate': 0.0, 'building': 0.0, 'phones': 0.0, 'access': 0.0, 'longer': 0.0, 'rest': 0.0, 'fights': 0.0, 'replaces': 0.0, 'coulson': 0.0, 'arrives': 0.0, 'rings': 0.0, 'generator': 0.0, 'combatants': 0.0, 'foreign': 0.0, 'condition': 0.0, 'energy': 0.0, 'clark': 0.0, 'legacy': 0.0, 'property': 0.0, 'used': 0.0, 'paul': 0.0, 'attacks': 0.0, 'gives': 0.0, 'planet': 0.0, 'secretly': 0.0, 'armored': 0.0, '1967': 0.0, 'clean': 0.0, 'stark': 0.0, 'years': 0.0, 'city': 0.0, 'says': 0.0, 'area': 0.0, 'apparently': 0.0, 'ask': 0.0, 'graduated': 0.0, 'defenseless': 0.0, 'f1': 0.0, 'accident': 0.0, 'rival': 0.0, 'crater': 0.0, 'anyone': 0.0, 'mickey': 0.0, 'delivers': 0.0, 'diorama': 0.0, 'hack': 0.0, 'selling': 0.0, 'debriefing': 0.0, 'jeff': 0.0, 'flame': 0.0, 'ultimately': 0.0, 'fighting': 0.0, 'electromagnet': 0.0, 'burns': 0.0, 'arc': 0.0, 'christine': 0.0, 'knows': 0.0, 'network': 0.0, 'tv': 0.0, 'thrower': 0.0, 'rescued': 0.0, 'enforcement': 0.0, 'arrest': 0.0, 'hacks': 0.0, 'blueprints': 0.0, 'perfect': 0.0, 'kopeisk': 0.0, 'replace': 0.0, 'natasha': 0.0, 'launch': 0.0, 'reporters': 0.0, 'worked': 0.0, 'die': 0.0, 'accelerating': 0.0, 'due': 0.0, 'genius': 0.0, 'intervention': 0.0, 'business': 0.0, 'rushman': 0.0, 'phil': 0.0, 'cuts': 0.0, 'reneged': 0.0, 'led': 0.0, 'using': 0.0, 'awarding': 0.0, 'back': 0.0, 'royce': 0.0, 'terrorists': 0.0, 'developing': 0.0, 'rampage': 0.0, 'travels': 0.0, 'intervene': 0.0, 'unleashes': 0.0, 'discover': 0.0, 'stane': 0.0, 'hands': 0.0, 'mechanism': 0.0, 'builds': 0.0, 'agrees': 0.0, 'decides': 0.0, 'ten': 0.0, 'notices': 0.0, 'reveals': 0.0, 'could': 0.0, 'first': 0.0, 'visits': 0.0, 'footage': 0.0, 'age': 0.0, 'everhart': 0.0, 'prompting': 0.0, 'inherited': 0.0, 'prototype': 0.0, 'factory': 0.0, 'removing': 0.0, 'defeating': 0.0, 'changed': 0.0, 'engineered': 0.0, 'computer': 0.0, 'substitute': 0.0, 'hero': 0.0, 'forever': 0.0, 'incorporates': 0.0, 'rockwell': 0.0, 'electrical': 0.0, 'images': 0.0, 'scarlett': 0.0, 'engine': 0.0, 'showing': 0.0, 'afghanistan': 0.0, 'base': 0.0, 'ii': 0.0, 'large': 0.0, 'jackson': 0.0, 'hand': 0.0, 'new': 0.0, 'ambushes': 0.0, 'reckless': 0.0, 'attempts': 0.0, 'synthesizes': 0.0, 'employee': 0.0, 'unconscious': 0.0, 'single': 0.0, 'begin': 0.0, 'continue': 0.0, 'instead': 0.0, 'two': 0.0, 'samuel': 0.0, 'targets': 0.0, 'revenge': 0.0, 'multiple': 0.0, 'design': 0.0, 'upstage': 0.0, 'dependency': 0.0, 'medals': 0.0, 'metal': 0.0, 'fellow': 0.0, 'contractor': 0.0, 'choosing': 0.0, 'jericho': 0.0, 'missiles': 0.0, 'tell': 0.0, 'portable': 0.0, 'colonel': 0.0, 'meet': 0.0, 'seizes': 0.0, 'gets': 0.0, 'ai': 0.0, 'de': 0.0, 'death': 0.0, 'face': 0.0, '21': 0.0, 'original': 0.0, 'hidden': 0.0, 'explain': 0.0, 'reaching': 0.0, 'expo': 0.0, 'atop': 0.0, 'places': 0.0, 'pepper': 0.0, 'structure': 0.0, 'facilities': 0.0, 'poisoning': 0.0, 'soviet': 0.0, 'drunk': 0.0, 'senate': 0.0, 'refuses': 0.0, 'hogan': 0.0, 'potts': 0.0, 'personal': 0.0, 'end': 0.0, 'ivan': 0.0, 'iron': 0.0, 'strak': 0.0, 'angers': 0.0, '4': 0.0, 'growing': 0.0, 'much': 0.0, 'faran': 0.0, 'plutonium': 0.0, 'learns': 0.0, 'office': 0.0, 'demonstrate': 0.0, 'videos': 0.0, 'scientists': 0.0, 'nations': 0.0, 'ceremony': 0.0, 'invited': 0.0, 'process': 0.0, 'array': 0.0, 'activities': 0.0, 'payloads': 0.0, 'huge': 0.0, 'battles': 0.0, 'initiative': 0.0, 'laden': 0.0, 'choice': 0.0, 'conflict': 0.0, 'manufactured': 0.0, 'agency': 0.0, 'appoints': 0.0, 'bulky': 0.0, 'fight': 0.0, 'activates': 0.0, 'presents': 0.0, 'shandling': 0.0, 'car': 0.0, 'vanko': 0.0, 'village': 0.0, 'reverse': 0.0, 'massive': 0.0, 'held': 0.0, 'military': 0.0})]\n",
            "[0.0, 0.0, 0.0006335392314190069, 0.0, 0.0006335392314190069, 0.0006335392314190069, 0.0, 0.0006335392314190069, 0.0017165817010439217, 0.0, 0.0, 0.0, 0.0, 0.0006335392314190069, 0.0, 0.0006335392314190069, 0.0, 0.0, 0.0, 0.0006335392314190069, 0.0, 0.0017165817010439217, 0.0012670784628380138, 0.0, 0.0, 0.0006335392314190069, 0.0006335392314190069, 0.0006335392314190069, 0.0006335392314190069, 0.0, 0.0017165817010439217, 0.0017165817010439217, 0.0, 0.0, 0.0, 0.0, 0.0006335392314190069, 0.0, 0.0017165817010439217, 0.0, 0.0, 0.0006335392314190069, 0.0, 0.0, 0.0, 0.0017165817010439217, 0.0, 0.0034331634020878434, 0.0, 0.0012670784628380138, 0.0017165817010439217, 0.0017165817010439217, 0.0, 0.0, 0.0, 0.0, 0.0, 0.0, 0.0006335392314190069, 0.0, 0.0, 0.0, 0.0017165817010439217, 0.0017165817010439217, 0.0006335392314190069, 0.0, 0.0, 0.0, 0.0, 0.0, 0.0, 0.0034331634020878434, 0.0, 0.0006335392314190069, 0.0, 0.0, 0.0017165817010439217, 0.0, 0.0, 0.0012670784628380138, 0.0, 0.0, 0.0, 0.0006335392314190069, 0.0, 0.0017165817010439217, 0.0, 0.0, 0.0017165817010439217, 0.0, 0.0, 0.0, 0.0, 0.0034331634020878434, 0.0, 0.0, 0.0017165817010439217, 0.0, 0.0017165817010439217, 0.0, 0.0, 0.0006335392314190069, 0.0017165817010439217, 0.0017165817010439217, 0.0017165817010439217, 0.0, 0.0017165817010439217, 0.0, 0.0, 0.0006335392314190069, 0.0, 0.0, 0.0017165817010439217, 0.0019006176942570209, 0.0034331634020878434, 0.0017165817010439217, 0.0, 0.0, 0.0017165817010439217, 0.0, 0.0, 0.0, 0.0006335392314190069, 0.0, 0.0, 0.0, 0.0, 0.0034331634020878434, 0.0017165817010439217, 0.0, 0.0, 0.0017165817010439217, 0.0, 0.0034331634020878434, 0.0017165817010439217, 0.0034331634020878434, 0.0017165817010439217, 0.0, 0.0006335392314190069, 0.0, 0.0, 0.0006335392314190069, 0.005149745103131765, 0.0, 0.0, 0.0, 0.0, 0.0, 0.0017165817010439217, 0.0034331634020878434, 0.0017165817010439217, 0.0034331634020878434, 0.0034331634020878434, 0.0, 0.0, 0.0, 0.0, 0.0, 0.0017165817010439217, 0.0, 0.0, 0.0, 0.0, 0.0, 0.0017165817010439217, 0.0017165817010439217, 0.0034331634020878434, 0.0, 0.0, 0.0017165817010439217, 0.0, 0.0, 0.0006335392314190069, 0.0006335392314190069, 0.0, 0.0017165817010439217, 0.0017165817010439217, 0.0, 0.0012670784628380138, 0.0, 0.0, 0.0017165817010439217, 0.0, 0.0, 0.0, 0.0, 0.0, 0.0017165817010439217, 0.0006335392314190069, 0.0017165817010439217, 0.006866326804175687, 0.0, 0.0034331634020878434, 0.0017165817010439217, 0.0, 0.0, 0.0, 0.0, 0.0, 0.0, 0.0, 0.0, 0.0, 0.0, 0.0, 0.0, 0.006866326804175687, 0.0017165817010439217, 0.0017165817010439217, 0.0017165817010439217, 0.0017165817010439217, 0.0, 0.0, 0.0, 0.0, 0.0006335392314190069, 0.0, 0.0, 0.0, 0.0017165817010439217, 0.0017165817010439217, 0.0, 0.0017165817010439217, 0.0017165817010439217, 0.0017165817010439217, 0.0, 0.0017165817010439217, 0.0, 0.0017165817010439217, 0.0, 0.0, 0.0, 0.0006335392314190069, 0.0, 0.0, 0.0, 0.0, 0.0017165817010439217, 0.0, 0.0, 0.0017165817010439217, 0.0, 0.0017165817010439217, 0.0, 0.0, 0.0, 0.0, 0.0019006176942570209, 0.0, 0.0017165817010439217, 0.0017165817010439217, 0.0, 0.0, 0.0, 0.0, 0.0, 0.0017165817010439217, 0.0017165817010439217, 0.0, 0.0, 0.0, 0.0006335392314190069, 0.0, 0.0, 0.0, 0.0, 0.0012670784628380138, 0.0, 0.0017165817010439217, 0.0, 0.0, 0.0, 0.0017165817010439217, 0.0, 0.0, 0.0, 0.0, 0.0034331634020878434, 0.0, 0.0, 0.0, 0.0006335392314190069, 0.0006335392314190069, 0.0, 0.0017165817010439217, 0.0, 0.0006335392314190069, 0.0, 0.0, 0.0034331634020878434, 0.0, 0.0, 0.0, 0.0, 0.0034331634020878434, 0.0, 0.0017165817010439217, 0.0006335392314190069, 0.0, 0.0017165817010439217, 0.0, 0.0, 0.0, 0.0, 0.0, 0.0, 0.0, 0.0, 0.0, 0.0006335392314190069, 0.0, 0.0, 0.0, 0.0, 0.0, 0.0017165817010439217, 0.0017165817010439217, 0.0017165817010439217, 0.0, 0.0, 0.0017165817010439217, 0.0017165817010439217, 0.0017165817010439217, 0.0, 0.0, 0.0, 0.0, 0.0017165817010439217, 0.0, 0.0, 0.0006335392314190069, 0.0, 0.0, 0.0, 0.0, 0.0, 0.0017165817010439217, 0.0006335392314190069, 0.0017165817010439217, 0.0, 0.0, 0.0, 0.0017165817010439217, 0.0, 0.0, 0.0, 0.0006335392314190069, 0.0, 0.0, 0.0006335392314190069, 0.0, 0.0, 0.0, 0.0, 0.0, 0.0, 0.0, 0.0006335392314190069, 0.0, 0.0, 0.0, 0.0, 0.0017165817010439217, 0.0, 0.0019006176942570209, 0.0, 0.0, 0.0, 0.0017165817010439217, 0.0017165817010439217, 0.0, 0.0, 0.0006335392314190069, 0.0, 0.0017165817010439217, 0.0, 0.0006335392314190069, 0.0012670784628380138, 0.0012670784628380138, 0.0006335392314190069, 0.0, 0.0006335392314190069, 0.0006335392314190069, 0.0017165817010439217, 0.0, 0.0, 0.0, 0.0, 0.0, 0.0, 0.0, 0.0, 0.0, 0.0, 0.004434774619933048, 0.0006335392314190069, 0.0, 0.0017165817010439217, 0.0012670784628380138, 0.0017165817010439217, 0.0, 0.0, 0.0017165817010439217, 0.0, 0.0, 0.0, 0.0, 0.0, 0.0, 0.0, 0.0, 0.0, 0.0, 0.0017165817010439217, 0.0017165817010439217, 0.0, 0.0, 0.0, 0.0017165817010439217, 0.0, 0.0, 0.0017165817010439217, 0.0, 0.0, 0.0034331634020878434, 0.0006335392314190069, 0.0006335392314190069, 0.0, 0.0, 0.0017165817010439217, 0.0, 0.0, 0.0, 0.0017165817010439217, 0.0034331634020878434, 0.0, 0.0, 0.0017165817010439217, 0.0, 0.0017165817010439217, 0.0012670784628380138, 0.0017165817010439217, 0.0, 0.0017165817010439217, 0.0017165817010439217, 0.0012670784628380138, 0.0, 0.0, 0.0, 0.0, 0.0, 0.0, 0.0017165817010439217, 0.0, 0.0, 0.0, 0.0, 0.0, 0.0006335392314190069, 0.0017165817010439217, 0.0017165817010439217, 0.0, 0.0, 0.0034331634020878434, 0.0, 0.0, 0.0, 0.0017165817010439217, 0.0017165817010439217, 0.0, 0.0, 0.0, 0.0, 0.0, 0.0, 0.0, 0.0, 0.0, 0.0, 0.0006335392314190069, 0.0, 0.0, 0.0, 0.0, 0.0, 0.0, 0.0, 0.0, 0.0006335392314190069, 0.0, 0.0, 0.0, 0.0, 0.0006335392314190069, 0.0, 0.0017165817010439217, 0.0, 0.0, 0.0, 0.0, 0.0017165817010439217, 0.0, 0.0, 0.0, 0.0, 0.0, 0.0006335392314190069, 0.0, 0.0, 0.0, 0.0, 0.0, 0.0, 0.0, 0.0006335392314190069, 0.0, 0.0006335392314190069, 0.0017165817010439217, 0.0, 0.0006335392314190069, 0.0006335392314190069, 0.0, 0.0017165817010439217, 0.0, 0.0, 0.0, 0.0, 0.0017165817010439217, 0.0, 0.0017165817010439217, 0.0, 0.0017165817010439217, 0.0, 0.0, 0.0012670784628380138, 0.0, 0.0, 0.0006335392314190069, 0.0, 0.0, 0.0, 0.0006335392314190069, 0.0017165817010439217, 0.0, 0.0, 0.0034331634020878434, 0.0017165817010439217, 0.0, 0.0, 0.0017165817010439217, 0.0017165817010439217, 0.0, 0.0017165817010439217, 0.0057018530827710615, 0.0034331634020878434, 0.0, 0.0, 0.0017165817010439217, 0.0, 0.0, 0.0, 0.0, 0.0019006176942570209, 0.0006335392314190069, 0.0006335392314190069, 0.0, 0.0017165817010439217, 0.0, 0.0, 0.0017165817010439217, 0.0017165817010439217, 0.0, 0.0, 0.0, 0.0, 0.0, 0.0, 0.0, 0.0, 0.0, 0.0, 0.0017165817010439217, 0.0006335392314190069, 0.0017165817010439217, 0.0, 0.0017165817010439217, 0.0012670784628380138, 0.0, 0.0017165817010439217, 0.0006335392314190069, 0.0006335392314190069, 0.0, 0.0, 0.0, 0.0017165817010439217, 0.0017165817010439217, 0.0, 0.0012670784628380138, 0.0, 0.013732653608351374, 0.0, 0.0017165817010439217, 0.0, 0.0, 0.0, 0.0, 0.0, 0.0, 0.0012670784628380138, 0.0006335392314190069, 0.0, 0.0006335392314190069, 0.0, 0.0, 0.0012670784628380138, 0.0, 0.0, 0.0, 0.0, 0.0, 0.0006335392314190069, 0.0017165817010439217, 0.0017165817010439217, 0.0012670784628380138, 0.0, 0.0017165817010439217, 0.0, 0.0, 0.0, 0.0, 0.0, 0.0006335392314190069, 0.0, 0.0, 0.0, 0.0, 0.0017165817010439217, 0.0, 0.0, 0.0017165817010439217, 0.0017165817010439217, 0.0017165817010439217, 0.0, 0.0017165817010439217, 0.0, 0.0, 0.0, 0.0, 0.0, 0.0006335392314190069, 0.0, 0.0, 0.0017165817010439217, 0.0017165817010439217, 0.0, 0.0, 0.0, 0.0, 0.0017165817010439217, 0.0017165817010439217, 0.0, 0.0, 0.0, 0.0034331634020878434, 0.0017165817010439217, 0.0, 0.0, 0.005149745103131765, 0.0, 0.0, 0.0, 0.0, 0.0, 0.0, 0.0, 0.0, 0.0, 0.0, 0.0, 0.0, 0.0017165817010439217, 0.0017165817010439217, 0.0, 0.0, 0.0034331634020878434, 0.0017165817010439217, 0.0, 0.0, 0.0, 0.0, 0.0, 0.0017165817010439217, 0.0012670784628380138, 0.0, 0.0017165817010439217, 0.0, 0.0017165817010439217, 0.0006335392314190069, 0.0, 0.0, 0.0017165817010439217, 0.0006335392314190069, 0.0006335392314190069, 0.0, 0.0, 0.0, 0.0017165817010439217, 0.0034331634020878434, 0.0, 0.0, 0.0, 0.0, 0.0017165817010439217, 0.0, 0.0, 0.0, 0.0, 0.0, 0.0, 0.0017165817010439217, 0.0, 0.0, 0.0, 0.0, 0.0, 0.0, 0.0, 0.0017165817010439217, 0.0, 0.006866326804175687, 0.0, 0.0, 0.0, 0.0, 0.0, 0.0, 0.0, 0.0, 0.0017165817010439217, 0.0, 0.0017165817010439217, 0.0, 0.02918188891774667, 0.0017165817010439217, 0.0, 0.0017165817010439217, 0.0, 0.0, 0.0006335392314190069, 0.013732653608351374, 0.0, 0.0017165817010439217, 0.0, 0.0, 0.0, 0.004434774619933048, 0.0, 0.0017165817010439217, 0.0, 0.0, 0.0006335392314190069, 0.0034331634020878434, 0.0, 0.0034331634020878434, 0.0, 0.0, 0.0017165817010439217, 0.0, 0.0017165817010439217, 0.0017165817010439217, 0.0006335392314190069, 0.0017165817010439217, 0.0025341569256760277, 0.0, 0.0, 0.0017165817010439217, 0.0017165817010439217, 0.0006335392314190069, 0.0, 0.0017165817010439217, 0.0, 0.0, 0.0017165817010439217, 0.0017165817010439217, 0.0, 0.0, 0.0017165817010439217, 0.0006335392314190069, 0.0, 0.0, 0.0, 0.0017165817010439217, 0.0, 0.0, 0.0, 0.0, 0.0034331634020878434, 0.0017165817010439217, 0.0, 0.0, 0.0, 0.0019006176942570209, 0.0006335392314190069, 0.0, 0.0, 0.0017165817010439217, 0.0, 0.0, 0.0, 0.0, 0.0, 0.0, 0.0, 0.0, 0.0, 0.0, 0.0, 0.0017165817010439217, 0.0017165817010439217, 0.0017165817010439217, 0.0, 0.0, 0.0006335392314190069, 0.0, 0.0, 0.0, 0.0017165817010439217, 0.0006335392314190069, 0.0, 0.0017165817010439217, 0.0006335392314190069, 0.0, 0.0, 0.0017165817010439217, 0.0, 0.0, 0.0006335392314190069, 0.0, 0.0, 0.0, 0.0, 0.0017165817010439217, 0.0, 0.0, 0.0006335392314190069, 0.0017165817010439217, 0.0, 0.0006335392314190069, 0.0, 0.006866326804175687, 0.0, 0.0017165817010439217, 0.0, 0.0, 0.0006335392314190069, 0.0017165817010439217, 0.0, 0.0, 0.0017165817010439217, 0.0, 0.0, 0.0017165817010439217, 0.0017165817010439217, 0.0, 0.0, 0.0, 0.0006335392314190069, 0.0, 0.0, 0.0034331634020878434, 0.0, 0.0, 0.0017165817010439217, 0.0017165817010439217, 0.0, 0.0, 0.0017165817010439217, 0.0017165817010439217, 0.0, 0.0, 0.0, 0.0, 0.0, 0.0017165817010439217, 0.0, 0.0, 0.0, 0.0, 0.0, 0.0006335392314190069, 0.0, 0.0, 0.0, 0.0, 0.0, 0.0, 0.0019006176942570209, 0.0017165817010439217, 0.0, 0.0, 0.0, 0.0, 0.0, 0.0, 0.0, 0.0006335392314190069, 0.0, 0.0, 0.0, 0.0, 0.0, 0.0, 0.0, 0.0012670784628380138, 0.0, 0.0017165817010439217, 0.0, 0.0, 0.0, 0.0, 0.0, 0.0, 0.0, 0.0017165817010439217, 0.0, 0.0006335392314190069, 0.0, 0.0017165817010439217, 0.0, 0.0017165817010439217, 0.0, 0.0, 0.0, 0.0017165817010439217, 0.0, 0.0, 0.0, 0.0, 0.0, 0.0, 0.0017165817010439217, 0.0, 0.0017165817010439217, 0.0017165817010439217, 0.0, 0.0, 0.0, 0.0006335392314190069, 0.0006335392314190069, 0.0, 0.0, 0.0, 0.0, 0.0, 0.0, 0.0017165817010439217, 0.0034331634020878434, 0.0, 0.0017165817010439217, 0.0, 0.0, 0.0006335392314190069, 0.0, 0.0034331634020878434, 0.0, 0.0, 0.0017165817010439217, 0.0, 0.0, 0.0, 0.0012670784628380138, 0.0, 0.0, 0.0, 0.0, 0.0034331634020878434, 0.0017165817010439217, 0.0017165817010439217, 0.0, 0.0, 0.0, 0.0, 0.0]\n"
          ]
        }
      ],
      "source": [
        "from collections import Counter\n",
        "from math import log\n",
        "\n",
        "# Create a function to calculate the Term Frequency for each word in a given corpus\n",
        "def term_freq(document: str, corpus: list[str]) -> Counter[str, float]:\n",
        "  lexicon = build_lexicon(corpus)\n",
        "  tokens = tokenize(document)\n",
        "  unit_freq = 1/len(tokens)\n",
        "  counts = Counter(tokens)\n",
        "  return Counter({token: counts[token] * unit_freq for token in lexicon})\n",
        "\n",
        "# Create a function to find Inverse Document Frequency for each word in the corpus\n",
        "def inv_doc_freq(corpus: list[str]) -> Counter[str, float]:\n",
        "  lexicon = build_lexicon(corpus)\n",
        "  n = len(corpus)\n",
        "  all_tokens =[ tokenize(document) for document in corpus]\n",
        "  dfs = {token: len([x for tokens in all_tokens if token in tokens]) for token in lexicon}\n",
        "  idfs = {token: log(n/dfs[token]) for token in dfs}\n",
        "  return Counter(idfs)\n",
        "\n",
        "# Now create a function that returns a dictionary output of the TF and IDF of each word in the document given\n",
        "# We will use this function for getting insights\n",
        "def tf_idf_dict(document: str, corpus: list[str]) -> Counter[str, float]:\n",
        "  tfs = term_freq(document, corpus)\n",
        "  idfs = inv_doc_freq(corpus)\n",
        "  lexicon = build_lexicon(corpus)\n",
        "  return Counter({token: tfs[token] * idfs[token] for token in lexicon})\n",
        "\n",
        "# Create a function that for every word in a document, returns a vector tf_idf_vec which contains the output of the TF and IDF of that word\n",
        "# This output format is the one we use.\n",
        "# P.S. You can use the outputs from tf_idf, and you have your index_dict already.\n",
        "def tf_idf_vec(document: str, corpus: list[str], index_dict: dict):\n",
        "  lexicon = build_lexicon(corpus)\n",
        "  tf_idf = tf_idf_dict(document, corpus)\n",
        "  tf_idf_vec = [0.0] * len(index_dict)\n",
        "  for word in lexicon:\n",
        "    tf_idf_vec[index_dict[word]] = tf_idf[word]\n",
        "  return tf_idf_vec\n",
        "\n",
        "# Finally, for each movie in the collection, pass it through the tf_idf_dict and tf_idf_vec functions\n",
        "tf_idf_dictionary = []\n",
        "vectors = []\n",
        "for doc in movies:\n",
        "  mov_tf_idf = tf_idf_dict(doc, movies)\n",
        "  tf_idf_dictionary.append(mov_tf_idf)\n",
        "  mov_tfidf_vec = tf_idf_vec(doc, movies, index_dict)\n",
        "  vectors.append(mov_tfidf_vec)\n",
        "#This is what it should look like if all your hard work pays off making a tf-idf vectoriser from scratch:\n",
        "print(tf_idf_dictionary)\n",
        "print(vectors[0])"
      ]
    },
    {
      "cell_type": "code",
      "execution_count": null,
      "metadata": {
        "colab": {
          "base_uri": "https://localhost:8080/"
        },
        "id": "hDcLX5RYZyXo",
        "outputId": "473ab780-1d84-43f7-bca3-85351ddf4ba0"
      },
      "outputs": [
        {
          "output_type": "stream",
          "name": "stdout",
          "text": [
            "[('stane', 0.02918188891774667), ('rings', 0.013732653608351374), ('ten', 0.013732653608351374), ('group', 0.006866326804175687), ('missile', 0.006866326804175687), ('terrorists', 0.006866326804175687), ('jericho', 0.006866326804175687), ('yinsen', 0.0057018530827710615), ('raza', 0.005149745103131765), ('christine', 0.005149745103131765)]\n",
            "[('vanko', 0.03443925669805986), ('hammer', 0.01549766551412694), ('drones', 0.010331777009417962), ('anton', 0.010331777009417962), ('ivan', 0.010331777009417962), ('expo', 0.008609814174514965), ('stern', 0.0068878513396119735), ('mark', 0.005165888504708981), ('romanoff', 0.005165888504708981), ('ceo', 0.005165888504708981)]\n",
            "[('killian', 0.03689995473389071), ('extremis', 0.02348178937611227), ('mandarin', 0.021804518706389966), ('eric', 0.011740894688056135), ('president', 0.008386353348611524), ('hansen', 0.008386353348611524), ('veteran', 0.00670908267888922), ('finds', 0.00670908267888922), ('aim', 0.005031812009166916), ('intelligence', 0.005031812009166916)]\n"
          ]
        }
      ],
      "source": [
        "# Now, we see WHY we did this.\n",
        "# We will ask for the 10 most important words found in each iron man movie\n",
        "\n",
        "print(tf_idf_dict(first_ironman, movies).most_common(10))\n",
        "print(tf_idf_dict(second_ironman, movies).most_common(10))\n",
        "print(tf_idf_dict(third_ironman, movies).most_common(10))"
      ]
    },
    {
      "cell_type": "code",
      "execution_count": null,
      "metadata": {
        "colab": {
          "base_uri": "https://localhost:8080/"
        },
        "id": "Eo4srkqRaWFM",
        "outputId": "05261de8-f5d9-433f-8729-e997c75164fa"
      },
      "outputs": [
        {
          "output_type": "stream",
          "name": "stdout",
          "text": [
            "0.0\n",
            "1.0986122886681098\n",
            "1.0986122886681098\n"
          ]
        }
      ],
      "source": [
        "# Try these out. What do you understand from the output you got\n",
        "# ans: most common words have lesser value. higher the value less common the word i.r it repeated lesser amount of times\n",
        "print(inv_doc_freq(movies)[\"iron\"])\n",
        "print(inv_doc_freq(movies)[\"extremis\"])\n",
        "\n",
        "# Feel free to try out words of your choice here! TF-IDF WOOHOO\n",
        "print(inv_doc_freq(movies)[\"jericho\"])"
      ]
    },
    {
      "cell_type": "code",
      "execution_count": null,
      "metadata": {
        "id": "x9fHV5LOaytN"
      },
      "outputs": [],
      "source": [
        "# Now to play around with this:\n",
        "def euclidean_distance(a_tf_idf_counter, b_tf_idf_counter) -> float:\n",
        "    a_vec_sorted_keys = sorted(a_tf_idf_counter)\n",
        "    b_vec_sorted_keys = sorted(b_tf_idf_counter)\n",
        "\n",
        "    a_vec = [a_tf_idf_counter[key] for key in a_vec_sorted_keys]\n",
        "    b_vec = [b_tf_idf_counter[key] for key in b_vec_sorted_keys]\n",
        "\n",
        "    dist = 0\n",
        "    for a_i, b_i in zip(a_vec, b_vec):\n",
        "        dist += (b_i - a_i) ** 2\n",
        "    return dist ** 0.5\n",
        "\n",
        "# a (dot) b = abs(a) * abs(b) * cos(theta)\n",
        "# cosine similarity is defined as a (dot) b / abs(a) * abs(b)\n",
        "def cosine_similarity(a_tf_idf_counter, b_tf_idf_counter) -> float:\n",
        "    a_vec_sorted_keys = sorted(a_tf_idf_counter)\n",
        "    b_vec_sorted_keys = sorted(b_tf_idf_counter)\n",
        "\n",
        "    a_vec = [a_tf_idf_counter[key] for key in a_vec_sorted_keys]\n",
        "    b_vec = [b_tf_idf_counter[key] for key in b_vec_sorted_keys]\n",
        "\n",
        "    dot_product = 0\n",
        "    abs_a = 0\n",
        "    abs_b = 0\n",
        "\n",
        "    for a_i, b_i in zip(a_vec, b_vec):\n",
        "        dot_product += a_i * b_i\n",
        "\n",
        "        abs_a += a_i * a_i\n",
        "        abs_b += b_i * b_i\n",
        "\n",
        "    return dot_product / (abs_a ** 0.5 * abs_b ** 0.5)"
      ]
    },
    {
      "cell_type": "markdown",
      "metadata": {
        "id": "BTdcjP9rbX51"
      },
      "source": [
        "**What do Euclidean distance and Cosine Similarity tell us?**\n",
        "\n",
        "Ans: Eucidean distance: distance between 2 points. in nlp its used to measure how similar senetnces are. however there is an error because longer sentences have a higher euclidean score\n",
        "Cosine Similarity : it is the cosine of angle betweent to vectors. in nlp, again used to measure how similar texts are. it is not affected by word frequency and length of sentence"
      ]
    },
    {
      "cell_type": "code",
      "execution_count": null,
      "metadata": {
        "colab": {
          "base_uri": "https://localhost:8080/"
        },
        "id": "U3rOT1FzbFbu",
        "outputId": "6564537a-ede2-441b-a89b-dc57ee034114"
      },
      "outputs": [
        {
          "output_type": "stream",
          "name": "stdout",
          "text": [
            "Euclidean Distances:\n",
            "0.0738681035384466\n",
            "0.08466614699074161\n",
            "0.08166717840451113\n",
            "Cosine Similarities:\n",
            "0.022723865941747128\n",
            "0.004648969897250797\n",
            "0.010314719179847413\n"
          ]
        }
      ],
      "source": [
        "# Use these functions to get euclidean distances and cosine similarities betweeen iron man movies\n",
        "# Give insights on your output\n",
        "print(\"Euclidean Distances:\")\n",
        "print(euclidean_distance(tf_idf_dict(first_ironman, movies), tf_idf_dict(second_ironman, movies)))\n",
        "print(euclidean_distance(tf_idf_dict(second_ironman, movies), tf_idf_dict(third_ironman, movies)))\n",
        "print(euclidean_distance(tf_idf_dict(third_ironman, movies), tf_idf_dict(first_ironman, movies)))\n",
        "\n",
        "print(\"Cosine Similarities:\")\n",
        "print(cosine_similarity(tf_idf_dict(first_ironman, movies), tf_idf_dict(second_ironman, movies)))\n",
        "print(cosine_similarity(tf_idf_dict(second_ironman, movies), tf_idf_dict(third_ironman, movies)))\n",
        "print(cosine_similarity(tf_idf_dict(third_ironman, movies), tf_idf_dict(first_ironman, movies)))"
      ]
    },
    {
      "cell_type": "markdown",
      "metadata": {
        "id": "ULgGHHSk5ihy"
      },
      "source": [
        "**How does the TF-IDF Vectorizer work?** <br>\n",
        "Ans: It converts text into a matrix of the word and its tf idf score in every document"
      ]
    },
    {
      "cell_type": "markdown",
      "metadata": {
        "id": "A9nCFAGIpuS_"
      },
      "source": [
        "Just for good measure, import TfidfVectorizer and fit the corpus data and view the vectors it has created"
      ]
    },
    {
      "cell_type": "code",
      "execution_count": null,
      "metadata": {
        "colab": {
          "base_uri": "https://localhost:8080/"
        },
        "id": "WUa3ngssfAkv",
        "outputId": "ceabde6d-b9ac-4fe3-f509-52d253028378"
      },
      "outputs": [
        {
          "output_type": "execute_result",
          "data": {
            "text/plain": [
              "array([0.        , 0.01037854, 0.01364653, ..., 0.        , 0.09340685,\n",
              "       0.        ])"
            ]
          },
          "metadata": {},
          "execution_count": 29
        }
      ],
      "source": [
        "from sklearn.feature_extraction.text import TfidfVectorizer\n",
        "#ngram_range and max_features for tf-idf are also important\n",
        "tv = TfidfVectorizer()\n",
        "y = tv.fit_transform(movies).toarray()\n",
        "y[0]"
      ]
    },
    {
      "cell_type": "code",
      "execution_count": null,
      "metadata": {
        "colab": {
          "base_uri": "https://localhost:8080/",
          "height": 193
        },
        "id": "7iu2SNQjql5A",
        "outputId": "cb1e8d2e-11b0-4abe-d1a9-6dcd3416a99a"
      },
      "outputs": [
        {
          "output_type": "execute_result",
          "data": {
            "text/plain": [
              "         10        15        17        19      1963      1967      1974  \\\n",
              "0  0.000000  0.010379  0.013647  0.000000  0.000000  0.000000  0.000000   \n",
              "1  0.000000  0.010494  0.000000  0.013798  0.013798  0.013798  0.027596   \n",
              "2  0.014353  0.000000  0.000000  0.000000  0.000000  0.000000  0.000000   \n",
              "\n",
              "       1999        21        22  ...   working  workshop     world   wounded  \\\n",
              "0  0.000000  0.013647  0.013647  ...  0.000000  0.027293  0.016120  0.027293   \n",
              "1  0.000000  0.000000  0.000000  ...  0.000000  0.000000  0.016298  0.000000   \n",
              "2  0.014353  0.000000  0.000000  ...  0.014353  0.000000  0.008477  0.000000   \n",
              "\n",
              "   wreckage      year     years   yevgeni    yinsen      york  \n",
              "0  0.013647  0.000000  0.008060  0.000000  0.093407  0.000000  \n",
              "1  0.000000  0.000000  0.008149  0.013798  0.000000  0.000000  \n",
              "2  0.000000  0.014353  0.016955  0.000000  0.010916  0.014353  \n",
              "\n",
              "[3 rows x 1083 columns]"
            ],
            "text/html": [
              "\n",
              "  <div id=\"df-cda0c098-8f5d-46b1-8770-c094613744ad\" class=\"colab-df-container\">\n",
              "    <div>\n",
              "<style scoped>\n",
              "    .dataframe tbody tr th:only-of-type {\n",
              "        vertical-align: middle;\n",
              "    }\n",
              "\n",
              "    .dataframe tbody tr th {\n",
              "        vertical-align: top;\n",
              "    }\n",
              "\n",
              "    .dataframe thead th {\n",
              "        text-align: right;\n",
              "    }\n",
              "</style>\n",
              "<table border=\"1\" class=\"dataframe\">\n",
              "  <thead>\n",
              "    <tr style=\"text-align: right;\">\n",
              "      <th></th>\n",
              "      <th>10</th>\n",
              "      <th>15</th>\n",
              "      <th>17</th>\n",
              "      <th>19</th>\n",
              "      <th>1963</th>\n",
              "      <th>1967</th>\n",
              "      <th>1974</th>\n",
              "      <th>1999</th>\n",
              "      <th>21</th>\n",
              "      <th>22</th>\n",
              "      <th>...</th>\n",
              "      <th>working</th>\n",
              "      <th>workshop</th>\n",
              "      <th>world</th>\n",
              "      <th>wounded</th>\n",
              "      <th>wreckage</th>\n",
              "      <th>year</th>\n",
              "      <th>years</th>\n",
              "      <th>yevgeni</th>\n",
              "      <th>yinsen</th>\n",
              "      <th>york</th>\n",
              "    </tr>\n",
              "  </thead>\n",
              "  <tbody>\n",
              "    <tr>\n",
              "      <th>0</th>\n",
              "      <td>0.000000</td>\n",
              "      <td>0.010379</td>\n",
              "      <td>0.013647</td>\n",
              "      <td>0.000000</td>\n",
              "      <td>0.000000</td>\n",
              "      <td>0.000000</td>\n",
              "      <td>0.000000</td>\n",
              "      <td>0.000000</td>\n",
              "      <td>0.013647</td>\n",
              "      <td>0.013647</td>\n",
              "      <td>...</td>\n",
              "      <td>0.000000</td>\n",
              "      <td>0.027293</td>\n",
              "      <td>0.016120</td>\n",
              "      <td>0.027293</td>\n",
              "      <td>0.013647</td>\n",
              "      <td>0.000000</td>\n",
              "      <td>0.008060</td>\n",
              "      <td>0.000000</td>\n",
              "      <td>0.093407</td>\n",
              "      <td>0.000000</td>\n",
              "    </tr>\n",
              "    <tr>\n",
              "      <th>1</th>\n",
              "      <td>0.000000</td>\n",
              "      <td>0.010494</td>\n",
              "      <td>0.000000</td>\n",
              "      <td>0.013798</td>\n",
              "      <td>0.013798</td>\n",
              "      <td>0.013798</td>\n",
              "      <td>0.027596</td>\n",
              "      <td>0.000000</td>\n",
              "      <td>0.000000</td>\n",
              "      <td>0.000000</td>\n",
              "      <td>...</td>\n",
              "      <td>0.000000</td>\n",
              "      <td>0.000000</td>\n",
              "      <td>0.016298</td>\n",
              "      <td>0.000000</td>\n",
              "      <td>0.000000</td>\n",
              "      <td>0.000000</td>\n",
              "      <td>0.008149</td>\n",
              "      <td>0.013798</td>\n",
              "      <td>0.000000</td>\n",
              "      <td>0.000000</td>\n",
              "    </tr>\n",
              "    <tr>\n",
              "      <th>2</th>\n",
              "      <td>0.014353</td>\n",
              "      <td>0.000000</td>\n",
              "      <td>0.000000</td>\n",
              "      <td>0.000000</td>\n",
              "      <td>0.000000</td>\n",
              "      <td>0.000000</td>\n",
              "      <td>0.000000</td>\n",
              "      <td>0.014353</td>\n",
              "      <td>0.000000</td>\n",
              "      <td>0.000000</td>\n",
              "      <td>...</td>\n",
              "      <td>0.014353</td>\n",
              "      <td>0.000000</td>\n",
              "      <td>0.008477</td>\n",
              "      <td>0.000000</td>\n",
              "      <td>0.000000</td>\n",
              "      <td>0.014353</td>\n",
              "      <td>0.016955</td>\n",
              "      <td>0.000000</td>\n",
              "      <td>0.010916</td>\n",
              "      <td>0.014353</td>\n",
              "    </tr>\n",
              "  </tbody>\n",
              "</table>\n",
              "<p>3 rows × 1083 columns</p>\n",
              "</div>\n",
              "    <div class=\"colab-df-buttons\">\n",
              "\n",
              "  <div class=\"colab-df-container\">\n",
              "    <button class=\"colab-df-convert\" onclick=\"convertToInteractive('df-cda0c098-8f5d-46b1-8770-c094613744ad')\"\n",
              "            title=\"Convert this dataframe to an interactive table.\"\n",
              "            style=\"display:none;\">\n",
              "\n",
              "  <svg xmlns=\"http://www.w3.org/2000/svg\" height=\"24px\" viewBox=\"0 -960 960 960\">\n",
              "    <path d=\"M120-120v-720h720v720H120Zm60-500h600v-160H180v160Zm220 220h160v-160H400v160Zm0 220h160v-160H400v160ZM180-400h160v-160H180v160Zm440 0h160v-160H620v160ZM180-180h160v-160H180v160Zm440 0h160v-160H620v160Z\"/>\n",
              "  </svg>\n",
              "    </button>\n",
              "\n",
              "  <style>\n",
              "    .colab-df-container {\n",
              "      display:flex;\n",
              "      gap: 12px;\n",
              "    }\n",
              "\n",
              "    .colab-df-convert {\n",
              "      background-color: #E8F0FE;\n",
              "      border: none;\n",
              "      border-radius: 50%;\n",
              "      cursor: pointer;\n",
              "      display: none;\n",
              "      fill: #1967D2;\n",
              "      height: 32px;\n",
              "      padding: 0 0 0 0;\n",
              "      width: 32px;\n",
              "    }\n",
              "\n",
              "    .colab-df-convert:hover {\n",
              "      background-color: #E2EBFA;\n",
              "      box-shadow: 0px 1px 2px rgba(60, 64, 67, 0.3), 0px 1px 3px 1px rgba(60, 64, 67, 0.15);\n",
              "      fill: #174EA6;\n",
              "    }\n",
              "\n",
              "    .colab-df-buttons div {\n",
              "      margin-bottom: 4px;\n",
              "    }\n",
              "\n",
              "    [theme=dark] .colab-df-convert {\n",
              "      background-color: #3B4455;\n",
              "      fill: #D2E3FC;\n",
              "    }\n",
              "\n",
              "    [theme=dark] .colab-df-convert:hover {\n",
              "      background-color: #434B5C;\n",
              "      box-shadow: 0px 1px 3px 1px rgba(0, 0, 0, 0.15);\n",
              "      filter: drop-shadow(0px 1px 2px rgba(0, 0, 0, 0.3));\n",
              "      fill: #FFFFFF;\n",
              "    }\n",
              "  </style>\n",
              "\n",
              "    <script>\n",
              "      const buttonEl =\n",
              "        document.querySelector('#df-cda0c098-8f5d-46b1-8770-c094613744ad button.colab-df-convert');\n",
              "      buttonEl.style.display =\n",
              "        google.colab.kernel.accessAllowed ? 'block' : 'none';\n",
              "\n",
              "      async function convertToInteractive(key) {\n",
              "        const element = document.querySelector('#df-cda0c098-8f5d-46b1-8770-c094613744ad');\n",
              "        const dataTable =\n",
              "          await google.colab.kernel.invokeFunction('convertToInteractive',\n",
              "                                                    [key], {});\n",
              "        if (!dataTable) return;\n",
              "\n",
              "        const docLinkHtml = 'Like what you see? Visit the ' +\n",
              "          '<a target=\"_blank\" href=https://colab.research.google.com/notebooks/data_table.ipynb>data table notebook</a>'\n",
              "          + ' to learn more about interactive tables.';\n",
              "        element.innerHTML = '';\n",
              "        dataTable['output_type'] = 'display_data';\n",
              "        await google.colab.output.renderOutput(dataTable, element);\n",
              "        const docLink = document.createElement('div');\n",
              "        docLink.innerHTML = docLinkHtml;\n",
              "        element.appendChild(docLink);\n",
              "      }\n",
              "    </script>\n",
              "  </div>\n",
              "\n",
              "\n",
              "<div id=\"df-4d491977-5984-4da7-85a7-15fae50a63e9\">\n",
              "  <button class=\"colab-df-quickchart\" onclick=\"quickchart('df-4d491977-5984-4da7-85a7-15fae50a63e9')\"\n",
              "            title=\"Suggest charts\"\n",
              "            style=\"display:none;\">\n",
              "\n",
              "<svg xmlns=\"http://www.w3.org/2000/svg\" height=\"24px\"viewBox=\"0 0 24 24\"\n",
              "     width=\"24px\">\n",
              "    <g>\n",
              "        <path d=\"M19 3H5c-1.1 0-2 .9-2 2v14c0 1.1.9 2 2 2h14c1.1 0 2-.9 2-2V5c0-1.1-.9-2-2-2zM9 17H7v-7h2v7zm4 0h-2V7h2v10zm4 0h-2v-4h2v4z\"/>\n",
              "    </g>\n",
              "</svg>\n",
              "  </button>\n",
              "\n",
              "<style>\n",
              "  .colab-df-quickchart {\n",
              "      --bg-color: #E8F0FE;\n",
              "      --fill-color: #1967D2;\n",
              "      --hover-bg-color: #E2EBFA;\n",
              "      --hover-fill-color: #174EA6;\n",
              "      --disabled-fill-color: #AAA;\n",
              "      --disabled-bg-color: #DDD;\n",
              "  }\n",
              "\n",
              "  [theme=dark] .colab-df-quickchart {\n",
              "      --bg-color: #3B4455;\n",
              "      --fill-color: #D2E3FC;\n",
              "      --hover-bg-color: #434B5C;\n",
              "      --hover-fill-color: #FFFFFF;\n",
              "      --disabled-bg-color: #3B4455;\n",
              "      --disabled-fill-color: #666;\n",
              "  }\n",
              "\n",
              "  .colab-df-quickchart {\n",
              "    background-color: var(--bg-color);\n",
              "    border: none;\n",
              "    border-radius: 50%;\n",
              "    cursor: pointer;\n",
              "    display: none;\n",
              "    fill: var(--fill-color);\n",
              "    height: 32px;\n",
              "    padding: 0;\n",
              "    width: 32px;\n",
              "  }\n",
              "\n",
              "  .colab-df-quickchart:hover {\n",
              "    background-color: var(--hover-bg-color);\n",
              "    box-shadow: 0 1px 2px rgba(60, 64, 67, 0.3), 0 1px 3px 1px rgba(60, 64, 67, 0.15);\n",
              "    fill: var(--button-hover-fill-color);\n",
              "  }\n",
              "\n",
              "  .colab-df-quickchart-complete:disabled,\n",
              "  .colab-df-quickchart-complete:disabled:hover {\n",
              "    background-color: var(--disabled-bg-color);\n",
              "    fill: var(--disabled-fill-color);\n",
              "    box-shadow: none;\n",
              "  }\n",
              "\n",
              "  .colab-df-spinner {\n",
              "    border: 2px solid var(--fill-color);\n",
              "    border-color: transparent;\n",
              "    border-bottom-color: var(--fill-color);\n",
              "    animation:\n",
              "      spin 1s steps(1) infinite;\n",
              "  }\n",
              "\n",
              "  @keyframes spin {\n",
              "    0% {\n",
              "      border-color: transparent;\n",
              "      border-bottom-color: var(--fill-color);\n",
              "      border-left-color: var(--fill-color);\n",
              "    }\n",
              "    20% {\n",
              "      border-color: transparent;\n",
              "      border-left-color: var(--fill-color);\n",
              "      border-top-color: var(--fill-color);\n",
              "    }\n",
              "    30% {\n",
              "      border-color: transparent;\n",
              "      border-left-color: var(--fill-color);\n",
              "      border-top-color: var(--fill-color);\n",
              "      border-right-color: var(--fill-color);\n",
              "    }\n",
              "    40% {\n",
              "      border-color: transparent;\n",
              "      border-right-color: var(--fill-color);\n",
              "      border-top-color: var(--fill-color);\n",
              "    }\n",
              "    60% {\n",
              "      border-color: transparent;\n",
              "      border-right-color: var(--fill-color);\n",
              "    }\n",
              "    80% {\n",
              "      border-color: transparent;\n",
              "      border-right-color: var(--fill-color);\n",
              "      border-bottom-color: var(--fill-color);\n",
              "    }\n",
              "    90% {\n",
              "      border-color: transparent;\n",
              "      border-bottom-color: var(--fill-color);\n",
              "    }\n",
              "  }\n",
              "</style>\n",
              "\n",
              "  <script>\n",
              "    async function quickchart(key) {\n",
              "      const quickchartButtonEl =\n",
              "        document.querySelector('#' + key + ' button');\n",
              "      quickchartButtonEl.disabled = true;  // To prevent multiple clicks.\n",
              "      quickchartButtonEl.classList.add('colab-df-spinner');\n",
              "      try {\n",
              "        const charts = await google.colab.kernel.invokeFunction(\n",
              "            'suggestCharts', [key], {});\n",
              "      } catch (error) {\n",
              "        console.error('Error during call to suggestCharts:', error);\n",
              "      }\n",
              "      quickchartButtonEl.classList.remove('colab-df-spinner');\n",
              "      quickchartButtonEl.classList.add('colab-df-quickchart-complete');\n",
              "    }\n",
              "    (() => {\n",
              "      let quickchartButtonEl =\n",
              "        document.querySelector('#df-4d491977-5984-4da7-85a7-15fae50a63e9 button');\n",
              "      quickchartButtonEl.style.display =\n",
              "        google.colab.kernel.accessAllowed ? 'block' : 'none';\n",
              "    })();\n",
              "  </script>\n",
              "</div>\n",
              "\n",
              "  <div id=\"id_ccefa55c-6b37-496f-9a12-d68626a2d407\">\n",
              "    <style>\n",
              "      .colab-df-generate {\n",
              "        background-color: #E8F0FE;\n",
              "        border: none;\n",
              "        border-radius: 50%;\n",
              "        cursor: pointer;\n",
              "        display: none;\n",
              "        fill: #1967D2;\n",
              "        height: 32px;\n",
              "        padding: 0 0 0 0;\n",
              "        width: 32px;\n",
              "      }\n",
              "\n",
              "      .colab-df-generate:hover {\n",
              "        background-color: #E2EBFA;\n",
              "        box-shadow: 0px 1px 2px rgba(60, 64, 67, 0.3), 0px 1px 3px 1px rgba(60, 64, 67, 0.15);\n",
              "        fill: #174EA6;\n",
              "      }\n",
              "\n",
              "      [theme=dark] .colab-df-generate {\n",
              "        background-color: #3B4455;\n",
              "        fill: #D2E3FC;\n",
              "      }\n",
              "\n",
              "      [theme=dark] .colab-df-generate:hover {\n",
              "        background-color: #434B5C;\n",
              "        box-shadow: 0px 1px 3px 1px rgba(0, 0, 0, 0.15);\n",
              "        filter: drop-shadow(0px 1px 2px rgba(0, 0, 0, 0.3));\n",
              "        fill: #FFFFFF;\n",
              "      }\n",
              "    </style>\n",
              "    <button class=\"colab-df-generate\" onclick=\"generateWithVariable('y_df')\"\n",
              "            title=\"Generate code using this dataframe.\"\n",
              "            style=\"display:none;\">\n",
              "\n",
              "  <svg xmlns=\"http://www.w3.org/2000/svg\" height=\"24px\"viewBox=\"0 0 24 24\"\n",
              "       width=\"24px\">\n",
              "    <path d=\"M7,19H8.4L18.45,9,17,7.55,7,17.6ZM5,21V16.75L18.45,3.32a2,2,0,0,1,2.83,0l1.4,1.43a1.91,1.91,0,0,1,.58,1.4,1.91,1.91,0,0,1-.58,1.4L9.25,21ZM18.45,9,17,7.55Zm-12,3A5.31,5.31,0,0,0,4.9,8.1,5.31,5.31,0,0,0,1,6.5,5.31,5.31,0,0,0,4.9,4.9,5.31,5.31,0,0,0,6.5,1,5.31,5.31,0,0,0,8.1,4.9,5.31,5.31,0,0,0,12,6.5,5.46,5.46,0,0,0,6.5,12Z\"/>\n",
              "  </svg>\n",
              "    </button>\n",
              "    <script>\n",
              "      (() => {\n",
              "      const buttonEl =\n",
              "        document.querySelector('#id_ccefa55c-6b37-496f-9a12-d68626a2d407 button.colab-df-generate');\n",
              "      buttonEl.style.display =\n",
              "        google.colab.kernel.accessAllowed ? 'block' : 'none';\n",
              "\n",
              "      buttonEl.onclick = () => {\n",
              "        google.colab.notebook.generateWithVariable('y_df');\n",
              "      }\n",
              "      })();\n",
              "    </script>\n",
              "  </div>\n",
              "\n",
              "    </div>\n",
              "  </div>\n"
            ],
            "application/vnd.google.colaboratory.intrinsic+json": {
              "type": "dataframe",
              "variable_name": "y_df"
            }
          },
          "metadata": {},
          "execution_count": 30
        }
      ],
      "source": [
        "y_df = pd.DataFrame(data=y,columns=tv.get_feature_names_out())\n",
        "y_df"
      ]
    },
    {
      "cell_type": "markdown",
      "metadata": {
        "id": "ONnPTEsq-xsk"
      },
      "source": [
        "**We can see there are some differences between the vectorizer we created and the one we imported. Can you explain why these differences have arisen? How can we minimize this difference?**\n",
        "\n",
        "Ans:\n"
      ]
    },
    {
      "cell_type": "markdown",
      "metadata": {
        "id": "GmYYiQtV55zK"
      },
      "source": [
        "# The (Actual) Task Begins!"
      ]
    },
    {
      "cell_type": "markdown",
      "metadata": {
        "id": "cIJAS0TDjhwb"
      },
      "source": [
        "Dataset link: https://www.kaggle.com/datasets/lakshmi25npathi/imdb-dataset-of-50k-movie-reviews"
      ]
    },
    {
      "cell_type": "code",
      "execution_count": null,
      "metadata": {
        "colab": {
          "base_uri": "https://localhost:8080/"
        },
        "id": "hOBNeTeOohvp",
        "outputId": "fb519876-34b8-4a2d-f00c-da3496f119f7"
      },
      "outputs": [
        {
          "output_type": "stream",
          "name": "stdout",
          "text": [
            "Mounted at /content/drive\n"
          ]
        }
      ],
      "source": [
        "#Load dataset and store it in a dataframe\n",
        "from google.colab import drive\n",
        "drive.mount('/content/drive')"
      ]
    },
    {
      "cell_type": "code",
      "execution_count": null,
      "metadata": {
        "id": "fC7nxadkphYZ"
      },
      "outputs": [],
      "source": [
        "import pandas as pd"
      ]
    },
    {
      "cell_type": "code",
      "execution_count": null,
      "metadata": {
        "id": "97ZVBWb5SNBD"
      },
      "outputs": [],
      "source": [
        "df = pd.read_csv('/content/drive/MyDrive/IMDBDataset.csv')"
      ]
    },
    {
      "cell_type": "code",
      "execution_count": null,
      "metadata": {
        "colab": {
          "base_uri": "https://localhost:8080/",
          "height": 423
        },
        "id": "wHlXjD2LTjqS",
        "outputId": "472246e4-0265-4ed7-f446-866b74aa513f"
      },
      "outputs": [
        {
          "output_type": "execute_result",
          "data": {
            "text/plain": [
              "                                                  review sentiment\n",
              "0      One of the other reviewers has mentioned that ...  positive\n",
              "1      A wonderful little production. <br /><br />The...  positive\n",
              "2      I thought this was a wonderful way to spend ti...  positive\n",
              "3      Basically there's a family where a little boy ...  negative\n",
              "4      Petter Mattei's \"Love in the Time of Money\" is...  positive\n",
              "...                                                  ...       ...\n",
              "49995  I thought this movie did a down right good job...  positive\n",
              "49996  Bad plot, bad dialogue, bad acting, idiotic di...  negative\n",
              "49997  I am a Catholic taught in parochial elementary...  negative\n",
              "49998  I'm going to have to disagree with the previou...  negative\n",
              "49999  No one expects the Star Trek movies to be high...  negative\n",
              "\n",
              "[50000 rows x 2 columns]"
            ],
            "text/html": [
              "\n",
              "  <div id=\"df-15619cd2-ae36-49e0-965b-c4f1f3af94ec\" class=\"colab-df-container\">\n",
              "    <div>\n",
              "<style scoped>\n",
              "    .dataframe tbody tr th:only-of-type {\n",
              "        vertical-align: middle;\n",
              "    }\n",
              "\n",
              "    .dataframe tbody tr th {\n",
              "        vertical-align: top;\n",
              "    }\n",
              "\n",
              "    .dataframe thead th {\n",
              "        text-align: right;\n",
              "    }\n",
              "</style>\n",
              "<table border=\"1\" class=\"dataframe\">\n",
              "  <thead>\n",
              "    <tr style=\"text-align: right;\">\n",
              "      <th></th>\n",
              "      <th>review</th>\n",
              "      <th>sentiment</th>\n",
              "    </tr>\n",
              "  </thead>\n",
              "  <tbody>\n",
              "    <tr>\n",
              "      <th>0</th>\n",
              "      <td>One of the other reviewers has mentioned that ...</td>\n",
              "      <td>positive</td>\n",
              "    </tr>\n",
              "    <tr>\n",
              "      <th>1</th>\n",
              "      <td>A wonderful little production. &lt;br /&gt;&lt;br /&gt;The...</td>\n",
              "      <td>positive</td>\n",
              "    </tr>\n",
              "    <tr>\n",
              "      <th>2</th>\n",
              "      <td>I thought this was a wonderful way to spend ti...</td>\n",
              "      <td>positive</td>\n",
              "    </tr>\n",
              "    <tr>\n",
              "      <th>3</th>\n",
              "      <td>Basically there's a family where a little boy ...</td>\n",
              "      <td>negative</td>\n",
              "    </tr>\n",
              "    <tr>\n",
              "      <th>4</th>\n",
              "      <td>Petter Mattei's \"Love in the Time of Money\" is...</td>\n",
              "      <td>positive</td>\n",
              "    </tr>\n",
              "    <tr>\n",
              "      <th>...</th>\n",
              "      <td>...</td>\n",
              "      <td>...</td>\n",
              "    </tr>\n",
              "    <tr>\n",
              "      <th>49995</th>\n",
              "      <td>I thought this movie did a down right good job...</td>\n",
              "      <td>positive</td>\n",
              "    </tr>\n",
              "    <tr>\n",
              "      <th>49996</th>\n",
              "      <td>Bad plot, bad dialogue, bad acting, idiotic di...</td>\n",
              "      <td>negative</td>\n",
              "    </tr>\n",
              "    <tr>\n",
              "      <th>49997</th>\n",
              "      <td>I am a Catholic taught in parochial elementary...</td>\n",
              "      <td>negative</td>\n",
              "    </tr>\n",
              "    <tr>\n",
              "      <th>49998</th>\n",
              "      <td>I'm going to have to disagree with the previou...</td>\n",
              "      <td>negative</td>\n",
              "    </tr>\n",
              "    <tr>\n",
              "      <th>49999</th>\n",
              "      <td>No one expects the Star Trek movies to be high...</td>\n",
              "      <td>negative</td>\n",
              "    </tr>\n",
              "  </tbody>\n",
              "</table>\n",
              "<p>50000 rows × 2 columns</p>\n",
              "</div>\n",
              "    <div class=\"colab-df-buttons\">\n",
              "\n",
              "  <div class=\"colab-df-container\">\n",
              "    <button class=\"colab-df-convert\" onclick=\"convertToInteractive('df-15619cd2-ae36-49e0-965b-c4f1f3af94ec')\"\n",
              "            title=\"Convert this dataframe to an interactive table.\"\n",
              "            style=\"display:none;\">\n",
              "\n",
              "  <svg xmlns=\"http://www.w3.org/2000/svg\" height=\"24px\" viewBox=\"0 -960 960 960\">\n",
              "    <path d=\"M120-120v-720h720v720H120Zm60-500h600v-160H180v160Zm220 220h160v-160H400v160Zm0 220h160v-160H400v160ZM180-400h160v-160H180v160Zm440 0h160v-160H620v160ZM180-180h160v-160H180v160Zm440 0h160v-160H620v160Z\"/>\n",
              "  </svg>\n",
              "    </button>\n",
              "\n",
              "  <style>\n",
              "    .colab-df-container {\n",
              "      display:flex;\n",
              "      gap: 12px;\n",
              "    }\n",
              "\n",
              "    .colab-df-convert {\n",
              "      background-color: #E8F0FE;\n",
              "      border: none;\n",
              "      border-radius: 50%;\n",
              "      cursor: pointer;\n",
              "      display: none;\n",
              "      fill: #1967D2;\n",
              "      height: 32px;\n",
              "      padding: 0 0 0 0;\n",
              "      width: 32px;\n",
              "    }\n",
              "\n",
              "    .colab-df-convert:hover {\n",
              "      background-color: #E2EBFA;\n",
              "      box-shadow: 0px 1px 2px rgba(60, 64, 67, 0.3), 0px 1px 3px 1px rgba(60, 64, 67, 0.15);\n",
              "      fill: #174EA6;\n",
              "    }\n",
              "\n",
              "    .colab-df-buttons div {\n",
              "      margin-bottom: 4px;\n",
              "    }\n",
              "\n",
              "    [theme=dark] .colab-df-convert {\n",
              "      background-color: #3B4455;\n",
              "      fill: #D2E3FC;\n",
              "    }\n",
              "\n",
              "    [theme=dark] .colab-df-convert:hover {\n",
              "      background-color: #434B5C;\n",
              "      box-shadow: 0px 1px 3px 1px rgba(0, 0, 0, 0.15);\n",
              "      filter: drop-shadow(0px 1px 2px rgba(0, 0, 0, 0.3));\n",
              "      fill: #FFFFFF;\n",
              "    }\n",
              "  </style>\n",
              "\n",
              "    <script>\n",
              "      const buttonEl =\n",
              "        document.querySelector('#df-15619cd2-ae36-49e0-965b-c4f1f3af94ec button.colab-df-convert');\n",
              "      buttonEl.style.display =\n",
              "        google.colab.kernel.accessAllowed ? 'block' : 'none';\n",
              "\n",
              "      async function convertToInteractive(key) {\n",
              "        const element = document.querySelector('#df-15619cd2-ae36-49e0-965b-c4f1f3af94ec');\n",
              "        const dataTable =\n",
              "          await google.colab.kernel.invokeFunction('convertToInteractive',\n",
              "                                                    [key], {});\n",
              "        if (!dataTable) return;\n",
              "\n",
              "        const docLinkHtml = 'Like what you see? Visit the ' +\n",
              "          '<a target=\"_blank\" href=https://colab.research.google.com/notebooks/data_table.ipynb>data table notebook</a>'\n",
              "          + ' to learn more about interactive tables.';\n",
              "        element.innerHTML = '';\n",
              "        dataTable['output_type'] = 'display_data';\n",
              "        await google.colab.output.renderOutput(dataTable, element);\n",
              "        const docLink = document.createElement('div');\n",
              "        docLink.innerHTML = docLinkHtml;\n",
              "        element.appendChild(docLink);\n",
              "      }\n",
              "    </script>\n",
              "  </div>\n",
              "\n",
              "\n",
              "<div id=\"df-2a9140af-d69a-40b3-bcad-830c890869a4\">\n",
              "  <button class=\"colab-df-quickchart\" onclick=\"quickchart('df-2a9140af-d69a-40b3-bcad-830c890869a4')\"\n",
              "            title=\"Suggest charts\"\n",
              "            style=\"display:none;\">\n",
              "\n",
              "<svg xmlns=\"http://www.w3.org/2000/svg\" height=\"24px\"viewBox=\"0 0 24 24\"\n",
              "     width=\"24px\">\n",
              "    <g>\n",
              "        <path d=\"M19 3H5c-1.1 0-2 .9-2 2v14c0 1.1.9 2 2 2h14c1.1 0 2-.9 2-2V5c0-1.1-.9-2-2-2zM9 17H7v-7h2v7zm4 0h-2V7h2v10zm4 0h-2v-4h2v4z\"/>\n",
              "    </g>\n",
              "</svg>\n",
              "  </button>\n",
              "\n",
              "<style>\n",
              "  .colab-df-quickchart {\n",
              "      --bg-color: #E8F0FE;\n",
              "      --fill-color: #1967D2;\n",
              "      --hover-bg-color: #E2EBFA;\n",
              "      --hover-fill-color: #174EA6;\n",
              "      --disabled-fill-color: #AAA;\n",
              "      --disabled-bg-color: #DDD;\n",
              "  }\n",
              "\n",
              "  [theme=dark] .colab-df-quickchart {\n",
              "      --bg-color: #3B4455;\n",
              "      --fill-color: #D2E3FC;\n",
              "      --hover-bg-color: #434B5C;\n",
              "      --hover-fill-color: #FFFFFF;\n",
              "      --disabled-bg-color: #3B4455;\n",
              "      --disabled-fill-color: #666;\n",
              "  }\n",
              "\n",
              "  .colab-df-quickchart {\n",
              "    background-color: var(--bg-color);\n",
              "    border: none;\n",
              "    border-radius: 50%;\n",
              "    cursor: pointer;\n",
              "    display: none;\n",
              "    fill: var(--fill-color);\n",
              "    height: 32px;\n",
              "    padding: 0;\n",
              "    width: 32px;\n",
              "  }\n",
              "\n",
              "  .colab-df-quickchart:hover {\n",
              "    background-color: var(--hover-bg-color);\n",
              "    box-shadow: 0 1px 2px rgba(60, 64, 67, 0.3), 0 1px 3px 1px rgba(60, 64, 67, 0.15);\n",
              "    fill: var(--button-hover-fill-color);\n",
              "  }\n",
              "\n",
              "  .colab-df-quickchart-complete:disabled,\n",
              "  .colab-df-quickchart-complete:disabled:hover {\n",
              "    background-color: var(--disabled-bg-color);\n",
              "    fill: var(--disabled-fill-color);\n",
              "    box-shadow: none;\n",
              "  }\n",
              "\n",
              "  .colab-df-spinner {\n",
              "    border: 2px solid var(--fill-color);\n",
              "    border-color: transparent;\n",
              "    border-bottom-color: var(--fill-color);\n",
              "    animation:\n",
              "      spin 1s steps(1) infinite;\n",
              "  }\n",
              "\n",
              "  @keyframes spin {\n",
              "    0% {\n",
              "      border-color: transparent;\n",
              "      border-bottom-color: var(--fill-color);\n",
              "      border-left-color: var(--fill-color);\n",
              "    }\n",
              "    20% {\n",
              "      border-color: transparent;\n",
              "      border-left-color: var(--fill-color);\n",
              "      border-top-color: var(--fill-color);\n",
              "    }\n",
              "    30% {\n",
              "      border-color: transparent;\n",
              "      border-left-color: var(--fill-color);\n",
              "      border-top-color: var(--fill-color);\n",
              "      border-right-color: var(--fill-color);\n",
              "    }\n",
              "    40% {\n",
              "      border-color: transparent;\n",
              "      border-right-color: var(--fill-color);\n",
              "      border-top-color: var(--fill-color);\n",
              "    }\n",
              "    60% {\n",
              "      border-color: transparent;\n",
              "      border-right-color: var(--fill-color);\n",
              "    }\n",
              "    80% {\n",
              "      border-color: transparent;\n",
              "      border-right-color: var(--fill-color);\n",
              "      border-bottom-color: var(--fill-color);\n",
              "    }\n",
              "    90% {\n",
              "      border-color: transparent;\n",
              "      border-bottom-color: var(--fill-color);\n",
              "    }\n",
              "  }\n",
              "</style>\n",
              "\n",
              "  <script>\n",
              "    async function quickchart(key) {\n",
              "      const quickchartButtonEl =\n",
              "        document.querySelector('#' + key + ' button');\n",
              "      quickchartButtonEl.disabled = true;  // To prevent multiple clicks.\n",
              "      quickchartButtonEl.classList.add('colab-df-spinner');\n",
              "      try {\n",
              "        const charts = await google.colab.kernel.invokeFunction(\n",
              "            'suggestCharts', [key], {});\n",
              "      } catch (error) {\n",
              "        console.error('Error during call to suggestCharts:', error);\n",
              "      }\n",
              "      quickchartButtonEl.classList.remove('colab-df-spinner');\n",
              "      quickchartButtonEl.classList.add('colab-df-quickchart-complete');\n",
              "    }\n",
              "    (() => {\n",
              "      let quickchartButtonEl =\n",
              "        document.querySelector('#df-2a9140af-d69a-40b3-bcad-830c890869a4 button');\n",
              "      quickchartButtonEl.style.display =\n",
              "        google.colab.kernel.accessAllowed ? 'block' : 'none';\n",
              "    })();\n",
              "  </script>\n",
              "</div>\n",
              "\n",
              "  <div id=\"id_6aa943cc-1538-49eb-b209-27f5eca44038\">\n",
              "    <style>\n",
              "      .colab-df-generate {\n",
              "        background-color: #E8F0FE;\n",
              "        border: none;\n",
              "        border-radius: 50%;\n",
              "        cursor: pointer;\n",
              "        display: none;\n",
              "        fill: #1967D2;\n",
              "        height: 32px;\n",
              "        padding: 0 0 0 0;\n",
              "        width: 32px;\n",
              "      }\n",
              "\n",
              "      .colab-df-generate:hover {\n",
              "        background-color: #E2EBFA;\n",
              "        box-shadow: 0px 1px 2px rgba(60, 64, 67, 0.3), 0px 1px 3px 1px rgba(60, 64, 67, 0.15);\n",
              "        fill: #174EA6;\n",
              "      }\n",
              "\n",
              "      [theme=dark] .colab-df-generate {\n",
              "        background-color: #3B4455;\n",
              "        fill: #D2E3FC;\n",
              "      }\n",
              "\n",
              "      [theme=dark] .colab-df-generate:hover {\n",
              "        background-color: #434B5C;\n",
              "        box-shadow: 0px 1px 3px 1px rgba(0, 0, 0, 0.15);\n",
              "        filter: drop-shadow(0px 1px 2px rgba(0, 0, 0, 0.3));\n",
              "        fill: #FFFFFF;\n",
              "      }\n",
              "    </style>\n",
              "    <button class=\"colab-df-generate\" onclick=\"generateWithVariable('df')\"\n",
              "            title=\"Generate code using this dataframe.\"\n",
              "            style=\"display:none;\">\n",
              "\n",
              "  <svg xmlns=\"http://www.w3.org/2000/svg\" height=\"24px\"viewBox=\"0 0 24 24\"\n",
              "       width=\"24px\">\n",
              "    <path d=\"M7,19H8.4L18.45,9,17,7.55,7,17.6ZM5,21V16.75L18.45,3.32a2,2,0,0,1,2.83,0l1.4,1.43a1.91,1.91,0,0,1,.58,1.4,1.91,1.91,0,0,1-.58,1.4L9.25,21ZM18.45,9,17,7.55Zm-12,3A5.31,5.31,0,0,0,4.9,8.1,5.31,5.31,0,0,0,1,6.5,5.31,5.31,0,0,0,4.9,4.9,5.31,5.31,0,0,0,6.5,1,5.31,5.31,0,0,0,8.1,4.9,5.31,5.31,0,0,0,12,6.5,5.46,5.46,0,0,0,6.5,12Z\"/>\n",
              "  </svg>\n",
              "    </button>\n",
              "    <script>\n",
              "      (() => {\n",
              "      const buttonEl =\n",
              "        document.querySelector('#id_6aa943cc-1538-49eb-b209-27f5eca44038 button.colab-df-generate');\n",
              "      buttonEl.style.display =\n",
              "        google.colab.kernel.accessAllowed ? 'block' : 'none';\n",
              "\n",
              "      buttonEl.onclick = () => {\n",
              "        google.colab.notebook.generateWithVariable('df');\n",
              "      }\n",
              "      })();\n",
              "    </script>\n",
              "  </div>\n",
              "\n",
              "    </div>\n",
              "  </div>\n"
            ],
            "application/vnd.google.colaboratory.intrinsic+json": {
              "type": "dataframe",
              "variable_name": "df",
              "summary": "{\n  \"name\": \"df\",\n  \"rows\": 50000,\n  \"fields\": [\n    {\n      \"column\": \"review\",\n      \"properties\": {\n        \"dtype\": \"string\",\n        \"num_unique_values\": 49582,\n        \"samples\": [\n          \"\\\"Soul Plane\\\" is a horrible attempt at comedy that only should appeal people with thick skulls, bloodshot eyes and furry pawns. <br /><br />The plot is not only incoherent but also non-existent, acting is mostly sub sub-par with a gang of highly moronic and dreadful characters thrown in for bad measure, jokes are often spotted miles ahead and almost never even a bit amusing. This movie lacks any structure and is full of racial stereotypes that must have seemed old even in the fifties, the only thing it really has going for it is some pretty ladies, but really, if you want that you can rent something from the \\\"Adult\\\" section. OK?<br /><br />I can hardly see anything here to recommend since you'll probably have a lot a better and productive time chasing rats with a sledgehammer or inventing waterproof teabags or whatever.<br /><br />2/10\",\n          \"Guest from the Future tells a fascinating story of time travel, friendship, battle of good and evil -- all with a small budget, child actors, and few special effects. Something for Spielberg and Lucas to learn from. ;) A sixth-grader Kolya \\\"Nick\\\" Gerasimov finds a time machine in the basement of a decrepit building and travels 100 years into the future. He discovers a near-perfect, utopian society where robots play guitars and write poetry, everyone is kind to each other and people enjoy everything technology has to offer. Alice is the daughter of a prominent scientist who invented a device called Mielophone that allows to read minds of humans and animals. The device can be put to both good and bad use, depending on whose hands it falls into. When two evil space pirates from Saturn who want to rule the universe attempt to steal Mielophone, it falls into the hands of 20th century school boy Nick. With the pirates hot on his tracks, he travels back to his time, followed by the pirates, and Alice. Chaos, confusion and funny situations follow as the luckless pirates try to blend in with the earthlings. Alice enrolls in the same school Nick goes to and demonstrates superhuman abilities in PE class. The catch is, Alice doesn't know what Nick looks like, while the pirates do. Also, the pirates are able to change their appearance and turn literally into anyone. (Hmm, I wonder if this is where James Cameron got the idea for Terminator...) Who gets to Nick -- and Mielophone -- first? Excellent plot, non-stop adventures, and great soundtrack. I wish Hollywood made kid movies like this one...\",\n          \"\\\"National Treasure\\\" (2004) is a thoroughly misguided hodge-podge of plot entanglements that borrow from nearly every cloak and dagger government conspiracy clich\\u00e9 that has ever been written. The film stars Nicholas Cage as Benjamin Franklin Gates (how precious is that, I ask you?); a seemingly normal fellow who, for no other reason than being of a lineage of like-minded misguided fortune hunters, decides to steal a 'national treasure' that has been hidden by the United States founding fathers. After a bit of subtext and background that plays laughably (unintentionally) like Indiana Jones meets The Patriot, the film degenerates into one misguided whimsy after another \\u0096 attempting to create a 'Stanley Goodspeed' regurgitation of Nicholas Cage and launch the whole convoluted mess forward with a series of high octane, but disconnected misadventures.<br /><br />The relevancy and logic to having George Washington and his motley crew of patriots burying a king's ransom someplace on native soil, and then, going through the meticulous plan of leaving clues scattered throughout U.S. currency art work, is something that director Jon Turteltaub never quite gets around to explaining. Couldn't Washington found better usage for such wealth during the start up of the country? Hence, we are left with a mystery built on top of an enigma that is already on shaky ground by the time Ben appoints himself the new custodian of this untold wealth. Ben's intentions are noble \\u0096 if confusing. He's set on protecting the treasure. For who and when?\\u0085your guess is as good as mine.<br /><br />But there are a few problems with Ben's crusade. First up, his friend, Ian Holmes (Sean Bean) decides that he can't wait for Ben to make up his mind about stealing the Declaration of Independence from the National Archives (oh, yeah \\u0096 brilliant idea!). Presumably, the back of that famous document holds the secret answer to the ultimate fortune. So Ian tries to kill Ben. The assassination attempt is, of course, unsuccessful, if overly melodramatic. It also affords Ben the opportunity to pick up, and pick on, the very sultry curator of the archives, Abigail Chase (Diane Kruger). She thinks Ben is clearly a nut \\u0096 at least at the beginning. But true to action/romance form, Abby's resolve melts quicker than you can say, \\\"is that the Hope Diamond?\\\" The film moves into full X-File-ish mode, as the FBI, mistakenly believing that Ben is behind the theft, retaliate in various benign ways that lead to a multi-layering of action sequences reminiscent of Mission Impossible meets The Fugitive. Honestly, don't those guys ever get 'intelligence' information that is correct? In the final analysis, \\\"National Treasure\\\" isn't great film making, so much as it's a patchwork rehash of tired old bits from other movies, woven together from scraps, the likes of which would make IL' Betsy Ross blush.<br /><br />The Buena Vista DVD delivers a far more generous treatment than this film is deserving of. The anamorphic widescreen picture exhibits a very smooth and finely detailed image with very rich colors, natural flesh tones, solid blacks and clean whites. The stylized image is also free of blemishes and digital enhancements. The audio is 5.1 and delivers a nice sonic boom to your side and rear speakers with intensity and realism. Extras include a host of promotional junket material that is rather deep and over the top in its explanation of how and why this film was made. If only, as an audience, we had had more clarification as to why Ben and co. were chasing after an illusive treasure, this might have been one good flick. Extras conclude with the theatrical trailer, audio commentary and deleted scenes. Not for the faint-hearted \\u0096 just the thick-headed.\"\n        ],\n        \"semantic_type\": \"\",\n        \"description\": \"\"\n      }\n    },\n    {\n      \"column\": \"sentiment\",\n      \"properties\": {\n        \"dtype\": \"category\",\n        \"num_unique_values\": 2,\n        \"samples\": [\n          \"negative\",\n          \"positive\"\n        ],\n        \"semantic_type\": \"\",\n        \"description\": \"\"\n      }\n    }\n  ]\n}"
            }
          },
          "metadata": {},
          "execution_count": 34
        }
      ],
      "source": [
        "df"
      ]
    },
    {
      "cell_type": "code",
      "execution_count": null,
      "metadata": {
        "colab": {
          "base_uri": "https://localhost:8080/"
        },
        "id": "drA9uUoRosh8",
        "outputId": "332bf84e-fe24-4bde-deb9-ccc8e1f3155d"
      },
      "outputs": [],
      "source": [
        "# Write a function to create the corpus on the basis of the given dataset. Remember, the corpus should have the sentences separateed from each other\n",
        "# Also, do not forget to perform the preprocessing steps as done earlier\n",
        "from tqdm import tqdm\n",
        "corpus_df=[]\n",
        "for i in tqdm(range(len(df))):\n",
        "  newsen = re.sub(r'[^a-z\\s]', ' ', df['review'][i]).lower()\n",
        "  words = word_tokenize(newsen)\n",
        "  lemmatized_words = [lemmatizer.lemmatize(w) for w in words if w not in stop_words]\n",
        "  newsen = ' '.join(lemmatized_words)\n",
        "  corpus_df.append(newsen)\n",
        "\n",
        "print(corpus_df)\n"
      ]
    },
    {
      "cell_type": "code",
      "execution_count": null,
      "metadata": {
        "colab": {
          "base_uri": "https://localhost:8080/"
        },
        "id": "wBYH7XYFz3HC",
        "outputId": "5ffafe74-1a40-4a15-c58a-07108978ad79"
      },
      "outputs": [],
      "source": [
        "print(corpus_df)"
      ]
    },
    {
      "cell_type": "code",
      "execution_count": null,
      "metadata": {
        "id": "0pB72mNHlshe"
      },
      "outputs": [],
      "source": [
        "corpus_df_copy = corpus_df.copy()\n",
        "corpus_sentences = []\n",
        "for sentence in corpus_df:\n",
        "  corpus_sentences.append(\"\".join(sentence))"
      ]
    },
    {
      "cell_type": "markdown",
      "metadata": {
        "id": "Yft_UysMmtAc"
      },
      "source": [
        "Use CBOW and TF_IDF to vectorize the dataset and test its classification report using the multinomial naive bayes model.\n",
        "\n"
      ]
    },
    {
      "cell_type": "markdown",
      "metadata": {
        "id": "7mIe3npm-7Eg"
      },
      "source": [
        "##Bag of Words\n",
        "**What is BoW?** <br>\n",
        "Ans: It considers he documents as a bag of text, not focusing on grammer or order. only the frequency. it arranges the words into a vector of frequencies of words\n"
      ]
    },
    {
      "cell_type": "code",
      "execution_count": null,
      "metadata": {
        "colab": {
          "base_uri": "https://localhost:8080/"
        },
        "id": "9JDr7wljt_2D",
        "outputId": "c77d64a3-6f65-4afb-8a73-6301f3605eeb"
      },
      "outputs": [],
      "source": [
        "print(corpus_sentences)"
      ]
    },
    {
      "cell_type": "code",
      "execution_count": null,
      "metadata": {
        "id": "DehcDVIELtcd"
      },
      "outputs": [],
      "source": [
        "# Import CountVectorizer and use the BoW\n",
        "from sklearn.feature_extraction.text import CountVectorizer\n",
        "cv = CountVectorizer(max_features = 2300, ngram_range = (1,1))\n",
        "\n",
        "#Create your X and y arrays\n",
        "X = cv.fit_transform(corpus_sentences).toarray()\n",
        "y=pd.get_dummies(df['sentiment'])\n",
        "y=y.iloc[:,1].values"
      ]
    },
    {
      "cell_type": "code",
      "execution_count": null,
      "metadata": {
        "id": "p9jyd0E8LtWK"
      },
      "outputs": [],
      "source": [
        "# Perform train test split\n",
        "from sklearn.model_selection import train_test_split\n",
        "X_train, X_test, y_train, y_test = train_test_split(X,y, test_size=0.3, random_state=3)"
      ]
    },
    {
      "cell_type": "code",
      "execution_count": null,
      "metadata": {
        "id": "Z7UEFBS5MM2J"
      },
      "outputs": [],
      "source": [
        "#Fit training data on Multinomial Naive Bayes\n",
        "from sklearn.naive_bayes import MultinomialNB\n",
        "spam_detect_model = MultinomialNB().fit(X_train, y_train)"
      ]
    },
    {
      "cell_type": "code",
      "execution_count": null,
      "metadata": {
        "colab": {
          "base_uri": "https://localhost:8080/"
        },
        "id": "cZCsPjgWMMyk",
        "outputId": "cd993575-6510-454a-b7ff-881f8d643335"
      },
      "outputs": [
        {
          "output_type": "stream",
          "name": "stdout",
          "text": [
            "0.8374666666666667\n",
            "              precision    recall  f1-score   support\n",
            "\n",
            "       False       0.84      0.84      0.84      7430\n",
            "        True       0.84      0.84      0.84      7570\n",
            "\n",
            "    accuracy                           0.84     15000\n",
            "   macro avg       0.84      0.84      0.84     15000\n",
            "weighted avg       0.84      0.84      0.84     15000\n",
            "\n"
          ]
        }
      ],
      "source": [
        "#Print the accuracy and create a classification report\n",
        "y_pred= spam_detect_model.predict(X_test)\n",
        "\n",
        "from sklearn.metrics import accuracy_score, classification_report\n",
        "accuracy = accuracy_score(y_test,y_pred)\n",
        "classi = classification_report(y_test,y_pred)\n",
        "print(accuracy)\n",
        "print(classi)"
      ]
    },
    {
      "cell_type": "markdown",
      "metadata": {
        "id": "KhjFFf7tbM7z"
      },
      "source": [
        "##TF-IDF"
      ]
    },
    {
      "cell_type": "code",
      "execution_count": null,
      "metadata": {
        "colab": {
          "base_uri": "https://localhost:8080/"
        },
        "id": "wOlWawNdhBce",
        "outputId": "6cc73818-3367-4893-908b-4a824927faed"
      },
      "outputs": [
        {
          "output_type": "stream",
          "name": "stdout",
          "text": [
            "0.8441333333333333\n",
            "              precision    recall  f1-score   support\n",
            "\n",
            "       False       0.85      0.83      0.84      7430\n",
            "        True       0.84      0.86      0.85      7570\n",
            "\n",
            "    accuracy                           0.84     15000\n",
            "   macro avg       0.84      0.84      0.84     15000\n",
            "weighted avg       0.84      0.84      0.84     15000\n",
            "\n"
          ]
        }
      ],
      "source": [
        "# Write the code for tfidVectorizer, very much similar to the one you wrote for CountVectorizer\n",
        "# Also, print the accuracy, and create a classification report\n",
        "from sklearn.feature_extraction.text import TfidfVectorizer\n",
        "tv = TfidfVectorizer(max_features=2300, ngram_range = (1,1))\n",
        "X = tv.fit_transform(corpus_sentences).toarray()\n",
        "X_train, X_test, y_train, y_test = train_test_split(X,y, test_size=0.3, random_state=3)\n",
        "spam_detect_model = MultinomialNB().fit(X_train, y_train)\n",
        "y_pred= spam_detect_model.predict(X_test)\n",
        "accuracy = accuracy_score(y_test,y_pred)\n",
        "classi = classification_report(y_test,y_pred)\n",
        "print(accuracy)\n",
        "print(classi)"
      ]
    },
    {
      "cell_type": "code",
      "execution_count": null,
      "metadata": {
        "id": "_jSejvsYbVvK"
      },
      "outputs": [],
      "source": [
        "from sklearn.metrics import classification_report"
      ]
    },
    {
      "cell_type": "markdown",
      "metadata": {
        "id": "GWYDwBwPcqM-"
      },
      "source": [
        "#Word2Vec\n",
        "\n",
        "\n"
      ]
    },
    {
      "cell_type": "markdown",
      "metadata": {
        "id": "HCJEsmuqhJ4m"
      },
      "source": [
        "word2vec is a neural network based algorithm released in 2013 which captures the semantic meaning of words instead of being based solely on frequency based metrics. For example, saying 'I look good today' and 'I look fantanstic today' should be considered similar sentences, however models like TF-IDF and BOW cannot capture this similarity and consider them different.\n",
        "\n",
        "word2vec works by ensuring the data being passed is trained to recognize context using either CBOW or Skip-gram method (check references). It is thus preferred to have a large dataset for this task. Then, one can compare similarity between words present in the dataset in a lingustic manner.\n",
        "\n",
        "\n",
        "A famous example that word2vec is able to capture is the one below:\n",
        "![Analogical-reasoning-on-vectors-a-king-man-womanqueen-and-b.png](data:image/png;base64,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)"
      ]
    },
    {
      "cell_type": "markdown",
      "metadata": {
        "id": "XAegueVrhkYj"
      },
      "source": [
        "https://www.analyticsvidhya.com/blog/2021/07/word2vec-for-word-embeddings-a-beginners-guide/\n",
        "\n",
        "https://youtu.be/viZrOnJclY0?si=J-HwOd3_Ng2CfVgU\n",
        "\n",
        "https://www.tensorflow.org/text/tutorials/word2vec (Advanced level)"
      ]
    },
    {
      "cell_type": "markdown",
      "metadata": {
        "id": "9IwADVfUhoup"
      },
      "source": [
        "Let's try and use Word2Vec for our reviews dataset."
      ]
    },
    {
      "cell_type": "markdown",
      "metadata": {
        "id": "DGZW7pU6hsTV"
      },
      "source": [
        "You can use CBOW or SkipGram (sg = 0/1) default is CBOW\n",
        "\n",
        "Word2Vec resources: https://builtin.com/machine-learning/nlp-word2vec-python"
      ]
    },
    {
      "cell_type": "code",
      "execution_count": null,
      "metadata": {
        "id": "gv8LOXXUptyr"
      },
      "outputs": [],
      "source": [
        "from numpy import triu\n",
        "import gensim\n",
        "from gensim.models import word2vec\n",
        "from gensim.models.word2vec import Word2Vec"
      ]
    },
    {
      "cell_type": "code",
      "execution_count": null,
      "metadata": {
        "colab": {
          "base_uri": "https://localhost:8080/"
        },
        "id": "-JqNN8-izHuK",
        "outputId": "8a37947f-28e3-4ae6-cc21-48e0802c1763"
      },
      "outputs": [],
      "source": [
        "print(corpus_df)\n",
        "corpus_df1 = [word_tokenize(sentence.lower()) for sentence in corpus_df]\n",
        "print(corpus_df1)"
      ]
    },
    {
      "cell_type": "code",
      "execution_count": null,
      "metadata": {
        "id": "jGTTHrWOcxln"
      },
      "outputs": [],
      "source": [
        "model=Word2Vec(corpus_df1, window=5, min_count=3)#window, min_count, max_count, size are important hyperparameters"
      ]
    },
    {
      "cell_type": "code",
      "execution_count": null,
      "metadata": {
        "colab": {
          "base_uri": "https://localhost:8080/"
        },
        "id": "HwMCeIxxkVuY",
        "outputId": "3efe3ba1-8cd8-4fd9-8682-7a43d8909a54"
      },
      "outputs": [
        {
          "output_type": "stream",
          "name": "stdout",
          "text": [
            "Word2Vec<vocab=47249, vector_size=100, alpha=0.025>\n"
          ]
        }
      ],
      "source": [
        "print(model)"
      ]
    },
    {
      "cell_type": "code",
      "execution_count": null,
      "metadata": {
        "colab": {
          "base_uri": "https://localhost:8080/"
        },
        "id": "P6I2J55UypcJ",
        "outputId": "60c57db6-e8c4-4b9f-865b-7f522a5e3d2e"
      },
      "outputs": [],
      "source": [
        "print(corpus_df1)"
      ]
    },
    {
      "cell_type": "code",
      "execution_count": null,
      "metadata": {
        "colab": {
          "base_uri": "https://localhost:8080/"
        },
        "id": "g2im5lWs11W8",
        "outputId": "55cf310f-ff93-40b3-f87d-fb2e5d7f56f1"
      },
      "outputs": [
        {
          "output_type": "stream",
          "name": "stdout",
          "text": [
            "True\n"
          ]
        },
        {
          "output_type": "execute_result",
          "data": {
            "text/plain": [
              "[('comment', 0.8858972191810608),\n",
              " ('user', 0.7667463421821594),\n",
              " ('b', 0.7617105841636658),\n",
              " ('reviewer', 0.7593846917152405),\n",
              " ('posted', 0.723557710647583),\n",
              " ('critic', 0.6729857325553894),\n",
              " ('website', 0.6650371551513672),\n",
              " ('site', 0.6649608612060547),\n",
              " ('commentator', 0.6539408564567566),\n",
              " ('disagree', 0.6475026607513428)]"
            ]
          },
          "metadata": {},
          "execution_count": 50
        }
      ],
      "source": [
        "print('review' in model.wv.key_to_index)\n",
        "model.wv.most_similar('review')\n"
      ]
    },
    {
      "cell_type": "code",
      "execution_count": null,
      "metadata": {
        "colab": {
          "base_uri": "https://localhost:8080/"
        },
        "id": "dgr5phI0BC3N",
        "outputId": "bf29ae78-1046-43e0-ef3b-909ed08c0909"
      },
      "outputs": [
        {
          "output_type": "execute_result",
          "data": {
            "text/plain": [
              "[('directorial', -0.5125312805175781),\n",
              " ('achievement', -0.4966370165348053),\n",
              " ('isconti', -0.48896524310112),\n",
              " ('debut', -0.4676510989665985),\n",
              " ('excellence', -0.4579036831855774),\n",
              " ('presentation', -0.45780912041664124),\n",
              " ('directing', -0.456162691116333),\n",
              " ('artley', -0.45256662368774414),\n",
              " ('masterpiece', -0.4456585645675659),\n",
              " ('azan', -0.4420555531978607)]"
            ]
          },
          "metadata": {},
          "execution_count": 51
        }
      ],
      "source": [
        "import sys\n",
        "all_sims = model.wv.most_similar('dog', topn=sys.maxsize)\n",
        "last_10 = list(reversed(all_sims[-10:]))\n",
        "last_10"
      ]
    },
    {
      "cell_type": "code",
      "execution_count": null,
      "metadata": {
        "colab": {
          "base_uri": "https://localhost:8080/"
        },
        "id": "Dp2e3X73-CQW",
        "outputId": "c44fcebe-752d-4f34-8c47-f578a51876fe"
      },
      "outputs": [
        {
          "output_type": "execute_result",
          "data": {
            "text/plain": [
              "array([-5.83884478e-01,  1.22220469e+00, -1.15089834e+00, -1.37702000e+00,\n",
              "        5.99645019e-01, -5.44429660e-01, -2.63787806e-01, -3.13815773e-01,\n",
              "        1.08901787e+00,  9.24542248e-01, -1.42066106e-01, -1.68537331e+00,\n",
              "       -1.83729902e-01,  5.44279277e-01,  1.58446271e-03, -3.24305832e-01,\n",
              "        1.10065031e+00, -1.69746029e+00,  2.00507450e+00, -1.63904333e+00,\n",
              "        3.64523053e-01, -3.48843038e-01,  2.72925830e+00,  1.55755723e+00,\n",
              "       -1.61010790e+00, -2.39381064e-02, -1.45093882e+00,  5.19993365e-01,\n",
              "       -5.02369285e-01,  6.44087195e-01,  5.37973702e-01, -8.38613093e-01,\n",
              "       -4.24422830e-01, -6.41646147e-01, -4.37213391e-01,  1.01800811e+00,\n",
              "        3.85097444e-01, -2.48537436e-01, -1.22056901e-01,  5.98192811e-02,\n",
              "        3.50406408e+00,  5.83877325e-01, -8.20154965e-01, -2.53492683e-01,\n",
              "        4.10404593e-01,  5.03603891e-02,  1.98338032e-01,  1.40366387e+00,\n",
              "       -4.94563133e-02, -1.19446659e+00,  2.22248524e-01, -3.52874964e-01,\n",
              "       -1.06377923e+00,  1.17950606e+00,  7.74246991e-01,  1.13105297e+00,\n",
              "       -4.24507558e-01, -3.38966846e-01, -4.21801865e-01,  5.54671168e-01,\n",
              "       -1.56773910e-01, -1.16432786e+00, -3.43818858e-04, -1.04153976e-01,\n",
              "       -6.67788208e-01,  4.84711736e-01,  2.66253024e-01, -5.78718662e-01,\n",
              "        3.75962198e-01, -1.31791914e+00, -1.01196742e+00,  9.74095464e-01,\n",
              "       -9.63841438e-01,  2.22835088e+00, -7.12200642e-01,  3.62137765e-01,\n",
              "       -1.60786366e+00,  1.80315465e-01, -4.83851254e-01, -1.52576196e+00,\n",
              "       -4.60986823e-01,  7.79342055e-01, -5.95487833e-01,  3.91031772e-01,\n",
              "       -3.64402056e-01, -8.43180597e-01,  5.57881534e-01,  1.85020959e+00,\n",
              "       -5.18337667e-01,  1.38977906e-02,  1.21328676e+00, -1.43721557e+00,\n",
              "       -3.66101980e-01,  1.95769179e+00, -1.99926376e+00, -7.61043012e-01,\n",
              "        2.45611525e+00,  1.29097700e+00,  3.78859490e-01, -4.68585789e-01],\n",
              "      dtype=float32)"
            ]
          },
          "metadata": {},
          "execution_count": 52
        }
      ],
      "source": [
        "model.wv['dog']"
      ]
    },
    {
      "cell_type": "markdown",
      "metadata": {
        "id": "E1l_g9_qOMPO"
      },
      "source": [
        "**Average Word2Vec**\n",
        "\n",
        "In average Word2Vec, the model is fed with an average of all the vectors obtained from the vectorization techniques. For eg. in this task, our model will be fed a single array of size Nx1 which is an average vector of all the vectors in the sentence.\n",
        "\n",
        "Why do we do this? - https://datascience.stackexchange.com/questions/93253/why-is-averaging-the-vectors-required-in-word2vec"
      ]
    },
    {
      "cell_type": "code",
      "execution_count": null,
      "metadata": {
        "colab": {
          "base_uri": "https://localhost:8080/"
        },
        "id": "V-QfiygdOL1X",
        "outputId": "7bd92f99-858f-4546-9006-260f352a3ba3"
      },
      "outputs": [
        {
          "output_type": "execute_result",
          "data": {
            "text/plain": [
              "array([-0.07081294,  0.54068345,  0.38878495, -0.719477  , -0.0207187 ,\n",
              "       -0.14571883, -0.412478  ,  0.60936326, -0.219363  , -0.44786978,\n",
              "       -0.7827077 , -0.11006957, -0.33873528,  0.15922055,  0.43562514,\n",
              "       -0.67856324, -0.05529459,  0.3792816 ,  0.10982327, -0.22926694,\n",
              "        0.42407614,  0.11027877, -0.2664064 ,  0.8549793 , -0.49052104,\n",
              "        0.15078087,  0.21742427, -0.55836815, -0.06304671,  0.31158888,\n",
              "        0.40578112,  0.7301137 ,  0.17229682, -0.34734935, -0.09572563,\n",
              "        0.20093709,  0.1214649 , -0.47804084, -0.35958993, -0.43360355,\n",
              "       -0.30513835, -0.7672446 ,  0.05571283, -0.1374643 ,  0.33076102,\n",
              "       -0.21340497,  0.08557982,  0.30866376,  0.66160524,  0.30576748,\n",
              "        0.5009724 ,  0.00989257, -0.43781444,  0.00334864,  0.37181985,\n",
              "        0.39857933,  0.13101569,  0.1749333 ,  0.167708  , -0.19764663,\n",
              "        0.32595554,  0.165062  , -0.4182839 ,  0.2049142 , -0.14476934,\n",
              "        0.24528542, -0.06722905, -0.26674154, -0.59342307,  0.49456087,\n",
              "        0.04410643, -0.08383117, -0.05767557,  0.19039316,  0.02742114,\n",
              "       -0.22578119, -0.02479569, -0.18262382, -0.18503323,  0.35098198,\n",
              "        0.16165185, -0.32046178, -0.54159963,  0.31533104, -0.38846266,\n",
              "        0.20150009, -0.2503501 , -0.08241448,  0.2894037 ,  0.57301337,\n",
              "       -0.05619342, -0.12791507,  0.3570774 , -0.3999867 , -0.33730757,\n",
              "       -0.57451534, -0.2518824 , -0.59811   , -0.9333946 , -0.09106246],\n",
              "      dtype=float32)"
            ]
          },
          "metadata": {},
          "execution_count": 69
        }
      ],
      "source": [
        "def avg_word2vec(doc):\n",
        "  return np.mean([model.wv[word] for word in doc if word in model.wv.index_to_key], axis=0)\n",
        "\n",
        "avg_word2vec(df['review'].values[0])"
      ]
    },
    {
      "cell_type": "code",
      "execution_count": null,
      "metadata": {
        "colab": {
          "base_uri": "https://localhost:8080/"
        },
        "id": "Hi-I3gAF-DUE",
        "outputId": "a03bac92-2bd4-4908-977c-163210130eb9"
      },
      "outputs": [
        {
          "output_type": "stream",
          "name": "stderr",
          "text": [
            "100%|██████████| 50000/50000 [03:49<00:00, 218.24it/s]\n"
          ]
        }
      ],
      "source": [
        "#Use the above function to create a single Nx1 array where N is the number of sentences\n",
        "x = []\n",
        "for doc in tqdm(range(len(df))): #look up each doc in model\n",
        "    sent = avg_word2vec(df.iloc[doc])\n",
        "    x.append(sent)"
      ]
    },
    {
      "cell_type": "code",
      "execution_count": null,
      "metadata": {
        "id": "8sSDGLLR1DCm",
        "colab": {
          "base_uri": "https://localhost:8080/"
        },
        "outputId": "95666b48-0867-454f-8a54-fc3ca0790eee"
      },
      "outputs": [
        {
          "output_type": "execute_result",
          "data": {
            "text/plain": [
              "50000"
            ]
          },
          "metadata": {},
          "execution_count": 72
        }
      ],
      "source": [
        "len(x)"
      ]
    },
    {
      "cell_type": "code",
      "execution_count": null,
      "metadata": {
        "id": "A9d0AOd9-EuG"
      },
      "outputs": [],
      "source": [
        "#Define your X and y (X is your average word2vec array, y is the sentiment)\n",
        "from array import array\n",
        "X = np.array(x)\n",
        "y = df['sentiment'].values"
      ]
    },
    {
      "cell_type": "code",
      "execution_count": null,
      "metadata": {
        "id": "jpXMkgj1p4DE"
      },
      "outputs": [],
      "source": [
        "#Complete the rest of the classfication problem, i.e perform train test split, fit a model of your choice on the data, and print its classification report\n",
        "from sklearn.model_selection import train_test_split"
      ]
    },
    {
      "cell_type": "code",
      "execution_count": null,
      "metadata": {
        "id": "pI9-AgNgp3oA",
        "colab": {
          "base_uri": "https://localhost:8080/"
        },
        "outputId": "71885557-a747-4a44-c048-5eee01999bf7"
      },
      "outputs": [
        {
          "output_type": "stream",
          "name": "stdout",
          "text": [
            "(40000, 100)\n",
            "(10000, 100)\n",
            "(40000,)\n",
            "(10000,)\n"
          ]
        }
      ],
      "source": [
        "X_train, X_test, y_train, y_test = train_test_split(X, y, test_size=0.2)\n",
        "print(X_train.shape)\n",
        "print(X_test.shape)\n",
        "print(y_train.shape)\n",
        "print(y_test.shape)"
      ]
    },
    {
      "cell_type": "code",
      "execution_count": null,
      "metadata": {
        "id": "NjQN200wp3RQ",
        "colab": {
          "base_uri": "https://localhost:8080/"
        },
        "outputId": "1f3bbda1-2ed7-468f-e402-82f49cb67173"
      },
      "outputs": [
        {
          "output_type": "stream",
          "name": "stdout",
          "text": [
            "Fitting 3 folds for each of 72 candidates, totalling 216 fits\n"
          ]
        }
      ],
      "source": [
        "from sklearn.ensemble import RandomForestClassifier\n",
        "from sklearn.model_selection import GridSearchCV\n",
        "\n",
        "param_grid = {\n",
        "    'bootstrap' : [True, False],\n",
        "    'max_depth' : [24,12,3,9],\n",
        "    'min_samples_split' : [5,17,24],\n",
        "    'n_estimators' : [5,24,58]\n",
        "}\n",
        "\n",
        "rf = RandomForestClassifier()\n",
        "rfgrid_search = GridSearchCV(rf, param_grid=param_grid,cv=3, n_jobs=-1, verbose=2, scoring='accuracy')\n",
        "rfgrid_search.fit(X_train, y_train)\n",
        "rf_model = rfgrid_search.best_estimator_\n",
        "y_pred = rf_model.predict(X_test)"
      ]
    },
    {
      "cell_type": "code",
      "execution_count": null,
      "metadata": {
        "id": "iCQFqne1p3Nw",
        "colab": {
          "base_uri": "https://localhost:8080/"
        },
        "outputId": "4cc8b5ba-a611-41ba-f4f3-685b7db620a0"
      },
      "outputs": [
        {
          "output_type": "execute_result",
          "data": {
            "text/plain": [
              "1.0"
            ]
          },
          "metadata": {},
          "execution_count": 82
        }
      ],
      "source": [
        "for_accuracy = accuracy_score(y_test, y_pred)\n",
        "for_accuracy"
      ]
    },
    {
      "cell_type": "markdown",
      "metadata": {
        "id": "FLabj102B7o4"
      },
      "source": [
        "# Research Task\n"
      ]
    },
    {
      "cell_type": "markdown",
      "metadata": {
        "id": "6UlZz4ceB_5k"
      },
      "source": [
        "Research how the Bidirectional Encoder Representations from Transformers (BERT) Model creates Word Embeddings and how it maintains context and captures semantic meaning between words and sentences."
      ]
    }
  ],
  "metadata": {
    "colab": {
      "provenance": [],
      "include_colab_link": true
    },
    "kernelspec": {
      "display_name": "Python 3",
      "name": "python3"
    },
    "language_info": {
      "name": "python"
    }
  },
  "nbformat": 4,
  "nbformat_minor": 0
}